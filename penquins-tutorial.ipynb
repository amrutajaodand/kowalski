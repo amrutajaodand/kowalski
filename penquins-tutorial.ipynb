{
 "cells": [
  {
   "cell_type": "markdown",
   "source": [
    "## penquins client library"
   ],
   "metadata": {
    "collapsed": false
   }
  },
  {
   "cell_type": "markdown",
   "source": [
    "### Imports"
   ],
   "metadata": {
    "collapsed": false
   }
  },
  {
   "cell_type": "code",
   "execution_count": 1,
   "outputs": [],
   "source": [
    "from IPython.core.display import display, HTML\n",
    "import json\n",
    "from penquins import Kowalski"
   ],
   "metadata": {
    "collapsed": false,
    "pycharm": {
     "name": "#%%\n",
     "is_executing": false
    }
   }
  },
  {
   "cell_type": "code",
   "execution_count": 2,
   "outputs": [],
   "source": [
    "with open('secrets_penquins.json', 'r') as f:\n",
    "    secrets = json.load(f)\n",
    "k = Kowalski(username=secrets['kowalski']['username'],\n",
    "             password=secrets['kowalski']['password'])"
   ],
   "metadata": {
    "collapsed": false,
    "pycharm": {
     "name": "#%%\n",
     "is_executing": false
    }
   }
  },
  {
   "cell_type": "markdown",
   "source": [
    "### Query examples\n",
    "\n",
    "*Sample cone search 1*\n",
    "\n",
    "Get all objects from the `ZTF_alerts` catalog within `8` arcseconds for two sky positions \n",
    "`(173.5155088, 33.0845502), (172.1345, 30.5412)`\n",
    "and return, in addition to the default fields, `objectId`'s, `candidate.rcid`'s, and `candidate.rb`'s. "
   ],
   "metadata": {
    "collapsed": false,
    "pycharm": {
     "name": "#%% md\n"
    }
   }
  },
  {
   "cell_type": "code",
   "execution_count": 3,
   "outputs": [
    {
     "data": {
      "text/plain": "{'ZTF_alerts': {'(173_5155088, 33_0845502)': [{'_id': '404387932115015001_ZTF18aabcyiy',\n    'objectId': 'ZTF18aabcyiy',\n    'candidate': {'rcid': 21, 'rb': 0.3766666650772095}}],\n  '(172_1345, 30_5412)': []}}"
     },
     "metadata": {},
     "output_type": "display_data"
    }
   ],
   "source": [
    "q = {\"query_type\": \"cone_search\",\n",
    "     \"object_coordinates\": {\n",
    "         \"radec\": \"[(173.5155088, 33.0845502), (172.1345, 30.5412)]\", \n",
    "         \"cone_search_radius\": \"8\",\n",
    "         \"cone_search_unit\": \"arcsec\"\n",
    "     },\n",
    "     \"catalogs\": {\n",
    "         \"ZTF_alerts\": {\n",
    "             \"filter\": {},\n",
    "             \"projection\": {\n",
    "                 \"objectId\": 1,\n",
    "                 \"candidate.rcid\": 1,\n",
    "                 \"candidate.rb\": 1\n",
    "             }\n",
    "         }\n",
    "     }\n",
    "     }\n",
    "r = k.query(query=q)\n",
    "data = r['result_data']\n",
    "display(data)"
   ],
   "metadata": {
    "collapsed": false,
    "pycharm": {
     "name": "#%%\n",
     "is_executing": false
    }
   }
  },
  {
   "cell_type": "code",
   "execution_count": null,
   "outputs": [],
   "source": [
    "\n"
   ],
   "metadata": {
    "collapsed": false,
    "pycharm": {
     "name": "#%%\n"
    }
   }
  }
 ],
 "metadata": {
  "language_info": {
   "codemirror_mode": {
    "name": "ipython",
    "version": 2
   },
   "file_extension": ".py",
   "mimetype": "text/x-python",
   "name": "python",
   "nbconvert_exporter": "python",
   "pygments_lexer": "ipython2",
   "version": "2.7.6"
  },
  "kernelspec": {
   "name": "python3",
   "language": "python",
   "display_name": "Python 3"
  },
  "pycharm": {
   "stem_cell": {
    "cell_type": "raw",
    "source": [],
    "metadata": {
     "collapsed": false
    }
   }
  }
 },
 "nbformat": 4,
 "nbformat_minor": 0
}