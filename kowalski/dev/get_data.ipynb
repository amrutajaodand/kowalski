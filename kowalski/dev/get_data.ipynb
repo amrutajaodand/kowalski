{
 "cells": [
  {
   "cell_type": "markdown",
   "metadata": {
    "collapsed": true,
    "pycharm": {
     "name": "#%% md\n"
    }
   },
   "source": [
    "IPAH DR2"
   ]
  },
  {
   "cell_type": "code",
   "source": [
    "!mkdir /_tmp/iphas/\n",
    "!cd /_tmp/iphas/\n",
    "# light version (8 GB):\n",
    "!wget -c -r -np -nH --cut-dirs=3 --accept=fits.gz http://www.iphas.org/data/dr2/light/\n",
    "# full version (48 GB):\n",
    "#!wget -c -r -np -nH --cut-dirs=3 --accept=fits.gz http://www.iphas.org/data/dr2/light/\n",
    "!gunzip *.gz\n",
    "!python /app/dev/ingest_iphas.py"
   ],
   "metadata": {
    "collapsed": false,
    "pycharm": {
     "name": "#%%\n"
    }
   },
   "execution_count": null,
   "outputs": []
  },
  {
   "cell_type": "markdown",
   "source": [
    "2MASS"
   ],
   "metadata": {
    "collapsed": false,
    "pycharm": {
     "name": "#%% md\n"
    }
   }
  },
  {
   "cell_type": "code",
   "execution_count": null,
   "outputs": [],
   "source": [
    "!python /app/dev/fetch_2mass.py\n",
    "!cd /_tmp/twomass\n",
    "!gunzip *.gz\n",
    "!python /app/dev/ingest_2mass.py"
   ],
   "metadata": {
    "collapsed": false,
    "pycharm": {
     "name": "#%%\n"
    }
   }
  },
  {
   "cell_type": "markdown",
   "source": [
    "Gaia DR2"
   ],
   "metadata": {
    "collapsed": false
   }
  },
  {
   "cell_type": "code",
   "execution_count": null,
   "outputs": [],
   "source": [
    "!python /app/dev/fetch_gaia_dr2.py\n",
    "!python /app/dev/ingest_gaia_dr2.py"
   ],
   "metadata": {
    "collapsed": false,
    "pycharm": {
     "name": "#%%\n"
    }
   }
  },
  {
   "cell_type": "markdown",
   "source": [
    "AllWISE"
   ],
   "metadata": {
    "collapsed": false,
    "pycharm": {
     "name": "#%% md\n"
    }
   }
  },
  {
   "cell_type": "code",
   "execution_count": null,
   "outputs": [],
   "source": [
    "!mkdir /_tmp/allwise\n",
    "!cd /_tmp/allwise\n",
    "!wget https://irsa.ipac.caltech.edu/data/download/wise-allwise/wget_bz2.script\n",
    "!chmod 755 wget_bz2.script\n",
    "!./wget_bz2.script\n",
    "!bunzip2 /_tmp/allwise/irsa.ipac.caltech.edu/data/download/wise-allwise/*.bz2"
   ],
   "metadata": {
    "collapsed": false,
    "pycharm": {
     "name": "#%%\n"
    }
   }
  },
  {
   "cell_type": "markdown",
   "source": [
    "RFC 2019a"
   ],
   "metadata": {
    "collapsed": false,
    "pycharm": {
     "name": "#%% md\n"
    }
   }
  },
  {
   "cell_type": "code",
   "execution_count": null,
   "outputs": [],
   "source": [
    "!cd /_tmp\n",
    "!wget http://astrogeo.org/vlbi/solutions/rfc_2019a/rfc_2019a_cat.txt\n",
    "!python /app/dev/ingest_rfc.py"
   ],
   "metadata": {
    "collapsed": false,
    "pycharm": {
     "name": "#%%\n"
    }
   }
  }
 ],
 "metadata": {
  "language_info": {
   "codemirror_mode": {
    "name": "ipython",
    "version": 2
   },
   "file_extension": ".py",
   "mimetype": "text/x-python",
   "name": "python",
   "nbconvert_exporter": "python",
   "pygments_lexer": "ipython2",
   "version": "2.7.6"
  },
  "kernelspec": {
   "name": "python3",
   "language": "python",
   "display_name": "Python 3"
  },
  "pycharm": {
   "stem_cell": {
    "cell_type": "raw",
    "source": [],
    "metadata": {
     "collapsed": false
    }
   }
  }
 },
 "nbformat": 4,
 "nbformat_minor": 0
}