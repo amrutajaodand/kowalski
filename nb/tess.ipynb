{
 "cells": [
  {
   "cell_type": "markdown",
   "metadata": {},
   "source": [
    "# ZTF alerts triggered in TESS Northern Fields\n",
    "\n",
    "The [Zwicky Transient Facility (ZTF)](https://ztf.caltech.edu) will conduct a public survey of all 13 TESS northern sectors in 2019-2020. The sectors (as much as is visible from the Palomar Observatory on a particular night) will be mapped every night in the $g$ and $r$ filters concurrently with the TESS observations. \n",
    "\n",
    "The observations of the first TESS Northern sector (sector 14) have begun on July 18, 2019. \n",
    "\n",
    "The ZTF alerts for the transient events discovered in the TESS fields will have the [alert packet](https://zwickytransientfacility.github.io/ztf-avro-alert/) field `programpi` in the `candidate` block set to `TESS`. Note that events may be triggered from transient, reoccurring variable, or moving objects.\n",
    "\n",
    "A compressed nightly tar-ball with the alert packets converted into the `JSON` format will be immediately made available to the public via ZTF's bucket on `Google Cloud`. The alerts in the TESS fields will be additionally cross-matched against a number of external catalogs. Furthermore, we anticipate executing multiple machine learning (ML) classifiers on the alerts. Initially, the catalogs will include `2MASS_PSC`, `AllWISE`, `IPHAS_DR2`, and `Gaia_DR2` and the ML classifiers will include `braai`, a deep-learning-based real-bogus classifier."
   ]
  },
  {
   "cell_type": "markdown",
   "metadata": {},
   "source": [
    "## Accessing the alerts\n",
    "\n",
    "### Downloading the data\n",
    "\n",
    "If you have a `Google` account (any), you can access the nightly tar-balls at [https://console.cloud.google.com/storage/browser/ztf-tess](https://console.cloud.google.com/storage/browser/ztf-tess)\n",
    "\n",
    "Alternatively, individual tar-balls may be downloaded at https://storage.googleapis.com/ztf-tess/YYYYMMDD.tar.gz\n",
    "\n",
    "You can also list and download the data programmatically."
   ]
  },
  {
   "cell_type": "code",
   "execution_count": 36,
   "metadata": {},
   "outputs": [
    {
     "name": "stdout",
     "output_type": "stream",
     "text": [
      "Requirement already satisfied: requests in /Users/dmitryduev/anaconda3/lib/python3.7/site-packages (2.21.0)\n",
      "Requirement already satisfied: urllib3<1.25,>=1.21.1 in /Users/dmitryduev/anaconda3/lib/python3.7/site-packages (from requests) (1.24.1)\n",
      "Requirement already satisfied: certifi>=2017.4.17 in /Users/dmitryduev/anaconda3/lib/python3.7/site-packages (from requests) (2019.3.9)\n",
      "Requirement already satisfied: idna<2.9,>=2.5 in /Users/dmitryduev/anaconda3/lib/python3.7/site-packages (from requests) (2.8)\n",
      "Requirement already satisfied: chardet<3.1.0,>=3.0.2 in /Users/dmitryduev/anaconda3/lib/python3.7/site-packages (from requests) (3.0.4)\n"
     ]
    }
   ],
   "source": [
    "from IPython.core.display import display, HTML\n",
    "!pip install requests\n",
    "import requests"
   ]
  },
  {
   "cell_type": "code",
   "execution_count": 35,
   "metadata": {},
   "outputs": [
    {
     "name": "stdout",
     "output_type": "stream",
     "text": [
      "Requirement already satisfied: humanize in /Users/dmitryduev/anaconda3/lib/python3.7/site-packages (0.5.1)\n"
     ]
    }
   ],
   "source": [
    "# a library to print large numbers in human-readable format\n",
    "!pip install humanize\n",
    "import humanize"
   ]
  },
  {
   "cell_type": "markdown",
   "metadata": {},
   "source": [
    "Get a list of individual tar-ball meta-data:"
   ]
  },
  {
   "cell_type": "code",
   "execution_count": 37,
   "metadata": {},
   "outputs": [],
   "source": [
    "r = requests.get('https://www.googleapis.com/storage/v1/b/ztf-tess/o')\n",
    "tbs = r.json()['items']"
   ]
  },
  {
   "cell_type": "code",
   "execution_count": 39,
   "metadata": {},
   "outputs": [
    {
     "data": {
      "text/html": [
       "<a href=\"https://www.googleapis.com/download/storage/v1/b/ztf-tess/o/20190713.tar.gz?generation=1563306222357804&alt=media\">20190713.tar.gz</a> (size: 2.2 GB)"
      ],
      "text/plain": [
       "<IPython.core.display.HTML object>"
      ]
     },
     "metadata": {},
     "output_type": "display_data"
    },
    {
     "data": {
      "text/html": [
       "<a href=\"https://www.googleapis.com/download/storage/v1/b/ztf-tess/o/20190714.tar.gz?generation=1563307943684840&alt=media\">20190714.tar.gz</a> (size: 1.7 GB)"
      ],
      "text/plain": [
       "<IPython.core.display.HTML object>"
      ]
     },
     "metadata": {},
     "output_type": "display_data"
    },
    {
     "data": {
      "text/html": [
       "<a href=\"https://www.googleapis.com/download/storage/v1/b/ztf-tess/o/20190715.tar.gz?generation=1563308511573089&alt=media\">20190715.tar.gz</a> (size: 2.2 GB)"
      ],
      "text/plain": [
       "<IPython.core.display.HTML object>"
      ]
     },
     "metadata": {},
     "output_type": "display_data"
    },
    {
     "data": {
      "text/html": [
       "<a href=\"https://www.googleapis.com/download/storage/v1/b/ztf-tess/o/20190716.tar.gz?generation=1563308582985350&alt=media\">20190716.tar.gz</a> (size: 1.9 GB)"
      ],
      "text/plain": [
       "<IPython.core.display.HTML object>"
      ]
     },
     "metadata": {},
     "output_type": "display_data"
    }
   ],
   "source": [
    "for tb in tbs:\n",
    "    display(HTML(f\"\"\"<a href=\"{tb['mediaLink']}\">{tb['name']}</a> (size: {humanize.naturalsize(tb['size'])})\"\"\"))"
   ]
  },
  {
   "cell_type": "markdown",
   "metadata": {},
   "source": [
    "Let's download and unpack the data for July 14, 2019."
   ]
  },
  {
   "cell_type": "code",
   "execution_count": 47,
   "metadata": {},
   "outputs": [],
   "source": [
    "#!wget https://storage.googleapis.com/ztf-tess/20190714.tar.gz\n",
    "#!tar -xf 20190714.tar.gz"
   ]
  },
  {
   "cell_type": "markdown",
   "metadata": {},
   "source": [
    "### Displaying the data\n",
    "\n",
    "Let us load, parse, and display a few alerts.\n",
    "\n",
    "An alert from a know SN:"
   ]
  },
  {
   "cell_type": "code",
   "execution_count": null,
   "metadata": {},
   "outputs": [],
   "source": [
    "candid = 924463071815015006\n",
    "\n",
    "with open(f'20190714/{candid}.json', 'r') as "
   ]
  }
 ],
 "metadata": {
  "kernelspec": {
   "display_name": "Python 3",
   "language": "python",
   "name": "python3"
  },
  "language_info": {
   "codemirror_mode": {
    "name": "ipython",
    "version": 3
   },
   "file_extension": ".py",
   "mimetype": "text/x-python",
   "name": "python",
   "nbconvert_exporter": "python",
   "pygments_lexer": "ipython3",
   "version": "3.7.3"
  }
 },
 "nbformat": 4,
 "nbformat_minor": 2
}
