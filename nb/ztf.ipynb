{
 "cells": [
  {
   "cell_type": "markdown",
   "metadata": {},
   "source": [
    "# ZTF data: alerts and light curves\n",
    "\n",
    "---\n",
    "\n",
    "Run this notebook in the browser in `Google Colab`: \n",
    "\n",
    "<a href=\"https://colab.research.google.com/github/dmitryduev/kowalski/blob/master/nb/ztf.ipynb\" target=\"_blank\"><img src=\"https://colab.research.google.com/assets/colab-badge.svg\"></a>\n",
    "\n",
    "<b>Tip:</b> if you are running this notebook in `Google Colab` and run out of disk space with the default runtime, try changing it to a GPU-accelerated one in `Runtime` -> `Change runtime type` -> `Hardware accelerator` -> `GPU`.\n",
    "\n",
    "---"
   ]
  },
  {
   "cell_type": "markdown",
   "metadata": {},
   "source": [
    "## ZTF alerts\n",
    "\n",
    "See [here](https://zwickytransientfacility.github.io/ztf-avro-alert/) for a detailed description of the ZTF alert packet contents.\n",
    "\n",
    "A dedicated `Kafka` consumer running on the Caltech's `Kowalski` instance listens to the ZTF alert stream. All alerts are saved into the database. To optimize data storage/querying and to remove redundant data, the alert data are dealt with as follows.\n",
    "\n",
    "- Individual alerts minus the `prv_candidates` block are stored in the `ZTF_alerts` collection. Machine learning models are executed on individual alerts and the results are save to the `classifications` block.\n",
    "\n",
    "- The contents of the `prv_candidates` blocks of individual alerts are stored in the `ZTF_alerts_aux` collection per `objectId`. No filtering is applied, however all duplicate entries originating from different alerts are removed. [In rare cases, there may be both a detection and a non-detection for the same value of `candidate.jd` due to uncertanties in the astrometry.] The data in `prv_candidates` are stored as a set meaning that they are not ordered. Additionally, the information on cross-matched sources from external catalogs (within $5\"$) is saved to the `cross_matches` block.\n",
    "\n",
    "Let us look at examples."
   ]
  },
  {
   "cell_type": "code",
   "execution_count": 1,
   "metadata": {},
   "outputs": [],
   "source": [
    "from IPython.core.display import display, HTML, JSON\n",
    "import json\n",
    "\n",
    "from penquins import Kowalski"
   ]
  },
  {
   "cell_type": "code",
   "execution_count": 4,
   "metadata": {},
   "outputs": [
    {
     "name": "stdout",
     "output_type": "stream",
     "text": [
      "Connection OK: True\n"
     ]
    }
   ],
   "source": [
    "# with open('secrets_penquins.json', 'r') as f:\n",
    "#     secrets = json.load(f)\n",
    "\n",
    "# k = Kowalski(username=secrets['kowalski']['username'], password=secrets['kowalski']['password'])\n",
    "\n",
    "k = Kowalski(host='localhost', port=8000, protocol='http', username='admin', password='admin')\n",
    "\n",
    "connection_ok = k.check_connection()\n",
    "print(f'Connection OK: {connection_ok}')"
   ]
  },
  {
   "cell_type": "code",
   "execution_count": null,
   "metadata": {},
   "outputs": [],
   "source": []
  }
 ],
 "metadata": {
  "kernelspec": {
   "display_name": "Python 3",
   "language": "python",
   "name": "python3"
  },
  "language_info": {
   "codemirror_mode": {
    "name": "ipython",
    "version": 3
   },
   "file_extension": ".py",
   "mimetype": "text/x-python",
   "name": "python",
   "nbconvert_exporter": "python",
   "pygments_lexer": "ipython3",
   "version": "3.7.3"
  }
 },
 "nbformat": 4,
 "nbformat_minor": 2
}
