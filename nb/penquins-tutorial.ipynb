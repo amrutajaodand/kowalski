{
 "cells": [
  {
   "cell_type": "markdown",
   "metadata": {},
   "source": [
    "# `penquins`: a `python` client library for `kowalski` "
   ]
  },
  {
   "cell_type": "markdown",
   "metadata": {},
   "source": [
    "*`penquins` - Processing ENormous Queries of ztf Users INStantaneously - Zero to Hero*\n",
    "\n",
    "In this tutorial, we will explore the details of how to programmatically query `kowalski` with `python >3.6`. We will also cover the best practices and pro tips."
   ]
  },
  {
   "cell_type": "markdown",
   "metadata": {},
   "source": [
    "## Installation\n",
    "\n",
    "[`penuquins`](https://github.com/dmitryduev/kowalski/blob/master/penquins.py) is very lightweight and only depends on `pymongo` and `requests`. Use `pip` to install it into your environment:"
   ]
  },
  {
   "cell_type": "code",
   "execution_count": 2,
   "metadata": {},
   "outputs": [],
   "source": [
    "#!pip install git+https://github.com/dmitryduev/kowalski.git"
   ]
  },
  {
   "cell_type": "markdown",
   "metadata": {},
   "source": [
    "## Quick start"
   ]
  },
  {
   "cell_type": "code",
   "execution_count": 3,
   "metadata": {
    "collapsed": false,
    "pycharm": {
     "is_executing": false,
     "name": "#%%\n"
    }
   },
   "outputs": [],
   "source": [
    "from IPython.core.display import display, HTML\n",
    "import json\n",
    "\n",
    "from penquins import Kowalski"
   ]
  },
  {
   "cell_type": "markdown",
   "metadata": {},
   "source": [
    "For security, let us store the access credentials in a `json` file `secrets_penquins.json`:"
   ]
  },
  {
   "cell_type": "code",
   "execution_count": 4,
   "metadata": {},
   "outputs": [],
   "source": [
    "secrets = {\n",
    "    \"kowalski\": {\n",
    "        \"username\": \"YOUR_USERNAME\",\n",
    "        \"password\": \"YOUR_PASSWORD\"\n",
    "    }\n",
    "}\n",
    "\n",
    "with open('secrets.json', 'w') as f:\n",
    "    json.dump(secrets, f)"
   ]
  },
  {
   "cell_type": "markdown",
   "metadata": {},
   "source": [
    "Load the credentials and initialize a `Kowalski` object:"
   ]
  },
  {
   "cell_type": "code",
   "execution_count": 24,
   "metadata": {
    "collapsed": false,
    "pycharm": {
     "is_executing": false,
     "name": "#%%\n"
    }
   },
   "outputs": [],
   "source": [
    "with open('secrets_penquins.json', 'r') as f:\n",
    "    secrets = json.load(f)\n",
    "\n",
    "k = Kowalski(username=secrets['kowalski']['username'], password=secrets['kowalski']['password'])"
   ]
  },
  {
   "cell_type": "markdown",
   "metadata": {},
   "source": [
    "By default, the `Kowalski` object will try to connect to the `kowalski` instance running at Caltech using the following parameters:\n",
    "```python\n",
    "protocol='https', host='kowalski.caltech.edu', port=443\n",
    "```\n",
    "\n",
    "You can explicitely set those if you are connecting to another instance of `kowalski`.\n",
    "\n",
    "Set `verbose=True` if you want more feedback from `Kowalski`."
   ]
  },
  {
   "cell_type": "markdown",
   "metadata": {},
   "source": [
    "Let us check that the connection is healthy:"
   ]
  },
  {
   "cell_type": "code",
   "execution_count": 25,
   "metadata": {},
   "outputs": [
    {
     "name": "stdout",
     "output_type": "stream",
     "text": [
      "Connection OK: True\n"
     ]
    }
   ],
   "source": [
    "connection_ok = k.check_connection()\n",
    "print(f'Connection OK: {connection_ok}')"
   ]
  },
  {
   "cell_type": "markdown",
   "metadata": {},
   "source": [
    "Now let us construct a simple query that should return the `candid` of a ZTF alert from the `ZTF_alerts` collection and run it. \n",
    "\n",
    "_Please see below for more info on the available query types and how to (efficiently) construct them_."
   ]
  },
  {
   "cell_type": "code",
   "execution_count": 49,
   "metadata": {},
   "outputs": [
    {
     "data": {
      "text/plain": [
       "{'user': 'admin',\n",
       " 'kwargs': {},\n",
       " 'status': 'done',\n",
       " 'result_data': {'query_result': [{'candid': 714287740515015072}]}}"
      ]
     },
     "metadata": {},
     "output_type": "display_data"
    }
   ],
   "source": [
    "q = {\"query_type\": \"find\",\n",
    "     \"query\": {\n",
    "         \"catalog\": \"ZTF_alerts\",\n",
    "         \"filter\": {\"candid\": 714287740515015072},\n",
    "#          \"filter\": {\"objectId\": \"ZTF18acrkaks\"},\n",
    "         \"projection\": {\"_id\": 0, \"candid\": 1},\n",
    "     }\n",
    "     }\n",
    "r = k.query(query=q)\n",
    "display(r)"
   ]
  },
  {
   "cell_type": "markdown",
   "metadata": {},
   "source": [
    "This query will block the execution of your program until it receives the result or when it hits the default timeout, which is set to _24 hours_. You can manually set up the query timeout in _milliseconds_ after which it will be killed on the server:"
   ]
  },
  {
   "cell_type": "code",
   "execution_count": 47,
   "metadata": {},
   "outputs": [
    {
     "data": {
      "text/plain": [
       "{'user': 'admin',\n",
       " 'kwargs': {'max_time_ms': 10},\n",
       " 'status': 'done',\n",
       " 'result_data': {'query_result': [{'candid': 714287740515015072}]}}"
      ]
     },
     "execution_count": 47,
     "metadata": {},
     "output_type": "execute_result"
    }
   ],
   "source": [
    "q['kwargs'] = {'max_time_ms': 10}\n",
    "r = k.query(query=q)\n",
    "r"
   ]
  },
  {
   "cell_type": "markdown",
   "metadata": {},
   "source": [
    "Starting from `penquins` version `1.0.0`, queries are no longer registered in the database and saved to disk _by default_,\n",
    "which provides significant execution speed improvement.\n",
    "\n",
    "You can enqueue a query on the server. This may be useful for long-running queries:"
   ]
  },
  {
   "cell_type": "code",
   "execution_count": 57,
   "metadata": {},
   "outputs": [
    {
     "data": {
      "text/plain": [
       "{'status': 'enqueued', 'query_id': '73746ff65cb943ce3092b65844749cd7'}"
      ]
     },
     "metadata": {},
     "output_type": "display_data"
    }
   ],
   "source": [
    "q['kwargs'] = {'enqueue_only': True}\n",
    "r = k.query(query=q)\n",
    "display(r)"
   ]
  },
  {
   "cell_type": "markdown",
   "metadata": {},
   "source": [
    "Executing this query will return a query `id` that can be then used to retrieve the query result:"
   ]
  },
  {
   "cell_type": "code",
   "execution_count": 58,
   "metadata": {},
   "outputs": [
    {
     "data": {
      "text/plain": [
       "{'task_id': '73746ff65cb943ce3092b65844749cd7',\n",
       " 'result': '{\"query_result\": [{\"candid\": 714287740515015072}]}'}"
      ]
     },
     "metadata": {},
     "output_type": "display_data"
    }
   ],
   "source": [
    "qid = r['query_id']\n",
    "result = k.get_query(query_id=qid, part='result')\n",
    "display(result)"
   ]
  },
  {
   "cell_type": "markdown",
   "metadata": {},
   "source": [
    "You can also retrieve the original query:"
   ]
  },
  {
   "cell_type": "code",
   "execution_count": 59,
   "metadata": {},
   "outputs": [
    {
     "data": {
      "text/plain": [
       "{'task_id': '73746ff65cb943ce3092b65844749cd7',\n",
       " 'result': '{\"query_type\": \"find\", \"query\": {\"catalog\": \"ZTF_alerts\", \"filter\": {\"candid\": 714287740515015072}, \"projection\": {\"_id\": 0, \"candid\": 1}}, \"kwargs\": {\"enqueue_only\": true, \"_id\": \"e3oq02iy9htw8on76mdq4en5qwhl3w7w\"}, \"user\": \"admin\"}'}"
      ]
     },
     "metadata": {},
     "output_type": "display_data"
    }
   ],
   "source": [
    "result = k.get_query(query_id=qid, part='task')\n",
    "display(result)"
   ]
  },
  {
   "cell_type": "markdown",
   "metadata": {},
   "source": [
    "Or delete the query from Kowalski:"
   ]
  },
  {
   "cell_type": "code",
   "execution_count": 60,
   "metadata": {},
   "outputs": [
    {
     "data": {
      "text/plain": [
       "{'message': 'success'}"
      ]
     },
     "metadata": {},
     "output_type": "display_data"
    }
   ],
   "source": [
    "result = k.delete_query(query_id=qid)\n",
    "display(result)"
   ]
  },
  {
   "cell_type": "markdown",
   "metadata": {},
   "source": [
    "By default, the queries/results stored on `kowalski` are deleted after five days. \n",
    "To override this, set a manual expiration interval in days:"
   ]
  },
  {
   "cell_type": "code",
   "execution_count": 56,
   "metadata": {},
   "outputs": [],
   "source": [
    "q[\"kwargs\"] = {\"query_expiration_interval\": 30}"
   ]
  },
  {
   "cell_type": "markdown",
   "metadata": {},
   "source": [
    "## Error management\n",
    "\n",
    "Note: `kowalski` will refuse connection if your installed version of `penquins` is outdated.\n",
    "\n",
    "In case a query fails, the result will contain the traceback error message. Using our running example query:"
   ]
  },
  {
   "cell_type": "code",
   "execution_count": 66,
   "metadata": {},
   "outputs": [
    {
     "name": "stdout",
     "output_type": "stream",
     "text": [
      "Traceback (most recent call last):\n",
      "  File \"/app/server.py\", line 951, in execute_query\n",
      "    query_result['query_result'] = await _select.to_list(length=None)\n",
      "  File \"/usr/local/lib/python3.6/site-packages/motor/core.py\", line 1133, in _to_list\n",
      "    result = get_more_result.result()\n",
      "  File \"/usr/local/lib/python3.6/concurrent/futures/thread.py\", line 56, in run\n",
      "    result = self.fn(*self.args, **self.kwargs)\n",
      "  File \"/usr/local/lib/python3.6/site-packages/pymongo/cursor.py\", line 1140, in _refresh\n",
      "    self.__send_message(q)\n",
      "  File \"/usr/local/lib/python3.6/site-packages/pymongo/cursor.py\", line 1010, in __send_message\n",
      "    helpers._check_command_response(first)\n",
      "  File \"/usr/local/lib/python3.6/site-packages/pymongo/helpers.py\", line 155, in _check_command_response\n",
      "    raise OperationFailure(msg % errmsg, code, response)\n",
      "pymongo.errors.OperationFailure: Projection cannot have a mix of inclusion and exclusion.\n",
      "\n"
     ]
    }
   ],
   "source": [
    "q = {\"query_type\": \"find\",\n",
    "     \"query\": {\n",
    "         \"catalog\": \"ZTF_alerts\",\n",
    "         \"filter\": {\"candid\": 714287740515015072},\n",
    "#          \"filter\": {\"objectId\": \"ZTF18acrkaks\"},\n",
    "         \"projection\": {\"_id\": 0, \"candid\": 1, \"objectId\": 0},\n",
    "     }\n",
    "     }\n",
    "\n",
    "r = k.query(query=q)\n",
    "# r\n",
    "print(r['msg'])"
   ]
  },
  {
   "cell_type": "markdown",
   "metadata": {},
   "source": [
    "## Querying `kowalski`\n",
    "\n",
    "`Kowalski`'s API supports several types of queries: `info`, `cone_search`, `general_search`, and a number of frequently-used sub-types of general search (`find`, _todo:_ `find_one`, _todo:_ `aggregate`).\n",
    "\n",
    "`Kowalski` uses a `MongoDB` `NoQSL` database on the backend. The query syntax is therefore based on the `MongoDB` query language, `MQL`. It might look unusual if you are experienced in `SQL`, but feels quite natural if you are using `python`."
   ]
  },
  {
   "cell_type": "markdown",
   "metadata": {},
   "source": [
    "### General advice, recommendations, and best practices\n",
    "\n",
    "`Kowalski` gives a lot of power to its users, so it is expected that it is used responsibly."
   ]
  },
  {
   "cell_type": "markdown",
   "metadata": {},
   "source": [
    "- Check available catalogs:"
   ]
  },
  {
   "cell_type": "code",
   "execution_count": null,
   "metadata": {},
   "outputs": [],
   "source": [
    "q = {\"query_type\": \"info\",\n",
    "     \"query\": {\n",
    "         \"command\": \"catalog_names\"\n",
    "     }\n",
    "     }\n",
    "r = k.query(query=q)\n",
    "display(r['result_data']['query_result'])"
   ]
  },
  {
   "cell_type": "markdown",
   "metadata": {},
   "source": [
    "- To check the available \"fields\" (think \"columns\" in SQL/table-speak) for a particular catalog, explore the last ingested document.\n",
    "    - `MongoDB` does not enforce any schema by default meaning that the contents of individual documents in a collection/catalog may differ from one another."
   ]
  },
  {
   "cell_type": "code",
   "execution_count": 76,
   "metadata": {},
   "outputs": [],
   "source": [
    "q = {\"query_type\": \"general_search\",\n",
    "     \"query\": \"db['ZTF_alerts'].find().sort([('_id', -1)]).limit(1)\"\n",
    "     }\n",
    "r = k.query(query=q)\n",
    "# r['result_data']['query_result'][0]"
   ]
  },
  {
   "cell_type": "markdown",
   "metadata": {},
   "source": [
    "- Before querying a catalog, explore its stats and available indexes. \n",
    "\n",
    "    - You want to minimize the required I/O operations. Indexes on \"fields\" (think \"columns\" in `SQL`/table-speak) provide a fast way to find the location of a \"document\" (think catalog entry) on disk for further retrieval, or even to fetch the field value if no other data is needed (so-called \"covered queries\"). \n",
    "    - Indexes may be compound to spead-up multi-field queries / enable multi-field covered queries.\n",
    "    - Whenever possible, construct your queries to use indexes. A query that cannot use an index will initiate a full collection (catalog) scan, which for large catalogs may be very costly in terms of I/O = time.\n",
    "\n",
    "- If possible, construct your queries in such a way that the result is small(er) in size. Think of a way to \"slice\" your query into smaller chunks; this is usually good for performance."
   ]
  },
  {
   "cell_type": "markdown",
   "metadata": {},
   "source": [
    "To illustrate the advice given above, let us assume we want to query the `ZTF_alerts` catalog. "
   ]
  },
  {
   "cell_type": "code",
   "execution_count": 77,
   "metadata": {},
   "outputs": [
    {
     "name": "stdout",
     "output_type": "stream",
     "text": [
      "Requirement already satisfied: humanize in /Users/dmitryduev/anaconda3/lib/python3.7/site-packages (0.5.1)\n"
     ]
    }
   ],
   "source": [
    "# print large numbers in human-readable format\n",
    "!pip install humanize\n",
    "import humanize"
   ]
  },
  {
   "cell_type": "code",
   "execution_count": null,
   "metadata": {},
   "outputs": [],
   "source": [
    "q = {\"query_type\": \"info\",\n",
    "     \"query\": {\n",
    "         \"command\": \"index_info\",\n",
    "         \"catalog\": \"ZTF_alerts\"\n",
    "     }\n",
    "     }\n",
    "r = k.query(query=q)\n",
    "display(r['result_data']['query_result'])"
   ]
  },
  {
   "cell_type": "markdown",
   "metadata": {},
   "source": [
    "That's a lot of data! You definitely want to minimize I/O for your queries! Let us explore the available indexes:"
   ]
  },
  {
   "cell_type": "code",
   "execution_count": null,
   "metadata": {},
   "outputs": [],
   "source": [
    "q = {\"query_type\": \"info\",\n",
    "     \"query\": {\n",
    "         \"command\": \"catalog_info\",\n",
    "         \"catalog\": \"ZTF_alerts\"\n",
    "     }\n",
    "     }\n",
    "r = k.query(query=q)\n",
    "size = r['result_data']['query_result']"
   ]
  },
  {
   "cell_type": "markdown",
   "metadata": {
    "pycharm": {
     "name": "#%% md\n"
    }
   },
   "source": [
    "### Query examples\n",
    "\n",
    "*Sample cone search 1*\n",
    "\n",
    "Get all objects from the `ZTF_alerts` catalog within `8` arcseconds for two sky positions \n",
    "`(173.5155088, 33.0845502), (172.1345, 30.5412)`\n",
    "and return, `_id`'s, `objectId`'s, `candidate.rcid`'s, and `candidate.rb`'s. "
   ]
  },
  {
   "cell_type": "code",
   "execution_count": 3,
   "metadata": {
    "collapsed": false,
    "pycharm": {
     "is_executing": false,
     "name": "#%%\n"
    }
   },
   "outputs": [
    {
     "data": {
      "text/plain": [
       "{'ZTF_alerts': {'(173_5155088, 33_0845502)': [{'_id': '404387932115015001_ZTF18aabcyiy',\n",
       "    'objectId': 'ZTF18aabcyiy',\n",
       "    'candidate': {'rcid': 21, 'rb': 0.3766666650772095}}],\n",
       "  '(172_1345, 30_5412)': []}}"
      ]
     },
     "metadata": {},
     "output_type": "display_data"
    }
   ],
   "source": [
    "q = {\"query_type\": \"cone_search\",\n",
    "     \"object_coordinates\": {\n",
    "         \"radec\": \"[(173.5155088, 33.0845502), (172.1345, 30.5412)]\", \n",
    "         \"cone_search_radius\": \"8\",\n",
    "         \"cone_search_unit\": \"arcsec\"\n",
    "     },\n",
    "     \"catalogs\": {\n",
    "         \"ZTF_alerts\": {\n",
    "             \"filter\": {},\n",
    "             \"projection\": {\n",
    "                 \"objectId\": 1,\n",
    "                 \"candidate.rcid\": 1,\n",
    "                 \"candidate.rb\": 1\n",
    "             }\n",
    "         }\n",
    "     }\n",
    "     }\n",
    "r = k.query(query=q)\n",
    "data = r['result_data']\n",
    "display(data)"
   ]
  },
  {
   "cell_type": "code",
   "execution_count": null,
   "metadata": {
    "collapsed": false,
    "pycharm": {
     "name": "#%%\n"
    }
   },
   "outputs": [],
   "source": [
    "\n"
   ]
  }
 ],
 "metadata": {
  "kernelspec": {
   "display_name": "Python 3",
   "language": "python",
   "name": "python3"
  },
  "language_info": {
   "codemirror_mode": {
    "name": "ipython",
    "version": 3
   },
   "file_extension": ".py",
   "mimetype": "text/x-python",
   "name": "python",
   "nbconvert_exporter": "python",
   "pygments_lexer": "ipython3",
   "version": "3.7.3"
  },
  "pycharm": {
   "stem_cell": {
    "cell_type": "raw",
    "metadata": {
     "collapsed": false
    },
    "source": []
   }
  }
 },
 "nbformat": 4,
 "nbformat_minor": 2
}
