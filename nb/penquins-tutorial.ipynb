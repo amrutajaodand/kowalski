{
 "cells": [
  {
   "cell_type": "markdown",
   "metadata": {},
   "source": [
    "# `penquins`: a `python` client library for `kowalski` \n",
    "\n",
    "---\n",
    "\n",
    "Run this notebook in the browser in `Google Colab`: \n",
    "\n",
    "<a href=\"https://colab.research.google.com/github/dmitryduev/kowalski/blob/master/nb/penquins-tutorial.ipynb\" target=\"_blank\"><img src=\"https://colab.research.google.com/assets/colab-badge.svg\"></a>\n",
    "\n",
    "<b>Tip:</b> if you are running this notebook in `Google Colab` and run out of disk space with the default runtime, try changing it to a GPU-accelerated one in `Runtime` -> `Change runtime type` -> `Hardware accelerator` -> `GPU`.\n",
    "\n",
    "---"
   ]
  },
  {
   "cell_type": "markdown",
   "metadata": {},
   "source": [
    "`penquins` - **p**rocessing **en**ormous **q**ueries of `kowalski` **u**sers **ins**tantaneously \n",
    "\n",
    "## Zero to Hero\n",
    "\n",
    "In this tutorial, we will explore the details of how to (efficiently) programmatically query `kowalski` with `python >3.6`. We will also cover the best practices and pro tips.\n",
    "\n",
    "<div style=\"color: #155724;\n",
    "    background-color: #d4edda;\n",
    "    border-color: #c3e6cb;\n",
    "    padding: .75rem 1.25rem;\n",
    "    margin-bottom: 1rem;\n",
    "    border: 1px solid transparent;\n",
    "    border-radius: .25rem;\">\n",
    "    <b>Note:</b> it is strongly recommended to thoroughly study this notebook if you want to efficiently use <tt>kowalski</tt>. <tt>Kowalski</tt> gives a lot of power to its users, so it is expected that it is used responsibly.\n",
    "</div>"
   ]
  },
  {
   "cell_type": "markdown",
   "metadata": {},
   "source": [
    "## Installation\n",
    "\n",
    "[`penuquins`](https://github.com/dmitryduev/kowalski/blob/master/penquins.py) is very lightweight and only depends on `pymongo` and `requests`. Use `pip` to install it into your environment:"
   ]
  },
  {
   "cell_type": "code",
   "execution_count": 1,
   "metadata": {},
   "outputs": [
    {
     "name": "stdout",
     "output_type": "stream",
     "text": [
      "Collecting git+https://github.com/dmitryduev/kowalski.git\n",
      "  Cloning https://github.com/dmitryduev/kowalski.git to /tmp/pip-req-build-2zs0r8m5\n",
      "  Running command git clone -q https://github.com/dmitryduev/kowalski.git /tmp/pip-req-build-2zs0r8m5\n",
      "Requirement already satisfied (use --upgrade to upgrade): penquins==1.0.1 from git+https://github.com/dmitryduev/kowalski.git in /data/ztf/anaconda3/lib/python3.6/site-packages\n",
      "Requirement already satisfied: pymongo>=3.4.0 in /data/ztf/anaconda3/lib/python3.6/site-packages (from penquins==1.0.1) (3.7.2)\n",
      "Requirement already satisfied: pytest>=3.3.0 in /data/ztf/anaconda3/lib/python3.6/site-packages (from penquins==1.0.1) (3.5.1)\n",
      "Requirement already satisfied: requests>=2.18.4 in /data/ztf/anaconda3/lib/python3.6/site-packages (from penquins==1.0.1) (2.18.4)\n",
      "Requirement already satisfied: py>=1.5.0 in /data/ztf/anaconda3/lib/python3.6/site-packages (from pytest>=3.3.0->penquins==1.0.1) (1.5.3)\n",
      "Requirement already satisfied: six>=1.10.0 in /data/ztf/anaconda3/lib/python3.6/site-packages (from pytest>=3.3.0->penquins==1.0.1) (1.11.0)\n",
      "Requirement already satisfied: setuptools in /data/ztf/anaconda3/lib/python3.6/site-packages (from pytest>=3.3.0->penquins==1.0.1) (39.1.0)\n",
      "Requirement already satisfied: attrs>=17.4.0 in /data/ztf/anaconda3/lib/python3.6/site-packages (from pytest>=3.3.0->penquins==1.0.1) (18.1.0)\n",
      "Requirement already satisfied: more-itertools>=4.0.0 in /data/ztf/anaconda3/lib/python3.6/site-packages (from pytest>=3.3.0->penquins==1.0.1) (4.1.0)\n",
      "Requirement already satisfied: pluggy<0.7,>=0.5 in /data/ztf/anaconda3/lib/python3.6/site-packages (from pytest>=3.3.0->penquins==1.0.1) (0.6.0)\n",
      "Requirement already satisfied: chardet<3.1.0,>=3.0.2 in /data/ztf/anaconda3/lib/python3.6/site-packages (from requests>=2.18.4->penquins==1.0.1) (3.0.4)\n",
      "Requirement already satisfied: idna<2.7,>=2.5 in /data/ztf/anaconda3/lib/python3.6/site-packages (from requests>=2.18.4->penquins==1.0.1) (2.6)\n",
      "Requirement already satisfied: urllib3<1.23,>=1.21.1 in /data/ztf/anaconda3/lib/python3.6/site-packages (from requests>=2.18.4->penquins==1.0.1) (1.22)\n",
      "Requirement already satisfied: certifi>=2017.4.17 in /data/ztf/anaconda3/lib/python3.6/site-packages (from requests>=2.18.4->penquins==1.0.1) (2019.9.11)\n",
      "Building wheels for collected packages: penquins\n",
      "  Building wheel for penquins (setup.py) ... \u001b[?25ldone\n",
      "\u001b[?25h  Created wheel for penquins: filename=penquins-1.0.1-cp36-none-any.whl size=4065 sha256=4f6090b8fdd74a622186f5675ecc848b168f00fcaaa0f396d8d13e2d847d74a3\n",
      "  Stored in directory: /tmp/pip-ephem-wheel-cache-jga92m2h/wheels/bd/d1/4d/130550e0acb3c3dc15f45217f25ea42f669bbd43af6e32f2d1\n",
      "Successfully built penquins\n"
     ]
    }
   ],
   "source": [
    "!pip install git+https://github.com/dmitryduev/kowalski.git\n",
    "!pip install pymongo"
   ]
  },
  {
   "cell_type": "markdown",
   "metadata": {},
   "source": [
    "## Quick start\n",
    "\n",
    "Import the necessities:"
   ]
  },
  {
   "cell_type": "code",
   "execution_count": 17,
   "metadata": {
    "collapsed": false,
    "jupyter": {
     "outputs_hidden": false
    },
    "pycharm": {
     "is_executing": false,
     "name": "#%%\n"
    }
   },
   "outputs": [],
   "source": [
    "from IPython.core.display import display, HTML, JSON\n",
    "import json\n",
    "from bson.json_util import dumps, loads \n",
    "\n",
    "from penquins import Kowalski"
   ]
  },
  {
   "cell_type": "markdown",
   "metadata": {},
   "source": [
    "For security, let us store the access credentials in a `json` file `secrets_penquins.json`:"
   ]
  },
  {
   "cell_type": "code",
   "execution_count": 3,
   "metadata": {},
   "outputs": [],
   "source": [
    "secrets = {\n",
    "    \"kowalski\": {\n",
    "        \"username\": \"YOUR_USERNAME\",\n",
    "        \"password\": \"YOUR_PASSWORD\"\n",
    "    }\n",
    "}\n",
    "\n",
    "# with open('secrets_penquins.json', 'w') as f:\n",
    "#     json.dump(secrets, f)"
   ]
  },
  {
   "cell_type": "markdown",
   "metadata": {},
   "source": [
    "Load the credentials and initialize a `Kowalski` object:"
   ]
  },
  {
   "cell_type": "code",
   "execution_count": 4,
   "metadata": {
    "collapsed": false,
    "jupyter": {
     "outputs_hidden": false
    },
    "pycharm": {
     "is_executing": false,
     "name": "#%%\n"
    }
   },
   "outputs": [],
   "source": [
    "with open('secrets_penquins.json', 'r') as f:\n",
    "    secrets = json.load(f)\n",
    "\n",
    "k = Kowalski(username=secrets['kowalski']['username'], password=secrets['kowalski']['password'])"
   ]
  },
  {
   "cell_type": "markdown",
   "metadata": {},
   "source": [
    "By default, the `Kowalski` object will try to connect to the `kowalski` instance running at Caltech using the following parameters:\n",
    "```python\n",
    "protocol='https', host='kowalski.caltech.edu', port=443\n",
    "```\n",
    "\n",
    "You can explicitely set those if you are connecting to another instance of `kowalski`.\n",
    "\n",
    "Set `verbose=True` if you want more feedback from `Kowalski`."
   ]
  },
  {
   "cell_type": "markdown",
   "metadata": {},
   "source": [
    "Let us check that the connection is healthy:"
   ]
  },
  {
   "cell_type": "code",
   "execution_count": 5,
   "metadata": {},
   "outputs": [
    {
     "name": "stdout",
     "output_type": "stream",
     "text": [
      "Connection OK: True\n"
     ]
    }
   ],
   "source": [
    "connection_ok = k.check_connection()\n",
    "print(f'Connection OK: {connection_ok}')"
   ]
  },
  {
   "cell_type": "markdown",
   "metadata": {},
   "source": [
    "Now let us construct a simple query that should return the `candid` of a ZTF alert from the `ZTF_alerts` collection and run it. \n",
    "\n",
    "_Please see below for more info on the available query types and how to (efficiently) construct them_."
   ]
  },
  {
   "cell_type": "code",
   "execution_count": 6,
   "metadata": {},
   "outputs": [
    {
     "data": {
      "application/json": {
       "kwargs": {},
       "result_data": {
        "query_result": [
         {
          "candid": 935175894815015000
         }
        ]
       },
       "status": "done",
       "user": "admin"
      },
      "text/plain": [
       "<IPython.core.display.JSON object>"
      ]
     },
     "metadata": {
      "application/json": {
       "expanded": true
      }
     },
     "output_type": "display_data"
    }
   ],
   "source": [
    "q = {\"query_type\": \"find\",\n",
    "     \"query\": {\n",
    "         \"catalog\": \"ZTF_alerts\",\n",
    "         \"filter\": {\"candid\": 935175894815015009},\n",
    "#          \"filter\": {\"candid\": 714287740515015072},\n",
    "#          \"filter\": {\"objectId\": \"ZTF18acrkaks\"},\n",
    "         \"projection\": {\"_id\": 0, \"candid\": 1},\n",
    "     }\n",
    "     }\n",
    "r = k.query(query=q)\n",
    "display(JSON(r, expanded=True))"
   ]
  },
  {
   "cell_type": "markdown",
   "metadata": {},
   "source": [
    "This query will block the execution of your program until it receives the result or when it hits the default timeout, which is set to _5 minutes_. You can manually set up the query timeout in _milliseconds_ after which it will be killed on the server:"
   ]
  },
  {
   "cell_type": "code",
   "execution_count": 7,
   "metadata": {},
   "outputs": [
    {
     "data": {
      "text/plain": [
       "{'user': 'admin',\n",
       " 'kwargs': {'max_time_ms': 10},\n",
       " 'status': 'done',\n",
       " 'result_data': {'query_result': [{'candid': 935175894815015009}]}}"
      ]
     },
     "execution_count": 7,
     "metadata": {},
     "output_type": "execute_result"
    }
   ],
   "source": [
    "q['kwargs'] = {'max_time_ms': 10}\n",
    "r = k.query(query=q)\n",
    "r"
   ]
  },
  {
   "cell_type": "markdown",
   "metadata": {},
   "source": [
    "Starting from `penquins` version `1.0.0`, queries are no longer registered in the database and saved to disk _by default_,\n",
    "which provides significant execution speed improvement.\n",
    "\n",
    "You can enqueue a query on the server, which may be useful for long-running queries. Remember to set the `max_time_ms` parameter if you are expecting the query to run for more than five minutes."
   ]
  },
  {
   "cell_type": "code",
   "execution_count": 8,
   "metadata": {},
   "outputs": [
    {
     "data": {
      "text/plain": [
       "{'status': 'enqueued', 'query_id': '190a16a1370a142c2cc71240674051b2'}"
      ]
     },
     "metadata": {},
     "output_type": "display_data"
    }
   ],
   "source": [
    "q['kwargs'] = {'enqueue_only': True, 'max_time_ms': 600000}\n",
    "r = k.query(query=q)\n",
    "display(r)"
   ]
  },
  {
   "cell_type": "markdown",
   "metadata": {},
   "source": [
    "Executing this query will return a query `id` that can be then used to retrieve the query result:"
   ]
  },
  {
   "cell_type": "code",
   "execution_count": 9,
   "metadata": {},
   "outputs": [
    {
     "data": {
      "text/plain": [
       "{'task_id': '190a16a1370a142c2cc71240674051b2',\n",
       " 'result': '{\"query_result\": [{\"candid\": 935175894815015009}]}'}"
      ]
     },
     "metadata": {},
     "output_type": "display_data"
    }
   ],
   "source": [
    "qid = r['query_id']\n",
    "result = k.get_query(query_id=qid, part='result')\n",
    "display(result)"
   ]
  },
  {
   "cell_type": "markdown",
   "metadata": {},
   "source": [
    "You can also retrieve the original query:"
   ]
  },
  {
   "cell_type": "code",
   "execution_count": 10,
   "metadata": {},
   "outputs": [
    {
     "data": {
      "application/json": {
       "result": "{\"query_type\": \"find\", \"query\": {\"catalog\": \"ZTF_alerts\", \"filter\": {\"candid\": 935175894815015009}, \"projection\": {\"_id\": 0, \"candid\": 1}}, \"kwargs\": {\"enqueue_only\": true, \"max_time_ms\": 600000, \"_id\": \"5zas2y8qi030650k0set1ahm06d1s5ps\"}, \"user\": \"admin\"}",
       "task_id": "190a16a1370a142c2cc71240674051b2"
      },
      "text/plain": [
       "<IPython.core.display.JSON object>"
      ]
     },
     "metadata": {
      "application/json": {
       "expanded": true
      }
     },
     "output_type": "display_data"
    }
   ],
   "source": [
    "result = k.get_query(query_id=qid, part='task')\n",
    "display(JSON(result, expanded=True))"
   ]
  },
  {
   "cell_type": "markdown",
   "metadata": {},
   "source": [
    "Or delete the query from Kowalski:"
   ]
  },
  {
   "cell_type": "code",
   "execution_count": 11,
   "metadata": {},
   "outputs": [
    {
     "data": {
      "text/plain": [
       "{'message': 'success'}"
      ]
     },
     "metadata": {},
     "output_type": "display_data"
    }
   ],
   "source": [
    "result = k.delete_query(query_id=qid)\n",
    "display(result)"
   ]
  },
  {
   "cell_type": "markdown",
   "metadata": {},
   "source": [
    "By default, the queries/results stored on `kowalski` are deleted after five days. \n",
    "To override this, set a manual expiration interval in days:"
   ]
  },
  {
   "cell_type": "code",
   "execution_count": 12,
   "metadata": {},
   "outputs": [],
   "source": [
    "q[\"kwargs\"] = {\"query_expiration_interval\": 30}"
   ]
  },
  {
   "cell_type": "markdown",
   "metadata": {},
   "source": [
    "## Error management\n",
    "\n",
    "<div style=\"color: #0c5460;\n",
    "    background-color: #d1ecf1;\n",
    "    border-color: #bee5eb;\n",
    "    padding: .75rem 1.25rem;\n",
    "    margin-bottom: 1rem;\n",
    "    border: 1px solid transparent;\n",
    "    border-radius: .25rem;\">\n",
    "    <b>Note:</b> <tt>kowalski</tt> will refuse connection if your installed version of <tt>penquins</tt> is outdated.\n",
    "</div>\n",
    "\n",
    "In case a query fails, the result will contain the traceback error message. Using our running example query:"
   ]
  },
  {
   "cell_type": "code",
   "execution_count": 12,
   "metadata": {},
   "outputs": [
    {
     "name": "stdout",
     "output_type": "stream",
     "text": [
      "Traceback (most recent call last):\n",
      "  File \"/app/server.py\", line 1039, in execute_query\n",
      "    query_result['query_result'] = await _select.to_list(length=None)\n",
      "  File \"/usr/local/lib/python3.6/site-packages/motor/core.py\", line 1133, in _to_list\n",
      "    result = get_more_result.result()\n",
      "  File \"/usr/local/lib/python3.6/concurrent/futures/thread.py\", line 56, in run\n",
      "    result = self.fn(*self.args, **self.kwargs)\n",
      "  File \"/usr/local/lib/python3.6/site-packages/pymongo/cursor.py\", line 1073, in _refresh\n",
      "    self.__send_message(q)\n",
      "  File \"/usr/local/lib/python3.6/site-packages/pymongo/cursor.py\", line 955, in __send_message\n",
      "    address=self.__address)\n",
      "  File \"/usr/local/lib/python3.6/site-packages/pymongo/mongo_client.py\", line 1347, in _run_operation_with_response\n",
      "    exhaust=exhaust)\n",
      "  File \"/usr/local/lib/python3.6/site-packages/pymongo/mongo_client.py\", line 1465, in _retryable_read\n",
      "    return func(session, server, sock_info, slave_ok)\n",
      "  File \"/usr/local/lib/python3.6/site-packages/pymongo/mongo_client.py\", line 1341, in _cmd\n",
      "    unpack_res)\n",
      "  File \"/usr/local/lib/python3.6/site-packages/pymongo/server.py\", line 136, in run_operation_with_response\n",
      "    _check_command_response(first)\n",
      "  File \"/usr/local/lib/python3.6/site-packages/pymongo/helpers.py\", line 159, in _check_command_response\n",
      "    raise OperationFailure(msg % errmsg, code, response)\n",
      "pymongo.errors.OperationFailure: Projection cannot have a mix of inclusion and exclusion.\n",
      "\n"
     ]
    }
   ],
   "source": [
    "q = {\"query_type\": \"find\",\n",
    "     \"query\": {\n",
    "         \"catalog\": \"ZTF_alerts\",\n",
    "         \"filter\": {\"candid\": 714287740515015072},\n",
    "#          \"filter\": {\"objectId\": \"ZTF18acrkaks\"},\n",
    "         \"projection\": {\"_id\": 0, \"candid\": 1, \"objectId\": 0},\n",
    "     }\n",
    "     }\n",
    "\n",
    "r = k.query(query=q)\n",
    "# r\n",
    "print(r['msg'])"
   ]
  },
  {
   "cell_type": "markdown",
   "metadata": {},
   "source": [
    "## Querying `kowalski`\n",
    "\n",
    "`Kowalski`'s API supports several types of queries: `info`, `cone_search`, `general_search`, and a number of frequently-used sub-types of general search: `find`, `find_one`, `count_documents`, and `aggregate`.\n",
    "\n",
    "`Kowalski` uses a [`MongoDB` `NoQSL` database](https://mongodb.com) on the backend. The query syntax is therefore based on the `MongoDB` query language, `MQL`. It might look unusual if you are experienced in `SQL`, but feels quite natural if you are using `python`."
   ]
  },
  {
   "cell_type": "markdown",
   "metadata": {},
   "source": [
    "### General advice, recommendations, and best practices\n",
    "\n",
    "<div style=\"color: #155724;\n",
    "    background-color: #d4edda;\n",
    "    border-color: #c3e6cb;\n",
    "    padding: .75rem 1.25rem;\n",
    "    margin-bottom: 1rem;\n",
    "    border: 1px solid transparent;\n",
    "    border-radius: .25rem;\">\n",
    "    <b>Note:</b> <tt>Kowalski</tt> gives a lot of power to its users, so it is expected that it is used responsibly.\n",
    "</div>\n",
    "\n",
    "#### Query types\n",
    "\n",
    "- The `info` query type is used to get the available catalog names and information about the available indexes.\n",
    "\n",
    "- The `cone_search` query type is used to positionally cross-match one or more `ICRS` points ($R.A.$, $Decl.$) with one or more catalogs. Additional filtering, result projection/size restriction/index \"hints\" may be applied as well.\n",
    "\n",
    "- The `find` query type is used to query a catalog using a filter expression. The users have control over the result projection/size restriction and index \"hints\".\n",
    "\n",
    "- The `find_one` query type is similar to `find`, but returns the first filter expression match and does not allow result projection.\n",
    "\n",
    "- The `count_documents` query type is used to count the number of documents in a catalog that match a particular filter expression. \n",
    "\n",
    "- The `aggregate` query type is used to execute aggregation pipelines on a catalog potentially involving complicated computations and/or/involving (left outer) joins with other catalogs.\n",
    "\n",
    "- The `general_search` query type provides the lowest level access to the database. It comes with no default \"noob-protection\", so the users are encouraged to use it only when absolutely necessary.\n",
    "\n",
    "<div style=\"color: #0c5460;\n",
    "    background-color: #d1ecf1;\n",
    "    border-color: #bee5eb;\n",
    "    padding: .75rem 1.25rem;\n",
    "    margin-bottom: 1rem;\n",
    "    border: 1px solid transparent;\n",
    "    border-radius: .25rem;\">\n",
    "    <b>Note:</b> Use <tt>general_search</tt> only when absolutely necessary!<br>\n",
    "    In many cases, the new general search query sub-types should be preferred over the <tt>general_search</tt> type as they provide better readability and control over the query contents and come with some \"noob protection\": by default, such queries will time out after 5 minutes. The same also applies to the <tt>cone_search</tt> query type.<br>\n",
    "\n",
    "</div>"
   ]
  },
  {
   "cell_type": "markdown",
   "metadata": {},
   "source": [
    "#### Gotchas\n",
    "\n",
    "- Check available catalogs:"
   ]
  },
  {
   "cell_type": "code",
   "execution_count": 13,
   "metadata": {},
   "outputs": [
    {
     "data": {
      "text/plain": [
       "['sdss_ellipticals',\n",
       " 'mzls_ellipticals',\n",
       " 'milliquas_v6',\n",
       " 'legacysurveys_photoz_DR7',\n",
       " 'legacysurveys_photoz_DR6',\n",
       " 'cfht_w3_photozs',\n",
       " 'ZTF_sources_20190718',\n",
       " 'ZTF_exposures_20190718',\n",
       " 'ZTF_alerts_aux',\n",
       " 'ZTF_alerts',\n",
       " 'TNS',\n",
       " 'RFC_2019a',\n",
       " 'LAMOST_DR4_v2',\n",
       " 'Known_lenses_20180901',\n",
       " 'IPHAS_DR2',\n",
       " 'Gaia_DR2_light_curves',\n",
       " 'Gaia_DR2_WD',\n",
       " 'Gaia_DR2',\n",
       " 'CLU_20190625',\n",
       " 'CLU_20190406',\n",
       " 'CLU_20181213V2',\n",
       " 'AllWISE',\n",
       " '2MASS_XSC',\n",
       " '2MASS_PSC']"
      ]
     },
     "metadata": {},
     "output_type": "display_data"
    }
   ],
   "source": [
    "q = {\"query_type\": \"info\",\n",
    "     \"query\": {\n",
    "         \"command\": \"catalog_names\"\n",
    "     }\n",
    "     }\n",
    "r = k.query(query=q)\n",
    "catalog_names = r['result_data']['query_result']\n",
    "display(catalog_names)"
   ]
  },
  {
   "cell_type": "markdown",
   "metadata": {},
   "source": [
    "- To check the available \"fields\" (think \"columns\" in SQL/table-speak) for a particular catalog, explore the last ingested document.\n",
    "    - `MongoDB` does not enforce any schema by default meaning that the contents of individual documents in a collection/catalog may differ from one another.\n",
    "    - <b>Make sure the field you are querying actually exists!</b> For example, if you make a typo and query for a non-existent field, the database will have to perform a full collection scan looking for entries that have the mis-typed field.\n",
    "    \n",
    "For example, get the last document ingested into the `ZTF_alerts` collection:"
   ]
  },
  {
   "cell_type": "code",
   "execution_count": 18,
   "metadata": {},
   "outputs": [
    {
     "data": {
      "application/json": {
       "candid": 1017524493815015000,
       "candidate": {
        "aimage": 1.6419999599456787,
        "aimagerat": 0.3310483992099762,
        "bimage": 1.496000051498413,
        "bimagerat": 0.301612913608551,
        "candid": 1017524493815015000,
        "chinr": 0.2919999957084656,
        "chipsf": 0.9756209254264832,
        "classtar": 0.8360000252723694,
        "clrcoeff": 0.12451600283384323,
        "clrcounc": 7.695260137552395e-05,
        "clrmed": 0.7139999866485596,
        "clrrms": 0.3028010129928589,
        "dec": 19.0806087,
        "decnr": 19.0805018,
        "diffmaglim": 18.770423889160156,
        "distnr": 0.40271130204200745,
        "distpsnr1": 0.45787662267684937,
        "distpsnr2": 6.504644870758057,
        "distpsnr3": 26.199140548706055,
        "drb": 0.9685347080230713,
        "drbversion": "d6_m7",
        "dsdiff": -8.037860870361328,
        "dsnrms": 1.5764687061309814,
        "elong": 1.0975935459136963,
        "exptime": 30,
        "fid": 2,
        "field": 572,
        "fwhm": 4.960000038146973,
        "isdiffpos": "t",
        "jd": 2458772.0244907,
        "jdendhist": 2458772.0391551,
        "jdendref": 2458248.661458,
        "jdstarthist": 2458101.9664583,
        "jdstartref": 2458155.817801,
        "magap": 18.522199630737305,
        "magapbig": 18.409700393676758,
        "magdiff": -0.12283100187778473,
        "magfromlim": 0.2482229769229889,
        "maggaia": 17.59560203552246,
        "maggaiabright": -999,
        "magnr": 17.517000198364258,
        "magpsf": 18.645030975341797,
        "magzpsci": 26.079030990600586,
        "magzpscirms": 0.05876699835062027,
        "magzpsciunc": 5.1385799451963976e-05,
        "mindtoedge": 210.00900268554688,
        "nbad": 0,
        "ncovhist": 221,
        "ndethist": 104,
        "neargaia": 0.4550359547138214,
        "neargaiabright": -999,
        "nframesref": 15,
        "nid": 1017,
        "nmatches": 288,
        "nmtchps": 5,
        "nneg": 0,
        "objectidps1": 130891599828517100,
        "objectidps2": 130891599843136200,
        "objectidps3": 130881599837308860,
        "pdiffimfilename": "ztf_20191015524491_000572_zr_c10_o_q3_scimrefdiffimg.fits",
        "pid": 1017524493815,
        "programid": 2,
        "programpi": "Prince",
        "ra": 159.9826303,
        "ranr": 159.9826697,
        "rb": 0.5328571200370789,
        "rbversion": "t17_f5_c3",
        "rcid": 38,
        "rfid": 572120238,
        "scorr": 9.07828712463379,
        "seeratio": 0.8374618291854858,
        "sgmag1": 17.430299758911133,
        "sgmag2": 22.009199142456055,
        "sgmag3": -999,
        "sgscore1": 1,
        "sgscore2": 0.8483989834785461,
        "sgscore3": 0.06476789712905884,
        "sharpnr": -0.00800000037997961,
        "sigmagap": 0.1873999983072281,
        "sigmagapbig": 0.21629999577999115,
        "sigmagnr": 0.014000000432133675,
        "sigmapsf": 0.18442654609680176,
        "simag1": 17.643699645996094,
        "simag2": 21.199899673461914,
        "simag3": 21.00160026550293,
        "sky": 3.2198309898376465,
        "srmag1": 17.609800338745117,
        "srmag2": 22.220399856567383,
        "srmag3": 21.237199783325195,
        "ssdistnr": -999,
        "ssmagnr": -999,
        "ssnamenr": "null",
        "ssnrms": 9.61432933807373,
        "sumrat": 1,
        "szmag1": 17.568500518798828,
        "szmag2": 20.817899703979492,
        "szmag3": 20.532800674438477,
        "tblid": 5,
        "tooflag": 0,
        "xpos": 576.5938720703125,
        "ypos": 2870.490966796875,
        "zpclrcov": -5.841000165673904e-05,
        "zpmed": 26.163000106811523
       },
       "classifications": {
        "braai": 0.9831220507621765,
        "braai_version": "d6_m9"
       },
       "coordinates": {
        "radec_geojson": {
         "coordinates": [
          -20.01736969999999,
          19.0806087
         ],
         "type": "Point"
        },
        "radec_str": [
         "10:39:55.8313",
         "19:04:50.191"
        ]
       },
       "cutoutDifference": {
        "fileName": "candid1017524493815015005_pid1017524493815_targ_scimref.fits.gz",
        "stampData": "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\n"
       },
       "cutoutScience": {
        "fileName": "candid1017524493815015005_pid1017524493815_targ_sci.fits.gz",
        "stampData": "H4sIAK/2pV0CA+27f1jlc/7/H0JmYkJGM9PMnJk51alOdX7//n07nU51qlNzqjOjISvEZDZkNys0hIwQWkJMyGwIIaPdDSGEkBUaQkNLyMhsaGjX9zH7/e97ff75fj7v6/OX13V1dU1zev14Pu+P+/12r9Pm/KJwKFehcCoUEcX/wOHLj4Tzo/893//3yNLr/v+fr9gbzd+s+F+eT6H43z2f9n99PpP+f/N8uv+58/nKi/Mj/33eNH/x//ultP+T/cgt9it+O347fjt+O347fjt+O347fjv+5w4CF82Ssj2GrMEoublRrBX92CrDZN5Wi/+0eXKe68Wca8Ff1knZdR4sX3bifLMdbUw3OZYmLD4HOZ5ktK4OXFMRXKc04FjowXRWG/mVXfDIHPlnxZNfYaBQU0WxpwuftQ3tw3NkL6/H0VqN39GJY+M4+Zc2YzqlHt3R7QQe66dsXyue73rxbpzHcls3FWd6OL45ytlpGuxPdWO/NoF1DyVhvyFKllOD37NIqkvu+QUNm/YNEshsJK2sFfPBIMlvJhH+o5yneBL706OEnu/HM2DBsagg/EU/Gfu7UWvG2Xj9KOoTmjGuDOKvt1D0+SSWI8axbwni2xdmQ2cShkdHWeFvwPOGEvP2ZHzXtlG8PhnPQz0YLhlD+0UN3DiFI6EPU3QEZ8wItuEGgtEldH+fIH1HEzknLuJLSEBvqac0YRJjWSObzurGtWORrIcnMaUvYnpiEW9gkvUZteTtisPhacQcnSX/AxU5Hd2kTjXjLaonfFU91jHZD+009vwgZ5s9hBrqUTNKUF2Lr1JF7o9BwqO9VL4fxqBvJqt0hsAFU1ieWSJ4pOzZQ0o8smf6M4cwPKEmdE0fqpNkP79eIKuqiy06PynvtZD/Uwf25CZS0+TZTTOobo2Q+VKEPPcE5jwl1sIaVDtDKGfisd0fYZNxBNe/Ysn6oo0zf6rD+3MHBt8oBRUq9LX1mP3NuAdjCO4PkttuIfyRCtNFor8z2/G/Fofp0igciqMktZfSzxupensY5/saUgZbCTTK590K8p6NQ5uvItvYjP4f81T/JJq4Io7orVHyL+5EmxIkM3YQ539UbN7Sju3JAdJOnUNd0YSxL5aMtUpc9y1Q8K8Gsu53kHUogufURLYedFCa1ILvUBVBZYR0fR8bTUsY5yewD0XI3T7Ftq0OzEnx6J5Xorm5jtTd8voTh0jZGo//1SFYjFD+9QjB1jb8oTncuQuyt0uY91ThqlYS+HYC33vyte9bsB3qIfiW6OjjCKsONGG7sI3sIjWW6ByuVxzoc9twNMrz3zyK9k4Ftpf6cV7czMYb23FuSMBeMU7ujVGU/lF0Fw+je2MQ95UJ8uz9eB+sp/IDDfqXYvG/NIT5yAkMjzmgfwbNvSF0iR3krpli68oGNGc3YD+qCu+FEaoWqgjrk0Uz8lpXDfoTDLgfHCEw30OpfQDd0z1kZTdg2i46r47FFI4lc1bWIUE0/p82tnRHyDnaAL09WP4cQqVKJqVD5uFDWcevRihcHMLVnEhRj2jx6S5sf+vDvKKHMssQm4pEK0c7CF8s96yawPn7dgrcGvLpZ+veRkpWNOPsEM9aH4dutWjpatHLugRO9YRZU9BN5umN5O6tZmtqIzzswXByA4UdddjcC9BowCP3Yq8bI2/FFPlnT5G+rYustwz4L5xCN5hIxqyBiqw5fKYmtIdGMP57hNwnOjjxYBv83MOpf60j3azGnRVLYckY+jMcZN4zBrFVqGLGsF5QR94XalIfUZPzLzXaYAf6XyfwfjlD3r/iCX/nwHJRA+6Nch+vJOL8robVF/nRTifjTh7AfF88BfYRcnrHCP5pGu0DFnz7owSnBkk7rR/7Oxq833jQZrbDXBy++Ga0VvG02y0EqvtxxceRc5qHlOs62awbIPmNFipbZJ0rFsikBUdPiJTKCSI3NmF6sYOc9ycoXNFAst5A2uYpgjf34TKKB7Q5iG4QzXzQQ/pbI2S54kW7Y2StmiE1dYHC7fJMu+sw3mxA9cQU4X80cE7zCNZdXXg/bSF0bA2ZT89h0y6g+VSueVmNzGA8vs/jyb7OgO6cEVI/D5G+Wdb1rSGcymS2FbShyvOTe4n4T5wKR30z5pZpPN3DqP4dJ2vrwVk8T/BfrThfm0X711rM3dUyJ4tY60dxPevBe+ki7jkNxitacG2pwvqzgYxAA+u+GqKkKRZD2wwpiaLTLR04wnOkK9WizR5UT4qHXVRFydIc3v4+jKtD+B9QEjq5CqN4RWYoFvN0iKwsJeXPT2H8TjTQmYzu+zkcH4rX7VeTu2cKt8KP6sQWnDc2QKvM/J1V2FfHEkwJYbkiEd+E6G2beMvWKtxvyTr3tuE+sIDxDCWFzi4sijo2KFtRvDhMmWaS/HYVZacHOevXMMVj4vG7azFdlYBL2SkzKXs83052eRyVkSTyhmU2tg9TdNsSWbK2nmcbKNocS3L8DPpP5N5er8Iw34HyySGyHjCgXRzAdOcYmrf7CKxqw7Cxh/LrGzCsTCb9TAOulTWkFy2xqUDyItuA7dsecn+JFX+XrFucw747mQLhgCJPC7qeLgpP6iJnsgHdlX3k3VDH5p9n2HJ9DRa7n/JPaliTILO4dQLPBSGs6Q14f29As8/BhkSZg+IIvrwWyh5sxz3SiuPpWgxdw1ger8e0yULBVb1knz2LTbjEvVhNRlCy4zlZB/E7xemdKK/WkLVDvPFNybOdyQR1ojFzm8x2Fxn7ROvXDRE8swrzBeJJtQvYM8SLv1djfXOGkORfzvk1VL44hX5HHepB8fNIB/7tDRjH+1gzV4dOOMda0obvVdnXmD5yDikx5g0R+M5A5O0lvMYmyUHxk7/6MYQlM6cHxJdjsc2qcR0/geZ9YaAvZX+PaSGnbU4yOBHjjUNYNnaR/loN7vv6sO9tJmNhnKqWQfIuCWL4WTxudpz1PgU+XSf+0jCaz2KwfyNroVSQXlcvLCfzkNJIyilBjLePkK3uI+PfBvJPXsCmHqDggQH82/xUXtmF/mq53yYlyutbsN8pmb93DNv+CUqqG0jf3kfpK2o0K5pwrpf52BGhIkZ0MDRC1WrJ9eNF8/kROF6N7jk/Ba1NeO+UDPggFuX3IxRta6Jg1RDW1TNYNomXJSyg3jEFo7EYn53C5Dy8PmP4s6fIUoygu1kY4YtY1O8NULhrCN1j7WwR7vQ93o5vfT+ZulE8G4fJoJGioVZs6bVkn1vP5l8Wsf08TfqTrZSeLXo/O4ZyZTfhz2UvreJng3NoZ9oIbFkS/oyHfV2UnjWBfnsXmcd3sXFdC8UviCYfb2HDjwv4h9T4fKLlg7LnRcKroTF8j0zgmlhi9WZhm4+X0HcuoY0sYVg/h3WTmswRNdGkJsyVyeRf3Yfl5CF8QTn/E0tY1o3hKExELfubt2mIeH8NdmObZL+azXtmcO9SYomLxaWSNXyujVxHH9qWKJ6RaeGRBIr+2Ih2YzOO/FECjGNIipK9X7j8gWayn5/G9LAw7vpBtJs0eD6rJa2yFnusaOmoBRy7I6RcPIWvM4LtK5n/ftHw1SECXtH6RiVu8RfH0YnYj1eyIaCk4B4D5tpkcnwjnJIZYXNWHaF7xI/vbcBlloy8woFBuDZ0h3ycLKxTWMWWVU3YVV14PuzCdZ2DiuE5TP8Wzwy3UXhvnZxPeLeqgYyDC5zaU4OpqAXjMRNk2htQH6vGe/QIlpg6eHIETVcsKbokMlP7URtUaOJm2bYiicLvFWRLL9CmTqL+vXh8dicGrfh/4Tyax6Zxf6PAfUw32tAozr9FWL09hPM80fc5DtTnJOI+e451whahoiaK1R2SE6KN3R2sE67Jqhdvfn0Cx7ldmJVzlL6/hOpmP/6mEOa3hYPWJqL93RyZmj5S3m5Ba5B5fWaMrQ8K4++XPVs5g2ljHTlrhig9V/zzadnDiRkKdwzhuUn8ft0IZxw3RvbVLaTfuURmpRqH8Jy+IcIWyQvHVy2Yzo2IRjoo+trC6g9Ey9Wj+Mcl0zd5ML4iuebQUBDTjv0mBdotjbhXjbOprx3r/CKat2JIO6sRk6oRY+8cRmHQ/EQllU8Km14jTLpW7vf9JhwDE1iOks41GEvutQ0oT18i9G0bzmNFx+M95On9OE70w8t1mP4Sj2p5RFjVwMbsCYLXy3N9I98fu4Q6rYXg53K/F0yQOj6A7ZMI+su6MKgTxWvqyHy2i/XxQ4RuaSG7S1j15Q7SqqawPaUk+wQ1Nrk3213Cyy9EiObNyD3WkLVW5v61eXQ6C7pvpbOcEIf+K+H3g7XYfhCfu8wjTDVO2cWDlGWrOHVEhW/FJNGLe0kr7ybwgwqX9BT38ZJFJ0i27Wkh5dlYmaMWNi8oybtHtH+qeHRggOKTmwiOLWBJmSHfEsu6EuGZODXm/Q6CpdJ/RAuaP/vJ29dGyTEyEzNjFAs7uIscJG+RzLtO/OyKBk6/Tq6XIRk62UJmix/P5YnkH1GH8yHJht+Jzx70E57sAEUHmhzhplv8uDyS7yY/1kclMz6Ox4zwx5PSPY7vJz9buP0/tWR+rMCzd5bgilqCJyqEraP4q6W/XdJOqGSW5O9rMT68SLZ8rujzkH5+M1bhcaNjhPJdyZSXzaAdmiNHMUXOnaLp88awPCH8fqTo/s05/JJ5oaMllxv8WHbHky7rUXlINPtTA9bzxCs/Ez2vb0GvXyJ8QwTtBZIP4kvBcw3kFE+QJ76ZfqL4wWOSWeL5WcMjrJN8iCxOkXdAcu8G8bRlcxSfL+cXhknf3MfqS+ooqBqTzir7vHEOQ56wo6sH39t1uHIlt1I9BC8OU7K2HdPJzQTaZvEdacHvmMd2+qL4XjNhZSOlrfMYN9QT+lG0cfE05gNhAneILs+tEj5W4twhfUZ4pfL+ZDTPLeB9X8nqX8dIuXcA49my59l9+KVvZB6KZ8OWIewXytrU1+G7Q/TREo92VYjKZrnXmSZyu3pwnqzGMDZC+pshvAniCa/1Uba8CbdowmYWLlou7LZPzfo1kqd/6MDSMkN4pczCZwYMmS0YZO2Q3muPEc64fI6sfMn7Nw1UIt3A1EX+88Irb6oo/k6YtX8Yk0a8+zzZ/60Wcu8ZpQjp8hXi9S/0U7pzFEXtMOk3RHHmTVLyrgXtsiSKjlgUPxPe/1GBvqgdy3VJpPT0UrgxCfUrteR/O4rjy1FK7o5Btz+JskONWFyDnDQ2R/nBGSKVku+5knmjHVSkijd3Sz8bjxct9uCWdXVMOSgQvq36q3Dc2jrsikTKpQuZT5HZUAvD+8TXvpa9bx6iUD7yiybI+oPM0Z8c5HT0EZEOk3+75Gt0Bt8PAyi6lijOVOMsGiejYp5w+SwZ62exrxNvq+jFc9w81gP9bHytGctgPWnfLorGx/HdGkf2O4sU3Ci5cGo1DqbQHC08cZl0hZ+WMP1jAV1pLNl7a3C8X8XmsJo04beChRnWqZTkSpf3PDokXt1Gwe0eXEUJoq1OVl89jK3DguH+WpymQSyJwozTFmwn9pL+fBDnoVbUd3hwDFajl+s6Jyzkl8r6CC86V9eRfW8VlkUH3pcS8X/ZgfG5HgKbGrCcE8tK6bD53wkXLZcM+qANe3odpVmSAfcl4VnWS04kAd2jCRSe0Y3/tFZC0+OU14Qx7pyEx3txBMbJKWjEdWUtxa8t4npeBd9MY7vCj9vWgv9VJcEP1BjXCb8K32UvyP7skn56o2j4oRFMwlPOEyawXyWMtneJ1PkZYflpin6ux41Cuo2w85dB8bB+Kq/oh4VRSrUxqFZO4l5jwRxRYXtG1rylleJ/NOJb003OcgOb98tsvaxEdWcPnpNm5J5CZPt62PLkFJUdQ2ilt5fmJWPbJZy3OpGgdCpbj8xegvhhsjDLrY34FZ2knJxARsMg2S+OYzYMk2Kdx9smPe/nblzpcTIbGhx90m//EhSWGKS4rlW8rAbrH2SeD0kfu7wH70lqyperKbxaOO3VWKz3JVJxjszifJv0EOm5X3QQPXFC1iGZwrXjFJw2SfKJoxTUSm86vVf0Xo3fO4q7ZhHjnc2yJ1FKPk9CWxVH8N9BioqChD7uFPZIwvtUC1lHiY+3LZCW3ULq7SGSx+KxSoc0S1esCFWhPuCA7njsp4jXVoYw3TbANqeSwB8WyDjZQs4TrZS/7MG8QWa0TIN7/SKFW6bxjXVjEGYvSPCID4v3z7STLizrOX6egtfj8JeMY1vuwFIjfN5ZQ35zPIaqNjzfx5M3ItddXkcw2kFGcTzRyiFceyYoEjZfeVwfhX8ST9wUh+avGsnxZpnHavJvmMZ6fzs5mgTCc/1oomFhbeEp4SqfcxbNTx5SP0qQazSSaxwm1NiFKiKd6ec69Kvkmt0T6E4awH1Xj8yj8NM/DTgu6sG6YoaCj+Kx9IkHflOHu7WPzS2JeE9ohu+mCfyxHr3wuVcrs5VbS/qOBNK0vdL/Ogke08y25yx4P1vE+UcPGmHBjJMWSblhHOtxoqFvDaiNU8JXsRT+c4bTOkLo8mNZu7xBsv/wzx1GUMbNUDQn/1ck6/PNHGt/lG75rOTEPz0UZ0+zaVcveVsbyX63GdsfJwk+M0/ukUkYbe34L6hFlzWMfdM0FdFm3M/MYtoxifdTYd2sJgrfGqPqHeFlydGVwth56aLBexPJ+NJP2voaDHcnw1AL5owmtl4kLBRswv/xiHiogoJzxddvl1krH0e1TXxkRQxZsUmYd9eLn8+T87kC1/Xic22tZF7Xj3mX9JuMcTbLeuSUSAe9dIDSm4TnVnVRplKz4j4H+Xph158cOL5NRP/XNqwfit7NC2QGFjB/MoPyyjGy1FFUV8YJBwzjXVlPpvTnQkMUzXcKwgWiq1eGydujQPFpP6F6BbZXJwl9FQPp9fjf9JBRNYEvK4QlnEikfwD6Fsgrj8X8uHTLxGR8B2tIObMFdd8QxlnhoZfq2HBPE7YS6bIXJFK0RzrZUiMqWfeSD0QDJ8ozxoYJrpIsv1xB4CFZ76FxHPvqCQ6Jvz0SxJySQPEhuW99At76Llb9zk9wfR+29+VZa6VH3xCPMijdrlb2fHCEyLYewltEA3fNsV4p2XS29El3E5ahbmwqed7CQfG7SSzuMLnBdjyfRFG/Lmt/yyLePaK382XOv5P9buuVrpBA+vphgodm8ZrFT58Rr++YonSvn/xGNfaLBrAcWUNl0gjOAelVeT34E5ewpvTguFX89VE1Ze+GcFhq8CyvxnRpK1mRSQJXRHHdGiYsc5Y9PY//Qg3p+xcpyQlTVDBNWksj9CRBYBLbOxo0C9Xk/TJBhm8M13bZ6zlhtGuT8RSI99mUFF8+g/csyZkFA5p7hsjZnIj1Z+l3+7vwnxxCPd2NY7nozbuIu7+dguOFrf8Sg/VhDfbBGE4O1lJyeQz2x8fRJtYSeETy7pNFTH8WP75e+sY14vFHSM/vCmE8Qp5NOornDr/0QfHwM+bwXWUQbU9RIq+zXSLzfyAi7FlD2VfSs8bb8L0jneyoSYq3irf5knAP9MrsdlNw3ST+6xvJMXoo+ruCrPRWikoSSP2in7VH1pN+6zjKXzpJCzooi3TgSmzAHBNL8eNTwu5VGH6dwPwn6WR7leiWRbA+UkPpwTHU6ROUzoY4sTORzVeEsef0s+oZ8cysbqw/zOK4KwbDYCdOt4oibxyFp09i7ahHc+kkBXdosCRPCgcHcSjkHvd1UfhwDb59SsKORE57pA7DvnjC0vkzJ2vQDggPyszbTuqgOBwhrzQR5xbhy1HRx9kGcg8NY40Vft3Uietb6WaXWGC2FwrkXibnCb4q87V5kOD51RiyLGx6pJWykNzzSZOoKgexBvrYpB8juE66w+Ac6svmKAvINWUfcp3xws0duEXnhhU1qM/sIs9Sx7qRDsnZJcndRfH2KHlfj5J23qTkkjBl5jyBhXpcTcMESluxrh1EM92O+zzhy/2dck55/nYPvpRB6k6ewTO5ROQ/bRiy/ZLlosEz5JoeByXiO0W9EXKOlD6nkczrE+0H2iivll78lPhOaweeBg22g3IPrmZhxXnpicMkZXWy3i/39Kdhil7RYHivmpxfe2VvJH8PjmNIHsSoqMcoTFTZJHn1jfC0Wy38Lzx6k4H8ZS3YXjCwNVZ84Hnpd1l9OMQPwwtDZEnWm+OXUMh+WQq7yT9zFPVMGNMxg5z2VCupE+3o9gg/fFxPzmX92Jc3kjc3S94RChhWkVuqoiojiQtkTba3TFEvnWfzeaLhV0O4zx8i5cTDvyOTrv9vB7pbhoQlJNsWHBTp50i9UXR4g3DvOyEMxTPoVKKxG2Ypum9ausgkrl895KwbxPZWM6mvN1P8okY8O4a8b4ME3pOc1TZLl1PgnJP7/U74oqaOSLb4yvoedIMLOIaFtV6bwz7hIPDMEjqzzODlBgr3Sx8fkZ66VbwhIJ0rM5HU2FEs+1WSI0nSxzXo7c2svGmeyEwzrmsaJTdqsfQI8/Rq8DlaKVkm7J3kobXFwlXPBOmsdnHZXA3ln4nmXxKdfyE6LkvEVzqGo82P78Each/qwLZV+sIbM4Rmx7CuH8Pz1xbyXm/BcaGC4C+NmI/pJdDaKDqoxZ06i7ZZhWmgW9hqGNfpccLSkn1vJJF7kmiwfxDqZM+eDhK8uwpjsoPc9QOi2RlyUyW3b5bzX2wgHPKTMVyF79MurLsGCP5UQ+H5U7hUEUJPLeF+R3IsZxjNO2EMV6ioiAvjeCoOw44YtJkJ+HbKM2+LoVS4xnxsI2cM9XPeslFuS1PyyK5qHg1fS5viQy5Zm8i2oTbKHHVUXp1M7nt+vO82UfyvFgLXDMg56lCtP/xzkBEqrqwB8xJ2bQ2B8lF0oufg8noKtnkwHSt+7xVvuagV2w4LGSuEY5rr8ejEZ09IwPqMhcxnq9kwZkHZPSjdoon8P7aw3hJLznw8Tt0cJbdJtrygxHzhFN5flDheq6FIO4fDN0fRbuk9nUr8v8pMmqT7fduOfTyI1ias+OW0cLkGa+E4gaRGvLNJuB5XoBaOP/3UBErF46/d3077mJrHYww80JrBHQXLqHHFs62tBya7MJtk3Utk/saU2NfGU3ZBDxtWxAtXRHBNOyRzWyBfiWmncOgzwuruGPJHJFcTpJO/Jxy1v5rA1Cy6Z6epTGsk9Gs/itcmUa5rJu/4bnzLFrE+IVnjH0Znl3001JH6dTKB39VI1x5i294xAu8OkTzskPv1k7XMgdUVIS2hAZNygEDzGDlf+8kbEEbcbaEgZxydQoH5jGlhp2YquoXnbuzEZ64Xb+km+ugg0cvacUU87Dx3njZdmJvvX6Tjg99x7XOfcXlBDcFdEchtwnShg/B5EfJz67AYY3FE4wlFJHv1fej7mljhknnbFE/wiDlc+6RH/pyEb2s1dpXMnvQk711J5P+uFfMWDxv39KKLl/VfNojh4ySc/m6cL4j/RIXrpWtq1nvI+6Qe66fdnGaWjPhVg/O8RTzn9pO6u5X8l1T4nfU4npxk1cvTeDolT34Qbp6WfaztwniOH4NNGLxzAqtKOGCb+MTWJcL7a8hLW8L3tczKjgY2/t2A+7UWtvxjgAvubKND+QXNq2a5aKSbmpJ68i6uxbdRxemXD+O0RlHea8H+yyw5n3lw9tWSX9aI/kvx7f5FdK3ST9T9ZD0gGrtplNTXeqn45yzGY1o57ZsoKflhdFuq8XlF+/dIp1gumsgU3z1WRfHZ0nOn+3HvDLIqFMV7cTepo1E8b4p3vaEhNyDfJz1TXSG+0dmP6mAMBTIvzhtFXzNBrDHSGzfLer+ySChbOkSF8Mu+UVxPxODesUj5WdWY/5KA8Zd2wne0k/2qZKxb+v0xUco/jaHSXs8FO6s54/Y6KoqmiBxbh+fbZLy/9lDw9yFKnprD+ssI+mTxuyNqcF8yRMbtDnIeE754bYzoziVyq2Xux+R1Nzeg3ZaM5oElykNNlLxeI3tdBXtaCKbFE6gUff5ZjekmYbfjpIOrG3B9vkBq2xKuE1SSU4OU75zGePMshaEYAhWTaA5Mo35sHAYseIpbceyJCs9LJ7ldWNXZSfGX0t0umIcvmsmQbqS/VoNnaZpgdy+eB2LY+KSFYmFpX289GXYNxDRTeVmjeLP03cdHyZU5KVDVcUZGG15htbwtXWBsQvluojCyZHmwDedfQ2iFbe2dfVhbQmROSQ6Inqx/VqK9bobK72Zw/zSFTtclnTZEvmkEQ4b4Y5qawNt+1M/2oD13ieIjJDdvHoJdUxS9VIP/UBeW84TZ64JkVkofmpb+3yceEN9IRlkz/uXteNdLv89JgKc8pDzTiNEoz7J2Hu9Pw5Tu70X5Q/t/fzZma27FeHaUin3tcF0Yzdwwa55rRXe/B3VPHLniLYbeRpR/FN7XJuC/Vvr7Cg2b353BekjuszgR23wL3gumMEtf2vSDsEPGArqXJV9NMzhln/RNVQRfSURVL33vpi4SH25DK8+Y/WYH2jYHHms8Gx9W47DLM70wgXedsMBNVehTWih7fAh3cyLp3wiversoPk268K1+zMvDJHwxjt0VJb9Fet8Vg+RdNYzWKxl5itzfn5rRybNXrFCgv2+cwmUa8lYsSvcYlPPPkl8pvaVllMDV44QuiWHr6k70VwVxfRSU6yZh1Q+ier0av8yG8UHhftMkZep2TAckC2QfXMHDHUY6Wc0AoR0OMl8LoTozltCHwtgvqcErz59Xg+1WyXPpG3kfib+M1JBzvZ+cT5fIcM+hKerB1ivZsziB/9gGcqLSAbbXkfeUg2Bgivyo5II+kQ0xM2g/MRA4pglv7BRbhsTb9MP49gpjV8m8R3sx/EWDQyt81jrK2gPi4wPVuIo1lLmCFMwkkVPWia4liWhFJ6HHutns7kdTvQjy7J7jPHg2qSioEM64ZZL8exLY5JbXnBLF4IlScNE87qOj0jUkc66ZkXwdE75eQvnADOW3N+A09GF2J1Lw/QDKS5JJOWmOM16MxXt1Iub7FyjM7kNlNWAjGUW4gcANbZIfNegnxB9uSMbUInlwYgtZl8/hPVX84M9d2B9eoPhAF4ZgF/k7Dv+uf4A0hYGsd8W752VOv9GwpWoeXWSRwKJ0AOnEG++XfpBSj69Vus+lkuGvjKJ5txvDB9OsD0gXu0t8Vnw4fzpK4aUW8v4eJO3HOCxv9WM+IOv2QyepF3ajfXyQzMPv7fnHLLa4arI7kmSP2glODJDpqBKOmMC4pwrPX3qwdExQ+JgSw1Fq0m8bwuutwvQ3edaz6wj0KHGKJ1oXZZ8NTWh/mMJ6jnicc4n8iAFHr3DZ3cnkLTaQviuRigea8M1FOPXteLJOicUWU4VmUTLobVkreY33DPHr1+cpyZrFdHgv3hjGHxVPvnKQDd3CoPW1FB7ViPX0BNLeVRHaLesy20m8sZ6ik3rxXSSZ0yYzrgxSsk846jTxwVkPgZUJWFIkt36UHMhrxNZTTe6yVrJlDpzHBdGkRsnMlbl8akR8ZAFP7xTRM6qwxHWQ8vWEvF7Y7d4IwRrp6SsNZEbiMX7fAHNjFPwiHPZsHUX1yej6+vBVz5D5RCJlqQ0Y72pAV+ig+KMu4eQxyk6RTt4ozL6tibyqLrRPDODY3YAqSVjyxSCWZmHe7Ytk/XOe0pssWG5uxfleDBXSE3I3NOPTTJPeIc88H4dqzCOdLUzZM71kfiX7viwB/VuS91n9+BMbKfxdMwVeYZ6Pmwn8RTLizVqCwvJZR8tMqS3kXCrn3j9J1u0W9GN+PIUGYb9E9ML1qsQaTNInUmcTxVMkq95pIPX7CYr2qQl9NYRmzwzef8TiOSaR0twFNpRMUaoQ7vYsoHlIeohHScA5QoqwubmiB/WBWEqUC2g1TWS3LGHYIJ35/B6S/zSCTvLQWyZMvlmFWljGXyVe9O95irdK/twj3fiHapTHDVOwNYzCOYxeukiO7GvRCZ2cbpduEJDna5pFbZgndLEK/YZaQsm1OK6Q7lCrwf+FdOW7hekH6tl0+zC52yVLBsO41ndiqpvGluNAv7uL9dmSyx/2Uf6BkpBtirxfJYe6ZN9rF/6b4atPDJGxs4mMG7so+E8sposkD48ckk44Q8ZaP/reEczbh8hcWYejtQ5bJERWqIfCxAb5t3D6l3XCNXWEqgbwXCgzsH0ApyIR/7OjaL8R7pEMKxH+4GdhnV+i0gfqMf1duuFaYb0M6QI3SidObSdzPI70Tw+/d094JbEaw5pmqq2imy/nyYqrx3+RdOoN0+Tv9OCVbNA8NolO1sh+i7D2NeJ3b9XiTO0lS9bYEjNB5o/JGBLiyX6nD5s+lvy5EHrJaPvvhE3ubsOyJha/x0/xG0sUvDRClvRN72MNuD/swPWkdI1XRygR/tE+NIf5eukbSS3k7DTgua+P7MUuXCbxz0AVeTeJFp5YkH7XgaJ8jPRvQ5y9dpR8xTS6+2oxlveScfYwJUnia1sbSV8pfNk9ibraQmQ2DvPRKixNMsfCA7qP+jH9U3x9SydBWR/92/3or5gm1zKM+r5Jwgdlv7W96J9NIPNk8b6D3VTuGsf27TCqUCOaT2S9P0qk5G7J8pIhUvta8DwqfnXZArk/DbHxVjUF78+Q9mwVGdIjNHs6yL6/jYyjEtFdJa/dLTmubcH3tJ9Ny6XrWkLk5g6hyx7Av0Z657Ft+Bf6cBwYwl4teX6XzMsKycOX4nGdFA8f1LD5RA2Kg7M4vpv/7+8nWQpifGeQtA7xpVnh2sc78V/cj+2Nccw7JL/iqykuX2Rjhkf2qRk+qkUdHGT9vxcp+qSagp2dmE8V7v2uF2tYdPFwJwXrZS4+mcQYGiZNVY1lg+z/ogLHn7pQ7xJd75UOfe8C+U1jhL/uI5ReR/b58egXJsi4pI7iH4ewTQv7VKhRpocwHX7v1vexRG5Ts+mOJowG6ZYrhW9+H8Fyk/Q9OQ/ijZ7rh1AJ0+VsF3b6g+TcbWPo1otv+kL4t4+RqxMvt8ThSZJMnhFPP1pD9k2dGL4SttsiPWxrL6nvyBys68V5QzfBJ/sxGGbh/GbMV81jfSOJwAuj+DJmyXx5UvxZheaPHhyaRdKPFd6rikF1lvShV2KwXZNEXssg6QeiuI6ZJ2iOJesa4WpFD9XHy/NtncLjlX05cwzTdAjL40qKnnHgz+8joBfvfryOnDzpdjE9MiMRQu6IdB75vjrpBSOJmHSSiaeN4e8TxmsUDv5RenB/MltMssYXSvYVGFDYhfEThfeHF3C9OI17pJMsuefIt9KZtNOk7lThu6mfigoFuYficD8tM3zrOPpXezEWxGC4X/K5XoXrFel5t4qe2xTC2/PYLpOvb6vFvLmarPFeIsua0T8vHejAJOZD9Sh7LfhThYvejKPQqyBys/jzcQYKr42w7YsJ8f0OIldLzl8VQbunS7Jd9vDTGgo3D2G0OLCfOUe++H/xUTLvp0g+DEo3/L6J1IQ2lL8Kq2/341jfRW5bFd5P23Cr2zg1RfrQqKzJg/FYvLFkLvZRfIoaZ1eEwJ1RnB4VXul2GS4Lxr+3Ui4d+5xPFnGdr6KsOkzFh4MoCoKYAtLLDFFs4mfqfw2TvVm84Oh24alGCp5sRf9RParfe8gwSq4/qMAoXqJT1YKrEZetEe/+Wmy/duLdI2uxQVj/4gUc77YQOjmZ4LPSt8basGsS/8v0+lwDBbtEo3l95E9UUVzVg+4/oonSWDRr1fj+1ILuC9nLFPH7rZJX90heyJq5U8dw3i0+8Zlk/wuSFZ8KE/3UhP7OKQLSibipg7VXz5En7Jz3fQsly2QdQhHUeyewPJLMidYaTqttwyq9Oy3dgfuyGfxG+dwyhOuGDuH+NvRyvdCdCah3t2M43ULAFMT+aJTgz704zpIud283ORfI/GTL10QHVp344dp+rG/FYRyYx/cf4d3HWtC4YmX25bxfxOMeFL1+MUVImcgqlXhcn+R4tR93crLoJcLJ0kNWvV5FzYT4/ukRcn6awPSLcOydNQRSqiiZVqP5ooES3ZLMeTKq1SE27RR2ipH+56nDEPajut6BcUaNtUD0VDNHepX45Y9NuP82RuCqDnwPLeD91whu4X7TXCxWmbGyTD/r18yQW+6n4mrp1C/XkfvdNAXCRNyVRMpLnUR0vSS+Lly4bh7neXFYjwzjvL0ftzCBN6eaNZKHwbc8WEOD5FobyXy1A+/TQxSU9pC/Qeb2OOHbqgXSPu9CP7NA3nPS5dbILLyrxvjYHLqvYzFqF/D75Fkjsmaniid9rSCkqSf4zjzaawZFj4sE1wQpu6efrE3VcEi86lXR5udJlJ1azdqLmvH+OUn2Ufqle4mNu0UfW5PJMLeRYxXufVwy9SbZ95CDrKj8u0MyxB1PzlU1+HRT2D+fEn+RDvZZO/aEXnJWduM6oRr1px58f5dr7p6l8gUV0feGMVpl3xuD6NJqieTXk7pp9r/vD3F8O4h1bQjDzdI7mxao6O7D9aGS5OdlTWU/tZ/5CbwZj/qXFjLPMLDlyCVOaYzgfUBNpmRC2aKSzBbpHnfGkNY7iOlnmaEYWfOXPegulw6xU7j541Yc9w9S8Yxo86AH173CFc92krOrltR/tBK5pYnyS3twNNZJD5mjYPUchWtE39oRcie7yPMf/pmgZMLranLeFH/ZV4ezdwDv18LLDSqM66sxfyp5EJ2m8Msk8r8dx1Naj2W3hjPub+XsYukuqXH41NKZVklv/7oby62zaCQf7csM5CdPYD5mBKtw6MZNEzgnxa8r2jDfM4bjb5JZP3WRZRTu/0MP1uER8poGMJ1TR+ZLskb3jpPxsGSySfK22ULhwWoyjhjHlTyP9yUFzjgPlg/CmM6uJnDJJF7JWF2NguKZRTQrR3Hf3UXGsF/OK89cFo95Wnxys/SeHDXrOsUrtyWjv78B1yMTpH4zRPEf58jNmEDxjehzQDT8kqz9KeNEdrbiWugnXBqHzq7BlSZ85BW/v64Z2y8KbAfHyUwXnjk3DkOgHpc9Dv2eEOHyDpRLI1h2yTrfnQgbazhd9G7KdlB07QSOoSnM1eJXf+vD2ylco/JzktEPpUukzQfJ9Y9ifW0Q56ujZLQLb5/STVZSNapne9FkaLBs7sYUn0RlNIxuYZTcC4UzH9RQ1DqJs6gO80VNWP5QQ9qyRNzv9qCSLLWdFsGZrgaFUrqlZO1iBxVHdmB+Wk1+vnQGfyL2WfGrHdJp/jJN1q3dZF+qYeMH49ilH2iFjS0mDYU3CP+sUJHfZ8F9l4Xsv3Vj/E6BaaYTn3TqrOMmCL7YRPH7IWyP1lCU3cHG3yvxndOF7ZQmXNK/uXOC/LFE0q8UNr0ugmnDHL67DKhzkwi2t1IcqMV0TTNpqyVnL2nHbF3Ee0s1ugLZ76NicN+ZRKnkmM1cjW3fLEHhzPKhMHkn+kkbFn8dWyCwbUB8eAbLnmTS9klPKBat/7mDzRunMJU1kbu3Cpu1D89qycyYAfGWTiyH3+eRKN3OJ+y3TPT1rszxk924ER96IgHT18K0ykm0u6PolXGY7hOP+I8w4nZhu/Mb2LJyDvuVY3i+Ey8/0MSyc3so+U8NqRXSrx9QsukN4ZmnpYP2Sof9qQX9ZXJPw5IBDzdJnxMfO3kQS1u1MNEwobskQ51JqK6SXnkgjCVhEuvRCoLiPc7WbszPjROMrSb/tVkMSyoy35sh/VAT2hcNwrQLWM8PyT7HY4v3U/jUBFl+4SpfHRtsQ5SY1Og7xHv/Moe/KZnS56sp3BeG4+SjSOYotx3n/Dihl+dxZEt3Cc5TuGTBbOmVnJJudEA675CKii8WKVaohLOlf10iOrtLTdkN4nflc+QwhG9nH6aPhcnn+0i/xiF99PDfBc3heUxJ7oNLmK9OxLewgL2pUTimUTQguZoWlmcYJXCbBdd+FUWNYTRntLPhkDDYtwmYvxONX2Sh6PpJcmcasX4jvLKjhryHl/CPS45un6L8sSWynm/Avr8K3S1KMp4SntBJF349lqoHJQefaMB/mcxanFx7XvrdD7OkVk/i+MyD/ZQo6qFOSq4fxh2apODSRYzXeii5pJE1BbX4j+9k89+E/W6pJdqRQPDWWOliHQSkv+ZckUzRpXKtnAnCe2dwSOdyG0co/6wKw7+Fd2QeQzMtlElH37A/Hnv+HIYbLGRM9qI9Jyx7FaXQPYnlwnFy7uhE35hA4WXNFA7Wg+SpTa5vfU+D1tBPaO4wc9eSe0MNXrdoXdGH4dwlAo9PCGMIa/44RvbRDZjXDaEcWKDkYBsq6cN83YKrqg9VYAbXtmFWNqlI2xvFrGslrBsltVGy9B8xMhOdWJuH8dgmUW2Qbrs7LHstXfGTMJWfi8+9FSYzZwnD4b8NSBxBfeUcmfkjbDmqD9+LDrRmJeobI0Qzpthkj6XSWIf34hpMBeK/xwvXXjfGxlOSMDwk6/6kgpKd9VjXDJPxSz8ZmxZJ/WiaqnAtK5UetHtHCU2K/p6R+X9ikIzn5oWbRSuS4wUf1WFyDhAaaML29RCWuQhFD7dhfLCPspMl/zpDbJUszpEexOY5TFoDXukfOWm9VB4v5+mPEn5tmqLXpAueEEUnGaqsGKVgXy++g/OUCsvn3z6O4bM4MrNl/t6PojkwTOCCAYyONlzzM9hKuyi6bYDgpcKhe5fg7WThoj6MibFsej6ZfGUNwZgqnLYGNp1z+P0gNfilg1nyhJsU7WilV26UvHXePovTLjmi0KD/ZzXuRwYpCA9SqJXXnNNJdrp0cN8oa34epeTmeHKF+12hKhyF0ge+7MJ80hLpZx9+H0wDjjvmUP9drrXNj3ZXCF17Fbn3JaLJbCNzm3S1DywET+kk0CVzdrSHsORtWVIC9hul45+RIN0iAX9zEtrPxff6Z7HeGod51ywegzD+SS3YDjPmr8lsnpQ5D0veLRug+LUhUn6fSNbbXdKdpNOds4BH/HjzZukzSxG4eQD3RcIae2PIHhzHWiOaP3mSwjMXMRcHqX5e8nuPZHm8ZLgphnBWJ4wH8bwlGdA5iyXYi2F8UPqHGpNtjkByC6v2Cc8n+ikNO9BVSwf8W51kdQcut8yYWzp2qA3v4b/1EvawZE7h25FARe44mlstRGIt//09t+f+ajIPv9/h+3Ys2y1o0sPYdxz+vZmw1nLpds/KPKZKBl0j3iu92vxOD1mHfwYpfBOcbmPNCTU4bxLWOEd6TWUfemsLnk+ky17QhP8CB3lVBpndOozrpO+uikEnLJdnnKX89FYK3+qnzByD+s5xjIv12F6VXqaLwZyagG7bJJGtCopik6ja14njRkXMb8dvx2/Hb8dvx//14/8Bu1TQYsBOAAA=\n"
       },
       "cutoutTemplate": {
        "fileName": "candid1017524493815015005_ref.fits.gz",
        "stampData": "H4sIAK/2pV0CA+2bVZQV17+tcXd3d4eG3rVq1W66mTShcXfXTnAN7hrc3SE4BLfG3d2DuwUIEpzzNf+3O87LPfeM+5Q9Rga07Kpaa83fnN9sOtXDKlapEJoliz9LlhpZ/hdepcJqVAmr8+N6/+erYECx//vrVQqpE1Y9y397vSxZ/qfXK/rfXy8w4H94vWL/e9crVbNSWI0f681dutJ/PpX7/+U8QiuVzvLv69/Xv69/X/++/n39+/r39e/rf+8ld/psuS03yv0tpdyFS2QqtJLtl1t2RgG5javKfOoqGy+Ir+eRG62a3JVd5OZJL+deMpmeV2X7P5TdsUZuyCS5MU7KJqzF+5bKjl0st2t8uVF9clPMkdv0g+yhXnKrx5NtN1Fun5pc90+5A7hO9wuyo/+U6f+rzOWdcmsPlXtkoMzQzbInVskNfCD3fG153YrJ3+q8bCFHbpOYsrmiyX76XWbFdO5dXTZGXZl7PF/cmbLlY8m0LCEnGp8by8exc8u5wcff38tNdE1umb9lnlWXu6O6TBGeIft7mdUfeY6pskXOyAzh+64Yucfvyqz6Jt+NJvL4PpvQL5Oqt8ymabJ5Y8l23i3TtIHceE9l+rSVP849Pt+MNc/jHhll/twv+7iabPJQBb5uLC9uMrkrGsotnk1e93xyQ8Nklv0jd88Qme1b5YxYKq9mhOwfZfh7SdZdVG6hXTLPk8p5HSi3709yy+Vmb97I5usud+stuRdC5E79IvfXJHI7DpKZO0ZmcSmZFidl0i6Sc/GxzPXYMkcbycSvIlvrjNz+UWTLtJA5l4pz5CziZ5dZsFPO1Wcyd/fLbTGONayVu7+vnKan5WZ7IBM3iWz2brJzm8i89uT2ji079ahs0aPyJeU9WyrJfZcHPQyWt+uGvKhxZYuztg0f5FtUVc7mqnJPL5ZzIZ3M7rOyo/bJJkgn7w7rOPNITuhOec3Ry9/d5Ob9JC8vz9C9uBw0Y9aOZi/QZPwOMvnD5EyfwznclKn1QE47dDXqvIzzXk54BrlVWetrNPOSs52xhOdD41tyyelzlv1mX+oulJmSVm5YPLlPx8rW3yYn5lwFvmf/XybkcwnkxkQbI/7gXLfK7bdX9mI1ZmGq3EFz5PP/IXN/qGy5x3Jy8n0VusvWZgbijGbfg+UmbCE7Pr+ct+3lVjotc3yQ3GLv5N5gBtJ1lm8+6802RV70PbLtWcefzWXbxJd9PYCZ2CJvaALZum9kgg/L6RBX7hzm9ASzNpz9WFBagePaotmuPP8d+RqUk6MpMo2jyC21W27blzLtxsn03cPzFGfPZsgkvCzHGDnD1shMnCv3oV9evWIyj0cwR+1lF7POgaxj0VvZPNFkLt6QOcQ5lHJkr1yQ14H1WWY4zUP53r2TN5MZaV9STu9zcmffkhf/rpw6zJPzl7xRuWSqLZYpv15u9MTMSS7Zzf3lxcjHLF+U3ch7ynaQs+wRWn0hM2CH3HTvZTumkheviPwnmNFb3+TcPy6bNLncP/CkY/tlDjaXV+WJfI/uo8OVsrtay7zpJpN5vEynCsx7E7nNv8soEf7ELAxswDPPlRm9Qs6XO3I1WG5uyZ8HP/gpKj6xkOdeK7vsvtyznEWO5zLp2e8xVdBgDjyxAz4yWe48Zul9FZn5U+XsHykv0zfZFpnkFOBMt/N+h3OYPURe0WD2lPcV4SwDluNl6LRpF5lEneUNri/3blK5bjx5ddn3z//I/lxA/qWb5XzFm26lkruUvWhQRm47/LTRY9nVN2UL3pdzypFTpZScV+jq9CuZX2rKZOwku2A/XjNUTooNcmfNlq2zkzM/LLv8s9zN/D0P+h/9QDbJKdlUZWVqcj4j98orE4PnLSZbEi39eknm13TscWI5zbjX/U1y17oy/+D3ZdLIXTVKthge8PSCfMvwx3F8nHe53BrZZAPxq3nnOLfksncryImbRuZrG7k1l8q9txKvCpBX6zZ6GizTJq+8o/VkV32V+0s9eb6/0Rx/j7VE3sTS6Owj5/Oz3Oz48D4yIwH+FNqT2a0iJ+sbOUFF5QzGC8+NkZ05TLZxXdkma+TrGCHX10peI/LrD+a24lW5D1j/yLKy55mnoCdyu3jM4gH5pt9D35KnBczAMpmFzOD5rDKZOsoWZmZCSsj2Si030z6Z051lQw1+yN4uQcfnrsvGIjOa1Zez/ikedwtPHykngU9OymsyI/C2MytlvrPnGYdxrcay4s8OAXImjJR920lel9ac7VNyM4vM+floroRMlsHsIzPY/U85FZoyd2jw62b5PlREy+1kbhaQGY72uuG1r/9i38nFPnXIjRNyr9+RXXpQ/ngTZOvhMWH4y0g08j0bWdiHZ64hM3UdmR4i8yqqbI+W8m7elx3HbPzBzLzmnH4iS8+S65V7kQ+l5K6+LbPtOfc6ILfWRTmzcsikW8o88rWHzGJVNH8GbbYOlDONPNoXlbNsJ6cLn38u9meHTF7OYPxDrsF5X+wnM/4T58IeT2HeT/7Dx+h5YVo5m9BshYoyk0JlThTBqwfIFGfPX8IELTjjmx9kfmaPgtH8H59kzryUczQ269kh/897ycCreD1ZfGSl3Kvlufd+Oc/Zh8v44Bh8YHdWOfOLyoxaJ+9yuLzD0eRmxasa7eFalWUSh5LBL2Q3jZaznTn6yLwH43MxtsIAZIjNLHdyerkGVql6QjZ/Vva3Buc6FG/kfCL98Drzk4ZnSDcKr+N72vblbOMzJyVltvRFb3/JvmO/kn2Ql3GQfJMyyg2vJK/gXvk2oamVNbkGupg4TWZRS9n78MDSJXgIWl0wC78gX+Jx1iO3yXyYKt9BZr8wmZKFGSzzmjUP4R6s/ybsdpH5a7uPM2Fu0rOvZ2bDK2Tzo+PyMpNbrfCjwW1kSm+Sl5Q9PoMWSp+Vc96Hd5STOx9G2LSKWT1JLpG1sIc5MF7++xnJDvY7rAFMBOMMII/i9pC7q7uM2QBPzZK/QXX5a/I8pa+z14/lXsI/2hzDF7aSS5/htCOycdFBPLTYfZic+iv+4+mNCuGhOfmTsxiO39wrzBykZZ7ywiTMT2lmNRFe6kPPifGhZoHkbOTzwTvlYLNXZWRuFZQzKEBup2zyLYcH0qKZrLuYk2V43ySZtwXJhrdydxaRTevAX3hYjZly3teDuQLwkQsytfEki4fk7sCezJMtcUm+aRcUGPGXzEbWOvy1TFQ8n6/5/u4t50EfOVH6yNxJLHsAb181gvdwTn9fkd0CO95Kwbpg6Kjw0JwIOIjrXIVTFsNb6dBym2A52bfKt3cd85JRNif7O4t15nqgEivglCfw2P1o8k2GKS7+IjuGLB6ahL04RqbU5hy6wAmt8Pd5+BjesPMRmlwoG4I2X8aQ7zBasitgw+14P/m9A/+fRz5msHJjs69z8ICwcPm2HyKntsndvQn9xZHTaJi8RA1l/PD9lHvy0nFdZsB+uCwv90Q5HzirkLUy19bzn5V5d16B45/L7lkDN/7CWZNtl/H2QBh1yC45B2PiLZnZQzQbsEzODrRQDU8ORQv+NswF82oeyJsFX+U5LV///Jw5zx70EwxeUd7X7TJP8Orv8H1qMiL/ZnTVSqYeWpjeEl+4KDdzC3QFpzSNKa8pczulHvfDJ+dWIctOyKw5gz+9UOAb2LU7sxxtoJzo+Pep3+R9JgOOlJetDCscQtvVcsBd+H2kF4xEUwlzct/TssH55HTmfg/xsWX48H10U+CLTKuCMmVzyo5ILF+XfDK/b5V3vBnahdcformP7FFb+Nc/TU7xP1lTQXhrhtzlcGesNnL8MNconnvaJtnZ/eREkCf74KfVv8EL9IsjxdFVT9kIPCzadNnM22RnwQUn37D+DbITs8qbM1be2VbyfQqXm7QC/tJR3rBMaGSLnIAQ2Rz1ZfaQDam20yOywC1kylFYKrlfNnUEXPWOPgULNLsjrxrXb0fG7qT3XQyHMWGmHPQ6mNHZiE9PRYezWNcy8rEv3aY217qE9xelN8AD3tAictb0llsFn2z1m5yza+U8S42u4cpgOlN68vPXEHgIjTReJFOITEk6GcY4jtdll3MJjazCdz9llpf/Nh7IfEUbzOfhXR9aP7Ka+22QP+BnOHIkH8+R04qMvbdcdvtw2D2/fN9Yx9EbchrDMupExjMfGW7BcOimCoz2kgwqfgieosf0KkA2r5dtiea+7pF3De+dQ38c/U1u2mZyHsLTZ+H/LfhPpv4wFXk9+qScROTVXvh813i59Qf+4Hzjg7nv4OXNVsg7T2eNj+a78fyhi+U70Ei+TuzTjerygnrJ+51+2JveV5+57Mv8dMVDGlaQKZhO1iVTA9DxAbpENDpx+lZyfusk55+fmUsfe34ZDfFMhfG//GTt1Rdk9QHmfp2c3D3pLXScuMdlKpIti/l6Y3roI1jgVmu8ebqcNjBxXJ71YW/ZbHhMSvbll3Hyp38u3yg8uBsd3nI+v5+XN5w5602//npCzgJyskxzufvg2QA/3sm8H3gns3IkeY8/zoPZk8FufRbJS0Avn/8KrtuMRzAXdAI3N9+bHr2dtXKGhDLjzFxUNHaGzEsIy/eeCSc0lvsXvDodH/6dfvu5ERyMhvNNQIec9QU42SFbKh3Ai5rj9Wnk5IeFK16WnUEWFA8mH7/ImQj3zIGnR1WSaVZHbtSBMhsKk5kwyol6cmoUkPOUTr8wMWcNjx29xL7h8xfoGu2myl8abzjFPa/jH9+u06/o2yva0v3Zj1zs04uPcvpzti02yp5GLzfh41El5MJh7jJmYH9R+RYPJ0+PyblLl0sGV6xFg/+QTX3x9MZ1ZHPThT/BWfWi/vBKbxt9p28y9re1SiYoJ3/EFHj/m0xkrzrJjAyoLWtgpPr0rudcPzfeXJN+EkDmlmYm+5Rjjj8p8KbwHM4xRWRmPIeZyuPx9LAXXGvAM9lOeP+T/jDnKHlpyd0k6eTMmI//0EmyT5FdsQjWpTdWp+82KiZ/gQryXRxAx80p/5ffmcs48v3+mYxlNhLjkxlLy2SDZVrz/cXO07HJ7wSFZXrBwzc5qyLpuXdbmIy93kF3OwUvhZAfDdfJTivNnlbDY/GGyyvlrY6toCV40/KlMDj82wmvnUQ/n1KR74OJ8uJFo9iv5FdlljB709F0tzC5t47Kq88ePZ4Azzcm3/DBSjBZHXSweYb8teDriQ5+RgedCVdNKCqbhpzbQ+/5XIushdNaN2XWG8r24b2W+45ndor2oCPin62MvCNX5ZXtjI7JzIfM672/5KQm3/KRqYVg/PZk1Jj4chrAj/meytsNbw/nPHuklO8Vnr0EX2qOPm4wg6+Z+QD6xlYY8R2eMI+Za1VeXiu6wAVm+CV+9mo6PbGUbHK4qiHd88xXeHGAfL9dk687+72frnKJ88vAjD3Bi9PghyPxr+WHYdZF8k2hxwbDowfgt8nkauB+GJD+UZQ+NI6MGJCSbIcjHPpDq5OcF1/zzYaRa3FOzFb9D7K/BpJp91hbFNm96K9oCflC8sgsJa++cL2+cM50vmdsQpnp5EN4L3yBDv2G/B29k5ksxPvJliBX7jf2bXNhWJS+GIe11KDndie7n2agw7+Ws4LemYj3XmwBo8Pqf0WTM+C6zN+XZcrDr6XI+gvMSG20W6Oh3LboeV8MuDyt3A7R4W72IHMNfIL9SgvjDIe1phWRVweGvhBDjmUWI88gCv7V+oOc6kfRbm257fGMhflh/eHooIycsbCXV5euBC/vYd4n4Q9Dw9BNFq7NM8MeXk760G2efVIGOetecTbwwfJbchvlZT9OyR3I9dYUli0HI69AM49huP0xYF/m/Vf8eWYxuevgz3415csEI6RFx0XwpTPoPjqetZI5GU3ujz/CnLSEE/LSO9BCoqby0jAXK3l/ITx9FB1q5jbyBP//sIu/w0iGnhxzEZz3TP6W8N9MPDYqORf1Md2/i0zMr3QwesThNPLuVZTvaja4Dzb5CW5Jjhdnpas3X0zm432d6KRvxzCLN/Cog3JXvpUpyX1i0vtTvcR36UTX0V/yAbKLWHsadJwFBl5Vhv4Akw1rKTdRZ5md6GQ8XakGe1EppmxBentGut6AnvLtgGvKJyHTYKQwOCE6bJW3CN4Ga1a5xp7AMlMayZ36SvZCau6TCl+hx9yh/+2BrUYnJPu/ymmK32SkXz0kN7IEyFRfKPfYETrsqB9z4wWzF7UzyA//Oy/xrCXpYObO8jW7AlPS5xrDIKW7yn1Bbu79DtcXl7P0gGwmunOrbjIO61ibGhapJOdRMfnekMc3mZ99f8rfAh+YAJu+YvbG3v4xE7YMmTatIVw8VL73zOBZfDlsKfpnr7ORA1fIgGbo4lweOTfozRXg0Bl0kMno/S5zPJ1+3uMcHRUezRH5816u2xsOCShGNyaPq7yV0xU9rX4k5wRr6QInhHBu12bAqp/lFhwC39F/l3KmJ9DuhDtw1iD6DVnXgCybR0+j59hFdJeKpeESzitBG/p8Upm66GMNz/uarvb9A0w5XZ5LR3EPy1ZFC/OPwd1j5DSB8V/RZzIulTMuB/NI1uRjVia+xMMry0lCJ53UhF4QDYbPjofDB7vpmLvx5Von4RNYrxmeNyOXvA7wYzp8MQPd7++VsFdSuc3pqXPhipvPZT6xb85kGfzYfYR/JIV7EtNvD5A1F7bQI+DMbs+YH/g6fQXZdE9YL7OyJ4ecamRhFPyxM96zpy5nzYwVHSLn/jJyDn6vVRZN0xcScf4dCyrwGX6RLQUdpyess0L2LHq+3obc8csL5JlfMm87m8hJP1WBt+CxtmPZm+5ytp+VCYCd57O+yWi/E943dCf8y54ngV9PwC/tBsiJAzuOhRs60t03MDMb2OPReO6K7MwBPri0isw9ekzedNyLfjhwuLwheHgbtN3ykdxpZObyxfK2z+C8mKej9JjXpehw7ZjRQTAH7NuRPrmZrG+XiP5Dt2lOF80PgzZgZsJgoT172KczeCWzcp051nC+Tif/ggZP/0NPZk8uNJPtwVlcOYTX4fEOukt9XubjfDyEfhmbrK31RM7AG3ATmX4+OT0Abxz8STYyY1WJrCFb56PJUnSL9E85Q3K3LrzSHt5qWUvmGNm+41c6Ix46ixkedw3Puwyb0UnbN6Z3GnrPHbiLfKnI+TTEdwuQORceycuCH15d8eNn8rbTr+jtnkwcGK73I7otGh37ldyhr27En2rSHXripce3yvxFxsTjWSKqKijy34HaN5B5Pgb2Ik+u0pNHk41VX8gfhT1ZupsMDZT7/QhsfBd2Xiv/E9jtAgw2qKt8D+jhTehjW/Gerp/IGHrNkVhyN7H+i/B8SrhwyUu4F5aoxscLg2DHTHIc/CkHeRWjBz7ANZbg3XnQw0R0tp2uWrOGnDQwXj86/SS+Hg3Nrbsgx91JZrIPedFNfK4deUYV0ei4Z/KdhrOf7JZvFz7QAZ84ME5OfPTRFO2k6iAvDp69aL9s/d9k16eSf9k5BcUhI4/wZ8BgBVWE79ZyFveb/fhZtdmUVbYK7NrfwUPglrmS/QN+LUTPKctzx6Pvp8IHG8H6PWL++BmCd3M0z4BH7GMt02Yo6PEO2TrL5fSD66OTW8NZQ3K6TcINcs/BnNsXsC6uUeg789yY+9EXnjDHp+owY/hHinLkEOz3CzxcFcYPxh+HwiDmkfxVmKvPi+HwNbL/HEXHfP91zrsmHJezvwIrwhV3c7BXcNcrGDcEn/hSQP7dhRS0YpCC31dU8Mz8Kj3uJ4Uc761SQ44qqBC+kpz+eLmN7KPzspPhotyufBF0+gwJ5SWBD6b0lFOOTp3/V7yK845g/rPDuHiN/Qk2eQ4bFqXPVOLvYXBcDXpH8bOyy8m032fSkfGOXPSCnfSoy1vpZH25ZgF5y2rI92jBj8xzo7O2HXBl1jLy/wa7bsxNnrFPc3JxDXpAKnpte/a46UOegy6VbQZcSu/sQd8r94IeWfo/3Z9MMfOY9cW9ZMp1k//2RQXXuadQ9F2pUF7V7z1f9VokUIXZV1QqF31m6Gr6K76XIpbM/oXynUJTmZjR+XD2GTrctMHyXZgsrwu8VIk5Xg+vh7WXPw28mQzvz3QEnVeXfcY+Zh2EVwyWGXOBjsDak5Ol1enHmdmvY/B1jcewD9wUAittpdOuoWOjbd8XfODEE7npyO7Dk2TyL6X7wB/j98p5NxCepPuOXUNO+uXzhf7oafaGJ7Md/aRlDsvjj37OqVhcmfVwT9858irDQ1M2qeSGAyp/764GPs6oU+ei6HSH0ep1tL9CK29VyKX9CgrcQ3a1pPO2l31Ap5i0HH8/Kmc4XLeIz51kLjbOpBcwE3XwoTDmMDvrWH+Bmfomb93vsqN20Xss2mEOUw6W04EzbgBLXAiXPyZn3QJN5ktI7sHLzcmrnxbQGciKk8zlCnT1Jz49swHcWl/ObHJ0Si6+Didc5QwM/pX8L/nW7eOaaCbBGTlZZ8mU4OzirZRNQl8tvo2zLit3IdecnVve3bPyO78qeEQC1Wx+U9Nb+UvHD39WOuabaxp77rXCtu9UyG+p5IXckxeVa4yLLi8pusVHTH0y5HVtPBMO68Leh5CFtzjPlLPlHOS5xtMB382S/TRVXuxE3Ic8zx2fXIQnesGtgSlhR7Tal2uVDJDTkPc+QUdT0fESWK8h3FXqnpxT3HdJLfoq7DewtrzZMeU8GS8nAt5LgselgL9SdJXpkEz+OZXkhRaAK9bhK/jowXJok+55OSceQS99D//cYw0VmIkrN+RdeKiQjz+r8mRXQ8bO0JZdY7Vmcyf12dNNFbfkVclMqfEptOLbIffiQ3kJ6Zkp4BZfU/oFfXjjXDk/wfnuaTmV6bG74KR+zGcp5rEXnHDhtpyVJ+XFysb7i/JM9NONcOLlyPvTOUqHMiN7ZRYE05/OyRmPp8ZaCyfjS4/o5knhyOS/y7y7KDOTrBkFpwzGw+bQfwadk/cwhZxlZFSc/Gi5A92Fnvk4BF2R6ReZOZtFXqdhdBLyxYP973eVfdNFQRv7KTjpBnlvXii0ekPV7h6m8Git1aJqGtWI2KGyRYuq5AF8KDXPUAqtDM8Gm/eVN40uUpa+8vNEejI66kfeB6Dhg5Pk3HotL0M3+gTa/FZaTgnmc1BU5nWO3LUh8vb+Ld+wvJwdLF9gv7w19EYPNkxErw69Qa5dk52aCC6rIl/PZXhFI5hyIucVqfkBcms2l71yU6YPXJUYjzhXAP8mk9tmk+8Aus/2XV6PCAW+hAdznZCv4xz2uZm8Jf4fz+8+6iJv5A2F5Hyg4Dd4/ouDCmkVk/X3V9msMxV6fqz0vqxKbbwt/6luzM8qWJKzKEpupOfaATDa4u0yV+klY2ChCJjiy3PmFLZLgc/ZC+wv/hXZWRaepuMFyK3GbOQlt3PCOsfp/DeZ3Wj4VW8yuMVUmctF5Man9335C44o/+PnVsZJJ3/73TBRFfiPc43/RGYuflqNrvAHfb/AMzm98fDKq2GpJPKNgpev0AF7fYMz/pTXgj0/A4+FkAFh5eUcDpFJs0X+AS3lr+vJvwAGPttHQTnKKMQ/Vv4vL1Xy6XkFPWsg9zh5MZlM6JtD/pF0kETjZerwnPMs+/0zvNkHnqLPeHHpSkkVdCiUHGJer5+HH9nTQHizQWW6JV273ntmlDWswt9Kt8Yn2Y9w+Gd3BrmV6ai7YNks0eWuWC33KB3CtqP/Z5eJRw+bi3dMoq/+/FnmG7zfN7l8W79xxvSPLa9lRpDxCblWk/LMY2w0WEJefZhhA1mx+yP9qyNZ9UaOrwP7GCEvI/dO0p4sJoffXFJQtuHyj8CzhmdhnTvk3wzf7eQcIqLJzTIUryAvIuCYuPj4kYvoPCOsRXaH4uXbeM4gznkrHvCIa4aMlHObXtcoGWc3HR4bJdMDnS6DESpMk01Gx8o0Rf7LnfDEzHLeo+eNfH+mKPKa0uNHfJMtcku2Gv1nf1Q5CSrQd+l0m+moRfbIGcwZRMvA88Bp7RuhkcZyt+WXbxK+lB++TcA6vyST7c56rpNvYyeiX7I5a3+8JYS9awKn4RvxS5HF8EKtpTJ5YOdP6+jq6+XvRc8Zw8eR/2af8IGcFfPI+Aeyx8iuF5H/xv1Mbq8MZEtnzpcu1Jk+uQRdf1gIM8OvC2CyLunZ+91oriIsxD37x6bzJ5DZAYNV3E+mwWbPppDhvWTbfMDbyc6kvzHLMJ1ZK+c6bJlzEkxBpysLL75PKacZeXVmDx0SdrxDR0+PJ/alD18g/0vQ3cbj6Wf2k4WfyCFYuBRcsZseOqS03Np43138chyamN1A3mv0tJ49To8+F+LPk8nh23vxc3pRrH50bThy4s+wIGdReLRsjA1yCiaH6VfL+ZhYzka8/dVJmcw35WZgzm+nYE2wbN7ecrOhk32DZc9kZ1/oJs2DWVcP+eALN5CZnrGNGY8HA0yTv1iEgiccVsmb9+W7T0c+PU6Bd2H2enDU1uR0WjpOcvpaB/yuF3k+vTicSr96QXfKTD+NUY3nGyinUnzOHh4K6wmPw0KxbuNFV2A9NLSLa22/itfBTE9goYvVyFDY4kC47LTZMo9Oycu7HOYYJzusOB4fJmdmavyEPjO0G7k1gZmCm8afo3c0knPnO59nDrKT3yJrN/PnYLi6Idq/TB7gAW7k7/b14+NR6+R7e1O+Tvg63Oy2IS+jMO8n8eR4+eVPBPc/aSuzFkZccxlOhH//fiX7Er+N7OfT4Wb05jtVmf0j7zvTK2Kg6+J01h2xYbi6cgxnmZU5TNhF/rLM90a6Ro/jsm+bc/4lyY8McoJHwsl16dfPZUKP4lkd5caBSZ7+ja+nhs1Lkt8b8UQ0W5ecnphA7uPIn7mzh63Yk/A49CT6axL6ccfirIE+OrY1c9iXbsvMpaXrjL+NP6Kzw/3pqczDIHxnFLquiu8eqU7+lkI3zGs3dJohruyh/HSq+rKd+8ifCja5WFDuarKkjZHJSg86kZoudUQ2Xbh8/djX9Zx7Vdi+4Z/MLdofUhz+gWWTbZFvMV47gDkasFBmNuv8hn/uviZ3FrPWhZmcSxcsBpMU4tyWwWCbTsht/Rt+F/m7FHhObPJijZUpjSfF5KxWtOC+l+RsR3vVYZTMzOCwCjIb+rEW2GEAM7OrD+vAk3aT0Zm4dnP28TLrWQJnfoBh6pKz69DS6nZyqh6TidqSPYeDvtAJt6yVF/m7C4uXyL0UIadLVpkhYXg511hJjuXpTX+6zzPBD9/oaymP05PoaI3h4IgP8iJ/ht3pNMwAD8ems26GHW/T2QfRmQ7BuPNGy+tfSLYu/lZnvZzAQ3AS/hjAHI+gL5+P/x8uXwRHbWFeTvjkBu+SHdlNvq8w2rmCcFpLdJtEzr4lMgfRW3UyKiqzEBHZlcizK+jqPT7ZohX6wK9S0Z/7F+E+4Xg15957FjPKHomZjEpmNchLB4M/Z2aXVzE+f8KrExrid3Budxj6PB3oyhRZp438H+hNW8iMTszxu5pywjnnIofku8scPuJ6lQvL+0I+N/0s58FQeQu2/PhdRxsEAz1mHc5neanomxfR8udF8nLihRPI/U4DyZUT8sYfoIuzznpv6Mt4+fHf6RbjmQvO7n4aOUsvktmjyEiy4ScfHTSz3PRwQJt1clvclDeT52ywmXvvxGd5xotZZMbDa9k5Ax/sF063qV1Ppn9HOQdC6SWVZAZwRgmZkwfN0ScduNlXeb3Rwnay9Pc7P37H06s/G8/bJf+hpHAafHXum8zkv+Uco2d1yCj7HN/rD883oOt/xcf9Q1kPep6YWl75xvTijsxfITyKZ8/iI4Ppt4PoQkF83+58cl/SfWLjI8noSDPIa8OayXr3K+cQh84224/fzpPzjIw0/+ALIbJ17sif7aoC17+SL0llmVd8PhwNbfoiu4sO0Git3DvMZ9sxXIP7DoW/D5yT+QV/uE9fudddzquUcG9Z9uedfMlXyRkJz3mRvw8KDxR5LNuVrwXDkDC/6z2SffxU/ozoJdNcmZ6z5HUkl6swQ9NhpJvdZTbB87+TlSOnMVP7ZOw47gGPx4X9LnOtFnjq26s/fjfHilmLO+w/Hf8kXE2fdbfCLhvhuPC0dAJ6xiq8dEoQeXGFjGJPbpUgFwNk2tdHv1wzAX4ZLUjOuB4yy1vL2zRG/poF6JAw+OPhMqP34V1wW9L7eC+6+734j9/b8CrgAa1LyXd8mMzRgXRgPMT7k1ntKmdDIjkWNv3wHkbpJLcsev+Zc76LHlfiOwH0tFXc9xldN8cK8pY8LBmFe9IfypPzHUfL6QqTzCWjr7WSKbSBGSN7YjXCc9Ht29yyi6LI/YiHZgmV755BuwvJGP4r84ectPjbXlhhFfwygn2F48zXdXhZMeZ6ptzDMPP7juQjex1xDJbBZ2vhI5Px2Hy75evBWgNhrfvMb6vxZNRH+IfrbPWjP1jnIDN1FT+q3ZAZgHdf0JuaHpD3jX7bEr0sh/vbL6Wnw9Bl6DARnGMTOOLEG3kn8cAYeHABciYJ31dhoby1yeW1gmfD8dDh6DhstUzOu8wkzx3586s4eNVZK28sXSltpD6Oyf55RiYGvDou8t9x4/Csp8mW7bDKMt6D/0eht+Fxbhz6Wd0I9DuTfII/2tJlakb+XLSe3ERoYB3cnq+G7J5a9DzYPxiWyLyNPCrz42eU7svo6KKAfPEm0jXo8tXjwWQJ8V/u9ZasL10WXuZrp2CqcJitRBLZSXfRMeczhcyLRS5Nn0fnG0u/hafXkv3VmPHF+NQevOYs/FKIzpmtqtyi9Af6m6kDLyWHr+LByK2Z4UQf6Q70v3qw1z915cW+9eN3072qNeV7Dvd8aiNTMI3cqZG/p0X/qg9TD6cDR4c7Q/GxdvB+e/jw3VU4n73Z9ET2GX27zwzZALwh3SvYjrXFp+9/pwtni4kXXZHZd0l2NXOcfQ2dn2tnbitv6GG5FTvINB4h24HO+oycmwGjhjC7z8hm2Nl18bLwTuhUrJF1zuF5PnLe9/CP7nzPC/z2MryXDS1mmCp3A/PwHG/+SDc8BVNWzyjfC/Z/ygBZ+qV3y5Pz8JC8gTnxwsmca3M5NdjDNbNlI3/fu80K5hLG3Qx7Jmbfkh+Q7xpn8I3umYO5CVwg4zYlP/PLzd0IL00E2++T7wT5vfOUnCobuCd9NBAfOYuHPwiXMwt//UhfKMD8zYZb9pAzj96zBjrKVJ5rD57wIQnefZwegCaqPGIGSpC3x+WPFpU9fgA3fZHTKRbeP0L+PfB31RFk1nB5s9PK6Yse8sFYzT/ArtynQ1r5LvD8V+rCe2fwBDLwHl3vJb7UZT6sMVL2KB10KBp+RS4EkZVlNsgXtJnnfcteM2uLP8kZhRd9ain7ilmfDBP2gj28wnghXnP4rWxIOtZDX82PN3TCL2sVlVt9Mh7D2Sz5g6/BcY/QRTh8vLIw3dQnUwEGv0lX7YsXDHuHtsk6C48+RLct4dMFzE6H1/Sos+j9EV2XrO7HWW5vyvt88s5NlDNhiNw+RWUPRv7eF564Gm8cuk3Or+i041q64Ub0NkFBa2HID5H/nwM6WICfzmbOxtCN0ufHF+/Ka9yH3kEnPYeP90fX23LRDdDPNDS3IhYdDP9Ik41uxxlchW2ahMEL8O68ZOgW9s+Eb/U8Jl/DbnAMMxO3hJzIn9XMa0/n/Edelmf0eNaVg/01MGn3TnKejoHd2f9W9KA9aPEWer7N3vSYgnbR58E3dGz2LB0cO5Pz+Jme9GYv14B7fWXlrKXLrytDppPvg77DK034+1L50tGh8/Pcx2Cc2OjK1CYj2J/U8EyfQ3JrZGWOmHFF6pTOEuebAuMUoxvGwpfQ4gtyuRjzHnqcno1H//KnnIN42Y6yrLkonI3nd6CrjYUzen6VjTZVTg96WgV0tqe8nDI34D78cBA5mLOObD+YtNwavDiNvM5V8Ta6YPba9JnJMBQsk30l18Kjy+EBTbn/olPoBNapUh4eHyb3Lqz010+yNaLKFn8iUyaTvKP7ZMu2/ZEf7gHmNF82eXXQwgH2by37uQMu+dBdvtIf6fVkYOwvMj7y+NYOuQXIzRVw3pghcrJclBMrisw48ng0XDaHXNlJz6meXoH3OKPLzOPdINg6JvPGOXwjG/I9l43DHuReiS/jux/JlKtcq8xNrt+TPY8m2zFUXkHOoSvaqTdMQdObyR9RTF4Jzig9s5j7H571IeskT98UljNwNEy5n/dFkfc3ejrIvnz8Q77BaO3sYvyKjj2/Kt0hD51ivdzT5EPK6/KaVpD1s75h+Gv3g/LFpw+eeid7k5y/TJ9MsxkmJef6NpXXpbbczz3lfJlPvuHtC+HN5/BEYBm6ylxmlpxPjyeVOMvaYMBh73lW5vfGH+xpHrR3WLY181EhF6zY+Ue3s9/h0G2RvwdWTd7g7TIRXeSWtgqa1FHeKvihbUqVrJ1XQfNOy35Fg4vI8W/kQFqulWkZfRx/G/gz50qHbTNXNirPmomMnwxL7Z1HtsIBPcibRvnRUGG8mazLyp7Ry50hbciICHml6+Cf+LxlNqqHyZ8T3Q5nn+rTj6t1Z24Hyx9UE+bNyx4nl3Ppnvz5yNEUceRbR5YeQrs70d0O1jGop7yfYMFT5xX49BReRX/7VEteFDiz8VA521LAfXBxRAP6+1P0XET+FujtwjO6VQ407uF7nMm40ezlNnm788rf5JS8MDLpXu8fPuicyyy7HM9eirf5brGv5PsivOT1UgWeg/2rt5Kb7FeYMwY9JCs8zB6tpwedhk3X06euNED3PP87ztqrJO86vnw8PXu9nE4Ag5TdJhsFfu29kHWPV1Azv/y9qsgfAk+9514bpsCJnMG84fgwLL6H3F/I+ScaJFsBzxj6mQ7Ds9e+yZ79Iq8FMxOL7xnXC13i+as5/19hzsh/qwjrChPXJCsHwbxD0BJMPHAd7LFSNnoJmcc/oZ8BzONjfGksa8MTLNlQEA/6Bz9eW16+Bkl531x5g+DgIZPwK84h9Te8sTLPBDu1QQtH8YiR/fiT+3SDOXKSc/t20nXhlerMwh9oZcJqOaF0xDKHmVM6aLRlCs4xVnrXTSFx6AeZU8j5TH+bzV4+orMUkeyRpLI3GuMf69gz2DsgkbzmM+hov9BHzstLtlLufrx7K+t4+ExOMbxrJd0sLFhuypFynpAJadDO8X3ym93y2jHbacN5ntlyxsSTl4fPZcSfGjyXc4P1eH3prBVhJPjk/iW5PcmKNF/JHPqsVxd/jiJfsvjsHfueI4JZK8JZM3ujs5KF8OGlJPK3f6KSnWfLPwYmnM5zfeOZWz6jd/A84exXi6EyVd6r5Oq7Cv2wWaVWwiaV99BxD8o7255uf0O+iWRzd/pIEzjgaS45EfS9TvBbMrro1LjouzSahlsyhsNv9LcTMRQ4Hm5cMYte3ZizYRYfk59T3ito2TWVHLIMTeMrC9BRrxZkBB0i2xrZWn/K1LgKdzOPVwvIOYIPB9xkH8jwcPr+CfxyNdnbF+0UPUEGfKeX7yJ/8f6C+8nDaArKhS7nZZI/IIZKtjmvUq1+UsmyCWHEQnhnHmYTdon8XQdfdtnOn+SNOMpZZFRwoucKnkUnnP2cLK0nL9d6Ok1jOZOC4aFqzDzsVnEra5wqfyLYbQ+sszQN/ZVnfcQaQ/C6KB/o4HTsaPj7tcQybb/KWdweFkJfm9DF8dfyw8bu4HdwLP8dg0MXHaGrwxn568s5KnnZ38De7GXSL/Qt+LYRc2Be0ak5v6T0jOvM4ekhP9bi9KvwIwPMOzhInFl6nj3FF3mB2eXF6ajgXoVUMn099Ijff9wgW5t1p6stpyE963ER2SfkTl3Y8OFclTw+80d3c6dzvnU9BRW9IlvVpXtGh8/Jx7HoJDCSWWHHL2TAm2XkPD60NI5sZfpo5lWyhfGbkWTJVmbvLvzVHh3GpkfvzgJj4AUDYLbmvWRSk89jEsvewzPrTWAeuG5j5innZ7lPQ+BwmCY113zo0CNyMPcx/tMZWsLeEz7S77j+xwTy0hSRuUYuJmUWPnSG1ZLCpXATXO734LIN8NebVmQBDLf/b/ikv3x7DtLtrsmepiNE4zqdN+Lh+EMfH9c5KIcuYegBNvVn+brgwTPoi6nxqY18bx6eJZwOPzehnF6r5BbbTe8k20aWIzc4x8SBck6eY02L8b/zdCUY/Tn9OSO8NRdOmTRF/gaw6HJyZTldLfYjeZH/PjTygtxfXkf59/Xv69/Xv69/X//fX/8FomRUOMBOAAA=\n"
       },
       "objectId": "ZTF17aaajhyg",
       "publisher": "ZTF (www.ztf.caltech.edu)",
       "schemavsn": "3.3"
      },
      "text/plain": [
       "<IPython.core.display.JSON object>"
      ]
     },
     "metadata": {
      "application/json": {
       "expanded": false
      }
     },
     "output_type": "display_data"
    }
   ],
   "source": [
    "q = {\"query_type\": \"general_search\",\n",
    "     \"query\": \"db['ZTF_alerts'].find({}, {'_id': 0}).sort([('_id', -1)]).limit(1)\"\n",
    "     }\n",
    "r = k.query(query=q)\n",
    "alert = r['result_data']['query_result'][0]\n",
    "display(JSON(alert))"
   ]
  },
  {
   "cell_type": "markdown",
   "metadata": {},
   "source": [
    "If you are now planning to query for e.g. `objectID` or `obsjd`, or `candidate.objectId`, check that you will not trigger a full database scan (<b>spoiler:</b> you will since none of these exists in any alert):"
   ]
  },
  {
   "cell_type": "code",
   "execution_count": 19,
   "metadata": {},
   "outputs": [
    {
     "data": {
      "text/plain": [
       "False"
      ]
     },
     "execution_count": 19,
     "metadata": {},
     "output_type": "execute_result"
    }
   ],
   "source": [
    "'objectID' in alert"
   ]
  },
  {
   "cell_type": "code",
   "execution_count": 20,
   "metadata": {},
   "outputs": [
    {
     "data": {
      "text/plain": [
       "False"
      ]
     },
     "execution_count": 20,
     "metadata": {},
     "output_type": "execute_result"
    }
   ],
   "source": [
    "'obsjd' in alert"
   ]
  },
  {
   "cell_type": "code",
   "execution_count": 21,
   "metadata": {},
   "outputs": [
    {
     "data": {
      "text/plain": [
       "False"
      ]
     },
     "execution_count": 21,
     "metadata": {},
     "output_type": "execute_result"
    }
   ],
   "source": [
    "('candidate' in alert) and ('objectId' in alert['candidate'])"
   ]
  },
  {
   "cell_type": "markdown",
   "metadata": {},
   "source": [
    "- Before querying a catalog, explore its stats and <b>available indexes</b>. \n",
    "\n",
    "    - You want to minimize the required I/O operations. Indexes on \"fields\" (think \"columns\" in `SQL`/table-speak) provide a fast way to find the location of a \"document\" (think catalog entry) on disk for further retrieval, or even fetching the field value if no other data is needed (so-called \"covered queries\"). \n",
    "    - Indexes may be compound to speed-up multi-field queries / enable multi-field covered queries (see below for more details). \n",
    "    - Whenever possible, construct your queries to use indexes. A query that cannot use an index will initiate a full collection (catalog) scan, which for large catalogs may be very costly in terms of I/O = time."
   ]
  },
  {
   "cell_type": "markdown",
   "metadata": {},
   "source": [
    "To illustrate the advice given above, let us assume we want to query the `ZTF_alerts` catalog. "
   ]
  },
  {
   "cell_type": "code",
   "execution_count": 22,
   "metadata": {},
   "outputs": [
    {
     "name": "stdout",
     "output_type": "stream",
     "text": [
      "Requirement already satisfied: humanize in /data/ztf/anaconda3/lib/python3.6/site-packages (0.5.1)\n"
     ]
    }
   ],
   "source": [
    "# print large numbers in human-readable format\n",
    "!pip install humanize\n",
    "import humanize"
   ]
  },
  {
   "cell_type": "code",
   "execution_count": 23,
   "metadata": {},
   "outputs": [
    {
     "name": "stdout",
     "output_type": "stream",
     "text": [
      "Catalog size: 8.0 TB\n",
      "Number of entries: 188.3 million\n",
      "Average entry size: 42.3 kB\n"
     ]
    }
   ],
   "source": [
    "q = {\"query_type\": \"info\",\n",
    "     \"query\": {\n",
    "         \"command\": \"catalog_info\",\n",
    "         \"catalog\": \"ZTF_alerts\"\n",
    "     }\n",
    "     }\n",
    "r = k.query(query=q)\n",
    "size = r['result_data']['query_result']['size']\n",
    "count = r['result_data']['query_result']['count']\n",
    "avg_doc_size = r['result_data']['query_result']['avgObjSize']\n",
    "\n",
    "print(f'Catalog size: {humanize.naturalsize(size)}')\n",
    "print(f'Number of entries: {humanize.intword(count)}')\n",
    "print(f'Average entry size: {humanize.naturalsize(avg_doc_size)}')"
   ]
  },
  {
   "cell_type": "markdown",
   "metadata": {},
   "source": [
    "That's a lot of data! You definitely want to minimize I/O for your queries! Let us explore the available indexes:"
   ]
  },
  {
   "cell_type": "code",
   "execution_count": 24,
   "metadata": {},
   "outputs": [
    {
     "name": "stdout",
     "output_type": "stream",
     "text": [
      "index #1: \"_id_\"\n",
      "[['_id', 1]]\n",
      "\n",
      "index #2: \"coordinates.radec_geojson_2dsphere_candid_-1\"\n",
      "[['coordinates.radec_geojson', '2dsphere'], ['candid', -1]]\n",
      "\n",
      "index #3: \"coordinates.radec_geojson_2dsphere_objectId_-1\"\n",
      "[['coordinates.radec_geojson', '2dsphere'], ['objectId', -1]]\n",
      "\n",
      "index #4: \"objectId_1\"\n",
      "[['objectId', 1]]\n",
      "\n",
      "index #5: \"candid_1\"\n",
      "[['candid', 1]]\n",
      "\n",
      "index #6: \"candidate.pid_1\"\n",
      "[['candidate.pid', 1]]\n",
      "\n",
      "index #7: \"objectId_-1_candidate.pid_1\"\n",
      "[['objectId', -1], ['candidate.pid', 1]]\n",
      "\n",
      "index #8: \"candidate.pdiffimfilename_1\"\n",
      "[['candidate.pdiffimfilename', 1]]\n",
      "\n",
      "index #9: \"candidate.jd_1_candidate.programid_1_candidate.programpi_1\"\n",
      "[['candidate.jd', 1], ['candidate.programid', 1], ['candidate.programpi', 1]]\n",
      "\n",
      "index #10: \"candidate.jd_-1_classifications.braai_-1_candid_-1\"\n",
      "[['candidate.jd', -1], ['classifications.braai', -1], ['candid', -1]]\n",
      "\n",
      "index #11: \"jd__braai__magpsf__isdiffpos__ndethist\"\n",
      "[['candidate.jd', 1], ['classifications.braai', 1], ['candidate.magpsf', 1], ['candidate.isdiffpos', 1], ['candidate.ndethist', 1]]\n",
      "\n",
      "index #12: \"jd_field_rb_drb_braai_ndethhist_magpsf_isdiffpos\"\n",
      "[['candidate.jd', 1], ['candidate.field', 1], ['candidate.rb', 1], ['candidate.drb', 1], ['candidate.ndethist', 1], ['candidate.magpsf', 1], ['candidate.isdiffpos', 1], ['objectId', 1]]\n",
      "\n"
     ]
    }
   ],
   "source": [
    "q = {\"query_type\": \"info\",\n",
    "     \"query\": {\n",
    "         \"command\": \"index_info\",\n",
    "         \"catalog\": \"ZTF_alerts\"\n",
    "     }\n",
    "     }\n",
    "r = k.query(query=q)\n",
    "\n",
    "# indexes = [v['key'] for k, v in r['result_data']['query_result'].items()]\n",
    "# for ii, ind in enumerate(indexes):\n",
    "#     print(f'index #{ii+1}: {ind}')\n",
    "\n",
    "indexes = r['result_data']['query_result']\n",
    "for ii, (kk, vv) in enumerate(indexes.items()):\n",
    "    print(f'index #{ii+1}: \"{kk}\"\\n{vv[\"key\"]}\\n')"
   ]
  },
  {
   "cell_type": "markdown",
   "metadata": {},
   "source": [
    "The database wants to minimize I/O, too, so when you make a query, it will first try to find an index to speed up your query. You can explicitely provide it with a `hint` on what index to try and use (see below).\n",
    "\n",
    "<div style=\"color: #721c24;\n",
    "    background-color: #f8d7da;\n",
    "    border-color: #f5c6cb;\n",
    "    padding: .75rem 1.25rem;\n",
    "    margin-bottom: 1rem;\n",
    "    border: 1px solid transparent;\n",
    "    border-radius: .25rem;\">\n",
    "    If the database fails to find such an index, it will have to look at the individual documents on disk.\n",
    "    <br><br>\n",
    "    The same applies if you make a typo and query the <tt>ZTF_alerts</tt> catalog for, for example, \"objectID\" or \"candidate.objectId\" (both don't exist) instead of \"objectId\", the database will have to look at <b>all</b> entries in the database.\n",
    "</div>"
   ]
  },
  {
   "cell_type": "markdown",
   "metadata": {},
   "source": [
    "If you now want to, for example, find out the `objectId`'s of ZTF alerts fainter than 20.5 mag detected on August 2, 2019 in field 650 with a [`drb` score](https://arxiv.org/pdf/1907.11259.pdf) higher than 0.99, you should construct the query in such a way that it uses index #10, you may even provide it as a hint to `kowalski`:"
   ]
  },
  {
   "cell_type": "code",
   "execution_count": 25,
   "metadata": {},
   "outputs": [
    {
     "name": "stdout",
     "output_type": "stream",
     "text": [
      "['ZTF19ablycmh', 'ZTF19ablxvoh', 'ZTF19ablxvoj', 'ZTF19ablxvoi', 'ZTF19ablxyvs', 'ZTF19abdyeno', 'ZTF19abdyzog', 'ZTF19ablxxlc', 'ZTF19ablxyqz', 'ZTF19abjajrj', 'ZTF18abunvqa', 'ZTF19ablxyne', 'ZTF19abbymtm', 'ZTF19abctuku', 'ZTF19ablxwkp', 'ZTF19abeyyro', 'ZTF19ablxxlc', 'ZTF19abeyxxv']\n"
     ]
    }
   ],
   "source": [
    "q = {\"query_type\": \"find\",\n",
    "     \"query\": {\n",
    "         \"catalog\": \"ZTF_alerts\",\n",
    "         \"filter\": {'candidate.jd': {'$gt': 2458697.5, '$lt': 2458698.5},\n",
    "                    'candidate.field': 650,\n",
    "                    'candidate.drb': {'$gt': 0.99},\n",
    "                    'candidate.magpsf': {'$gt': 20.5}\n",
    "                   },\n",
    "         \"projection\": {'objectId': 1, '_id': 0}\n",
    "     },\n",
    "     \"kwargs\": {\n",
    "         \"hint\": \"jd_field_rb_drb_braai_ndethhist_magpsf_isdiffpos\",\n",
    "         \"max_time_ms\": 10000\n",
    "     }\n",
    "     }\n",
    "r = k.query(query=q)\n",
    "# display(JSON(r, expanded=True))\n",
    "oids = [d['objectId'] for d in r['result_data']['query_result']]\n",
    "print(oids)"
   ]
  },
  {
   "cell_type": "markdown",
   "metadata": {},
   "source": [
    "- If possible, construct your queries in such a way that the result is small(er) in size. Think of a way to slice/split your query into smaller chunks; this is usually good for performance."
   ]
  },
  {
   "cell_type": "markdown",
   "metadata": {},
   "source": [
    "#### Compound indexes and prefixes\n",
    "\n",
    "See a detailed discussion of compound indexes in `MongoDB` [here](https://docs.mongodb.com/manual/core/index-compound/).\n",
    "\n",
    "`MongoDB` supports compound indexes, where a single index structure holds references to multiple fields within a collection's documents. Compound indexes can support queries that match on multiple fields.\n",
    "\n",
    "##### Prefixes\n",
    "\n",
    "Index prefixes are the beginning subsets of indexed fields. For example, consider the compound index #9 above:\n",
    "\n",
    "```python\n",
    "[['candidate.jd', -1], ['classifications.braai', -1], ['candid', -1]]\n",
    "```\n",
    "\n",
    "The index has the following index prefixes:\n",
    "\n",
    "```python\n",
    "{'candidate.jd': -1}\n",
    "{'candidate.jd': -1, 'classifications.braai': -1}\n",
    "```\n",
    "\n",
    "For a compound index, `MongoDB` can use the index to support queries on the index prefixes. As such, `MongoDB` can use the index for queries on the following fields:\n",
    "\n",
    "- the `candidate.jd` field,\n",
    "- the `candidate.jd` field and the `classifications.braai` field,\n",
    "- the `candidate.jd` field and the `classifications.braai` field and the `candid` field.\n",
    "\n",
    "`MongoDB` can also use the index to support a query on `candidate.jd` and `candid` fields since `candidate.jd` field corresponds to a prefix. However, the index would not be as efficient in supporting the query as would be an index on only `candidate.jd` and `candid`.\n",
    "\n",
    "However, `MongoDB` cannot use the index to support queries that include the following fields since without the item field, none of the listed fields correspond to a prefix index:\n",
    "\n",
    "- the `classifications.braai` field,\n",
    "- the `candid` field, or\n",
    "- the `classifications.braai` and `candid` fields."
   ]
  },
  {
   "cell_type": "markdown",
   "metadata": {
    "pycharm": {
     "name": "#%% md\n"
    }
   },
   "source": [
    "### Query examples"
   ]
  },
  {
   "cell_type": "markdown",
   "metadata": {
    "pycharm": {
     "name": "#%% md\n"
    }
   },
   "source": [
    "#### `cone_search`\n",
    "\n",
    "The user can run the cone search around an arbitrary number of sky positions.\n",
    "\n",
    "The (object) coordinates are passed to the API as a string, but they must be written as a valid `python` expression,\n",
    "namely as a list of tuples with `RA`'s and `Dec`'s in one of the three supported formats (see examples below):\n",
    "\n",
    "\n",
    "The object coordinates ($R.A.$, $Decl.$) must be written as a `python`-readable list/tuple of comma-separated object coordinate pairs in one of the three supported formats:\n",
    "- degrees (expressed as `float` or `int`)\n",
    "- HH:MM:SS, DD:MM:SS (expressed as `string`) \n",
    "- HHhMMmSSs, DDdMMmSSs (expressed as `string`)\n",
    "\n",
    "Examples:\n",
    "\n",
    "```python\n",
    "[(0.0, 0.0)]\n",
    "[(0.0, 0.0), (1.0, 1.0)]\n",
    "[('08:55:29.205', '-34:02:36.8944')]\n",
    "```\n",
    "\n",
    "Another option is to use a dictionary `{'object_id': (ra, dec), ...}`, for example:\n",
    "\n",
    "```python\n",
    "{'object1': ('08h55m29.205s', '-34d02m36.8944s'), \n",
    " 'object2': ('06h55m29.205s', '32d02m36.1944s')}\n",
    "```\n",
    "\n",
    "The coordinates could also be passed as a string:\n",
    "\n",
    "```python\n",
    "\"[('08:55:29.205', '-34:02:36.8944')]\"\n",
    "```\n",
    "\n",
    "For a single source, either two numbers [deg deg] or two strings [HH:MM:SS DD:MM:SS] or [HHhMMmSSs DDdMMmSSs] could be passed:\n",
    "\n",
    "```python\n",
    "\"0.0 0.0\"\n",
    "\"18:43:58.5333 -20:41:41.513\"\n",
    "```\n",
    "\n",
    "The cone search radius can be specified in `arcsec`, `arcmin`, `deg`, or `rad`.\n",
    "\n",
    "When specifying which catalogs to search, use the `\"filter\"` key to define the constraints, and the\n",
    "`\"projection\"` key to specify which catalog fields to retain in the query results (see examples below).\n",
    "\n",
    "The optional `kwargs` dictionary may be used to pass additional parameters:\n",
    "- `enqueue_only`: boolean. When set to `True`, enqueue on the server and return `query_id`\n",
    "- `limit`: integer (>=1). Maximum number of matched documents to return (per catalog)\n",
    "- `skip`: integer (>=0). Number of matched documents to skip (per catalog)\n",
    "- `hint`: string. Index name to use.\n",
    "- `max_time_ms`: integer (>0). Specifies a time limit in milliseconds for a query operation. If the specified time is exceeded, the operation will be aborted. Defaults to 300000 (5 minutes).\n",
    "\n",
    "Additionally, `kwargs` may be used to store auxiliary data with the query (for example, for personal book-keeping)."
   ]
  },
  {
   "cell_type": "markdown",
   "metadata": {
    "pycharm": {
     "name": "#%% md\n"
    }
   },
   "source": [
    "##### Examples"
   ]
  },
  {
   "cell_type": "markdown",
   "metadata": {
    "pycharm": {
     "name": "#%% md\n"
    }
   },
   "source": [
    "<b>#1:</b> Get at most three documents (alerts) from the `ZTF_alerts` catalog within `8` arcseconds for two sky positions `(\"14:35:02.5510\", \"14:46:36.864\") and (20.739842, 29.685781)` and return their `objectId`'s, `candidate.rcid`'s, and `candidate.drb`'s and do not return `_id`'s (which is returned by default). Additionally search the `Gaia_DR2` catalog and return `_id`'s of the matched sources."
   ]
  },
  {
   "cell_type": "code",
   "execution_count": 26,
   "metadata": {
    "collapsed": false,
    "jupyter": {
     "outputs_hidden": false
    },
    "pycharm": {
     "is_executing": false,
     "name": "#%%\n"
    }
   },
   "outputs": [
    {
     "data": {
      "application/json": {
       "Gaia_DR2": {
        "('14:35:02_5510', '14:46:36_864')": [],
        "(20_739842, 29_685781)": [
         {
          "_id": "309376286857071488"
         },
         {
          "_id": "309376291152147584"
         }
        ]
       },
       "ZTF_alerts": {
        "('14:35:02_5510', '14:46:36_864')": [
         {
          "candidate": {
           "drb": 0.9999665021896362,
           "rcid": 61
          },
          "objectId": "ZTF19abhcefa"
         },
         {
          "candidate": {
           "drb": 0.9999959468841553,
           "rcid": 61
          },
          "objectId": "ZTF19abhcefa"
         },
         {
          "candidate": {
           "drb": 0.9999957084655762,
           "rcid": 48
          },
          "objectId": "ZTF19abhcefa"
         }
        ],
        "(20_739842, 29_685781)": [
         {
          "candidate": {
           "drb": 0.9935324192047119,
           "rcid": 60
          },
          "objectId": "ZTF19abgmkef"
         },
         {
          "candidate": {
           "drb": 0.999977707862854,
           "rcid": 60
          },
          "objectId": "ZTF19abgmkef"
         },
         {
          "candidate": {
           "drb": 0.9996534585952759,
           "rcid": 60
          },
          "objectId": "ZTF19abgmkef"
         }
        ]
       }
      },
      "text/plain": [
       "<IPython.core.display.JSON object>"
      ]
     },
     "metadata": {
      "application/json": {
       "expanded": true
      }
     },
     "output_type": "display_data"
    }
   ],
   "source": [
    "q = {\"query_type\": \"cone_search\",\n",
    "     \"object_coordinates\": {\n",
    "         \"radec\": '[(\"14:35:02.5510\", \"14:46:36.864\"), (20.739842, 29.685781)]', \n",
    "         \"cone_search_radius\": \"8\",\n",
    "         \"cone_search_unit\": \"arcsec\"\n",
    "     },\n",
    "     \"catalogs\": {\n",
    "         \"ZTF_alerts\": {\n",
    "             \"filter\": {\"candidate.drb\": {\"$gt\": 0.9}},\n",
    "             \"projection\": {\n",
    "                 \"objectId\": 1,\n",
    "                 \"candidate.rcid\": 1,\n",
    "                 \"candidate.drb\": 1,\n",
    "                 \"_id\": 0\n",
    "             }\n",
    "         },\n",
    "         \"Gaia_DR2\": {\n",
    "             \"filter\": {},\n",
    "             \"projection\": {\n",
    "                 \"_id\": 1\n",
    "             }\n",
    "         }\n",
    "     },\n",
    "     \"kwargs\": {\n",
    "         \"limit\": 3\n",
    "     }\n",
    "     }\n",
    "r = k.query(query=q)\n",
    "data = r['result_data']\n",
    "display(JSON(data, expanded=True))"
   ]
  },
  {
   "cell_type": "markdown",
   "metadata": {},
   "source": [
    "#### `count_documents`\n",
    "\n",
    "The `count_documents` query type is used to count the number of documents in a catalog that match a particular filter expression."
   ]
  },
  {
   "cell_type": "markdown",
   "metadata": {},
   "source": [
    "##### Examples"
   ]
  },
  {
   "cell_type": "markdown",
   "metadata": {},
   "source": [
    "<b>#1:</b> Count the sources in the `RFC_2019a` catalog"
   ]
  },
  {
   "cell_type": "code",
   "execution_count": 27,
   "metadata": {},
   "outputs": [
    {
     "data": {
      "text/plain": [
       "15740"
      ]
     },
     "metadata": {},
     "output_type": "display_data"
    }
   ],
   "source": [
    "q = {\"query_type\": \"count_documents\", \n",
    "     \"query\": {\n",
    "         \"catalog\": \"RFC_2019a\",\n",
    "         \"filter\": {}\n",
    "     }\n",
    "     }\n",
    "r = k.query(query=q)\n",
    "\n",
    "data = r['result_data']['query_result']\n",
    "display(data)"
   ]
  },
  {
   "cell_type": "markdown",
   "metadata": {},
   "source": [
    "---\n",
    "<b>#2</b>: Count the number of `ZTF` alerts detected in the `TESS` northern fields on August 3, 2019"
   ]
  },
  {
   "cell_type": "code",
   "execution_count": 28,
   "metadata": {},
   "outputs": [
    {
     "data": {
      "text/plain": [
       "310452"
      ]
     },
     "metadata": {},
     "output_type": "display_data"
    }
   ],
   "source": [
    "q = {\"query_type\": \"count_documents\", \n",
    "     \"query\": {\n",
    "         \"catalog\": \"ZTF_alerts\",\n",
    "         \"filter\": {'candidate.jd': {'$gt': 2458698.5, '$lt': 2458699.5},\n",
    "                    'candidate.programpi': 'TESS'}\n",
    "     }\n",
    "     }\n",
    "r = k.query(query=q)\n",
    "\n",
    "data = r['result_data']['query_result']\n",
    "display(data)"
   ]
  },
  {
   "cell_type": "markdown",
   "metadata": {},
   "source": [
    "#### `find`\n",
    "\n",
    "The `find` query type is used to query a `catalog` using a `filter` expression. The\n",
    "`projection` key is used to specify which fields (\"columns\" in SQL/table-speak) to retain in the query results.\n",
    "\n",
    "The optional `kwargs` dictionary may be used to pass additional parameters:\n",
    "- `enqueue_only`: boolean. When set to `True`, enqueue on the server and return `query_id`\n",
    "- `limit`: integer (>=1). Maximum number of matched documents to return (per catalog)\n",
    "- `skip`: integer (>=0). Number of matched documents to skip (per catalog)\n",
    "- `hint`: string. Index name to use.\n",
    "- `max_time_ms`: integer (>0). Specifies a time limit in milliseconds for a query operation. If the specified time is exceeded, the operation will be aborted. Defaults to 300000 (5 minutes).\n",
    "\n",
    "Additionally, `kwargs` may be used to store auxiliary data with the query (for example, for personal book-keeping)."
   ]
  },
  {
   "cell_type": "markdown",
   "metadata": {},
   "source": [
    "##### Examples"
   ]
  },
  {
   "cell_type": "markdown",
   "metadata": {},
   "source": [
    "*<b>#1</b>: Find all ZTF alerts with a given objectId and return the full contents of the alert packets (including image cutouts)*"
   ]
  },
  {
   "cell_type": "code",
   "execution_count": 33,
   "metadata": {},
   "outputs": [
    {
     "data": {
      "application/json": {
       "candid": 713570705715015000,
       "candidate": {
        "aimage": 0.6470000147819519,
        "aimagerat": 0.5584939122200012,
        "bimage": 0.5979999899864197,
        "bimagerat": 0.5161968469619751,
        "candid": 713570705715015000,
        "chinr": 0.6010000109672546,
        "chipsf": 4.05086088180542,
        "classtar": 0.9940000176429749,
        "clrcoeff": 0.026729000732302666,
        "clrcounc": 0.0023082836996763945,
        "clrmed": 0.5640000104904175,
        "clrrms": 0.2770099937915802,
        "dec": 14.7220123,
        "decnr": 14.7220567,
        "diffmaglim": 17.782358169555664,
        "distnr": 0.17652581632137299,
        "distpsnr1": 0.1415225863456726,
        "distpsnr2": 9.891617774963379,
        "distpsnr3": 17.41370391845703,
        "dsdiff": -14.318469047546387,
        "dsnrms": 14.948670387268066,
        "elong": 1.0819398164749146,
        "exptime": 30,
        "fid": 2,
        "field": 531,
        "fwhm": 1.1584727764129639,
        "isdiffpos": "t",
        "jd": 2458468.070706,
        "jdendhist": 2458468.070706,
        "jdendref": 2458226.876562,
        "jdstarthist": 2458261.795706,
        "jdstartref": 2458186.939896,
        "magap": 16.40570068359375,
        "magapbig": 16.44059944152832,
        "magdiff": 0.06293000280857086,
        "magfromlim": 1.37665855884552,
        "maggaia": 15.202632904052734,
        "maggaiabright": -999,
        "magnr": 15.210999488830566,
        "magpsf": 16.342769622802734,
        "magzpsci": 24.237770080566406,
        "magzpscirms": 0.22558699548244476,
        "magzpsciunc": 0.0011596758849918842,
        "mindtoedge": 348.7532958984375,
        "nbad": 0,
        "ncovhist": 56,
        "ndethist": 2,
        "neargaia": 0.12817254662513733,
        "neargaiabright": -999,
        "nframesref": 15,
        "nid": 713,
        "nmatches": 287,
        "nmtchps": 4,
        "nneg": 3,
        "objectidps1": 125662277714716770,
        "objectidps2": 125662277695309300,
        "objectidps3": 125672277716252740,
        "pdiffimfilename": "ztf_20181215570602_000531_zr_c15_o_q2_scimrefdiffimg.fits",
        "pid": 713570705715,
        "programid": 2,
        "programpi": "Prince",
        "ra": 227.7714996,
        "ranr": 227.7714766,
        "rb": 0.7166666388511658,
        "rbversion": "t8_f5_c3",
        "rcid": 57,
        "rfid": 531120257,
        "scorr": 16.8389415740967,
        "seeratio": 2,
        "sgmag1": 15.88640022277832,
        "sgmag2": 21.33209991455078,
        "sgmag3": 20.530500411987305,
        "sgscore1": 0.9987499713897705,
        "sgscore2": 0.02425600029528141,
        "sgscore3": 0.0037499999161809683,
        "sharpnr": -0.02199999988079071,
        "sigmagap": 0.12020000070333481,
        "sigmagapbig": 0.1581999957561493,
        "sigmagnr": 0.017999999225139618,
        "sigmapsf": 0.083253413438797,
        "simag1": 15.03909969329834,
        "simag2": 21.324499130249023,
        "simag3": 20.229799270629883,
        "sky": -0.5468026995658875,
        "srmag1": 15.278400421142578,
        "srmag2": -999,
        "srmag3": 20.42020034790039,
        "ssdistnr": -999,
        "ssmagnr": -999,
        "ssnamenr": "null",
        "ssnrms": 29.267139434814453,
        "sumrat": 0.9974783658981323,
        "szmag1": 14.9197998046875,
        "szmag2": -999,
        "szmag3": 20.328500747680664,
        "tblid": 52,
        "tooflag": 0,
        "xpos": 1190.4593505859375,
        "ypos": 2731.74658203125,
        "zpclrcov": -0.0015059900470077991,
        "zpmed": 24.288999557495117
       },
       "classifications": {
        "braai": 0.8139438033103943,
        "braai_version": "d6_m9"
       },
       "coordinates": {
        "radec_geojson": {
         "coordinates": [
          47.7714996,
          14.7220123
         ],
         "type": "Point"
        },
        "radec_str": [
         "15:11:05.1599",
         "14:43:19.244"
        ]
       },
       "cutoutDifference": {
        "fileName": "candid713570705715015052_pid713570705715_targ_scimref.fits.gz",
        "stampData": "H4sIACmBFlwCA+23aVhPbxT3q0GpKJokVIRmGiSlfnutlIyZSokoCkmEMmVo0jxqQIUmlZRSGjTte6UIJTNpoDIkQ4aQ+XGe8+5cz5vznOc6r/6fl3vv63vt+77X/V3ru3LBkmWLrdXULNTU7NT+D2C5wG7ZAsf/qff/RM/I8P+9ni06Llip9r/UU1P739Uz+F/rzTL639Qz/D+nZ2lvu8Duf65Xw8r2/36k8f/lPKxtrdT+4z/+4z/+4z/+4z/+4/8ciEuQqe0+yDnb3mFvNcaTUtkTPsU0ndV/l6IREZr4xu4udXSLMXOxfph9Mo09sovnvr98S1nlF0mJH8NbaStxb98sgtuj5Ove/s2EFzX+LDfDmxy+dYJb0mGW1awBC0Y1UsDpYyQ/9hPcOKLARBydMbcmm4XNTaGmFY9o1dhfrLqQg1vPVzN/0Tmsxd4GVy1xZoE9jSzUdgzVnXyCNpe0+YaaKtIp6cOCG59JLF6OHXdxZq/7VMnu5zNWvc+dZesok7XME7yT7okbVNqgfMgVs30a8fKtG6z97hpMm6aNG8y2E+80hHYbDJnaQWnaYOcJtmWXqLLWnE60mOL0m0GkaH8Jqn7aUtyk3eBt4UPuk0Iw/c0xLuHVHjK1FoBVZQVcuC+Nu5aupOymShIxFGKXoyLryj6shNEtYy3lft8hdZ9r5LF+D54gRa42uwU+lAD6bJVC//I+UNaSBbbkN9uw0QkdVwTS8PiJ0OZTSicVDeiUSA67vyKASw26RdnmYjQxMhnDQxMhy2q5oHLRbP5p+W8yHJ1BO9vPs1AfE0apP6HZuwAD389jVfp7wHVVDLGORWji9ZCyLypi4WAmyEbdgj8yohQR2gvWhpmg+fIOXOEdoPgWYx/OGePtsl6K2RMPl8z0SW1Ai0xLH6G94QAUBDnR4893uBcBXrjJIp6ObJtGU3ccZ907bGDRei1UtNkGb7kDED75Nrfb+CzriF2K/K4LbE9ABo3rGo1ys1aRwYdsNNv2neDpApzhUIXXf+2jS8HGfL5rFY1ZZcZ+7fxESybLsgDfP2xZ5kwcJ6tIgS4PBCH9gRTmWMxd9K8DSPEF1WGbuVNoS37Tf0OO5lkIPdOOMeZyNKkxhlWvHm7RKD2H+xIyinYL/QTtwDiQXxiNx5Zl0TT1G2zuwyGUkEumeQM7cZRQIZwefMUn58diVJECLdW4gNHaDN0CVtJ52dd4d+tY2r7lO/xZ4cc91Kkm79xmTuKBBp5XXoJSOqu4HcvtSCNYAkXWvycNoUwUaZhFUxbIs5vJ22nUMxeCNVHwfNJsdBPL4/K9WlH6Yy+ZexSB0vkQdGmI5zJfFKNU6Bc0yniDklbbWftjfdZ0XRiHBxzACXcSwOpJEIRI3cDA9N04RWsur+nuxJ97Mo8E09fD35MaKPfzKOsuH8ZNtmWs4NoDqH7XT2Jn9rGbc2XJwyoFru2YxMS3dpArHCT7Eg76/yah4YFBaIh3ZvnTKusej7iDY2bNZ/rmB3GVvQGUPTjN5i0pR5mn6yhs5E5WYv2GSdfeR7VwUf7s6Guc/Y/HJB/jg4HHI1nwu7+otG6QvV86kwuV9Yfb18dzoVcd6JSbKy2P8cWQ7Rr/7lUTRtSFkcxGRxq2aQxT0JpKsvFFYLHLmQ+NFgVn1RzassST8p27sX7xVMEFiUj2vU2RfZwiRutsk1margNlXF7B1S6K5ZfSbXh7zx93/XxP66/v5ecWtaCQ82KWP+IGHZzRxibn32HzF23GjuwB6PzRhfKzLMjddSX/1iGfb7U0EaR/O4aTD2ighKszq7g0HgMGnrB9xRpUHu3Dhc34QCkHO3Ch1DtMnOpFTxa+wlNVPuAV74LHZCV4py3FFDHyHC+yQo/0J47Ei58HadTweZSxrJkd+6RHeu4zaIfrGkupkUZ1C2IPW4oF6UBc/3eSeK8A51s5KHDJYzLZFyH9yQU2z+g+l+arxo5LCPF+pxfAM8kcZpx0i0sP20feyxazL8397M6rdIyZ1s19v7CRFbuN4BrrUwSRj5/h9cCrNOXFYTgQcAQVrm7C7pv9jH89AH0bz0GgvAwl3r6GTpflMS+4FHWO6ODYdiMomPeDbuYALtcsRDenh+xkhR8aSvAQtuEL7YPX5HYojrpswzDrmjkF2+vQqLLDNE7uD4S778S0DGuo236EvVM7QNm3XdCAqeF9F2vW0CINBUKaKOecD13tawVr2sRYfecJmOEgxt7ut6ApRX+5v/sLmWrgUu7qpR4clfacjWvI4F1GfmaLmhkdbNFCXmgYhRc4Iv81keu+fZ9WWhzH8eItOEb+GOBVJwquIf7AMQEX3baFLijspOltxhR7TIk9O+BCoYnfwVe8na8ZPx7bi5rIQPoNZTtpkdYbXyY9TEQQYRtNRy0GMDryF7vaF8Mc7knRsOK7lHJ5LKncbMUKg4k0410uNzL3Jmr3VIK3gifpv/1LeX8ZHNoegCNlPaCph8esFmMWpJNFsuIj8FHFEa7S5QyzfvuK9BdMIPknR2lmfzX0B9+kmQWxLLHUBktrM8nQtIi9+B4IP3xu443aVhKaYkgCy8/Mf2wFTms5T7NaizGn8zZmPc0joWZvpjF9BVw8Y0rR2Wf4vzFHUH5eNfuz8RxfFJRDO3Z0Q/FMN1KiS6hDN6DuxWrWHjKbeSpexMSzKWRi44qrD54AjFDimy5+ZhtHOnG3/VdyN51aUXJlJYXXuoFKpgnnXBtpKZrQxIq6O3FqjB7ZlS3GA96N8I1rowRsYRn211lx8FUKnbqNprysJmG3YDpyS4JpzFxDs/WusJmijvCoPwC1041R+7oTHdFNIM+dZeCyNpsgrBUXLt3NacltZzF7Q2nr7wbKgEZcmG1F2ee2o65eKJOa1YPbolVYjs1c5uP2izeKLKK6sV/qzj2SpsyYS3DQTxg0hs2jzbw096ZlCWbbRGL3hTju6a5bbOl+Dkp956J6VwWX1HaY7b+zEfXyvElRMIdlnImmiTaL4LnaLHazPoLqF2ZTneJeNA5gNM23gDT9T0CkxDYSr9xP67bc4qKe3WP++bNw4dezZL1tOrPvuk5OytpM+WKT4EjjJTx/1BBcjl2lDCtrmj6kSVu3faRFzu0g3GbFWmaUk2L1ZNA7g7S0VRPrlTeSiGAdilySJ9pxmPFWLzH9UTssLXchuYRrFGzSJVjuroP6gXVQLWyOZvlSmM602UZFeRY46hguT5cjyefv62VXXoa1F+NxuOsekn3exHneCmFHKrXZu7PvcG1LB5n8Hc3tnRTIWzfMQcWjjjRz7Wg44K9GCxd6Q5ifGh6f3kwhh+1Y+DdL3qxpP/e37QVl35pP+yIH2Nr36RivJYPjWjVJWl7DwmraAXjQpY6jNruxFfr2yM29ATeTB3HKDmt2IiQXJ3zu49cMvIJV2u8g/foJlpa5BBfL2qNY/mu44n2ILI8tx7MOh7jGOZJ4Z+AHJk5+RYk3rSheuYUSzEZzCislmBrTgnkeizB3cgWTXFREFXGuuGrWfhive5fZ3L+Gxbp3aV6EJ3rZ3QPuh5H5jXlpLFXYDNLH80w6aha6dkngtouSKH1NEhWXDwMXTWMaE7Ct7rquXJ1PnSH7sjiJySXe5rtXfIdd49fiBqFC3FZwm3bs9SFdD2cmHOKFfpfXUbXMqjrbTxvZUPkpOGm+iIo9j9Fc7iwdWb4YtoXroLzcaXY1sZiWKPytk+56QDLjlrGPvs9A8s4IPNB9leS2S0KiRx3a9nVw74eO1AZbLSDtb/rwuliH8zDQsWjLaEfKbCNDjSlkszwYM3ZuZbPHHmbjq96ybx0WmCniy5ndz8bJL8+QSkQVOk5dQwl7i1hKKY8qD5XR93Q7/yfMHkUSq9nNh79xSdld3mFSDConyLJfDZ40YlcVPG4NZz1qyPa9ekRHvbRxkVQRC9bToqtG4vySWzu4HlkhmLD+M7qpzsdRA32wy/Ydt6j5BBpIyQqW7O5lsh2trDFjBSmIfqaRSntw3iY/imz4SNbrbwuie89xpRNfgNvkzebNa+PwROMvVE0ToXTdDMy0U4Dr5yJw/fvlbNKOHgjwTYN1d6fCt3jdf/9lx/z/+OMR1XVw8eZOmuTlQhrRDbAt6hhUOj2hd+mFUDznI7sedJnXXJUI0tL6tNxgFXUO7WDtXdeZ2XpT+KjXQbYVSkzM8APKhonS6Q4TNiQwxWmTpzGJTk/wUrxAC+d7YvmTUTSypBKtjT1QRfQQ6rvXUMD+5xj/9zMlykUTHy+GZd2NdP2NFwmrnaIxhoHcLfcNJKMZikau+1jQ8YsEIXNJPnYExtvYU+AlcfTRmUUv3QyxbHgUl/xakVSOerK/tAqvNh2FeUczceZXBRR3Os6qowupePoWSNK1ZnLbpFml5E5UazJAoX99qvfKa6g0jKJS/7PsjMoQxNqKgtwVNUHDozhYaxYGKW43QURbjF2iIvRUMCXv4HV4xGOHRfSy5TR6hR86NhmzJDkhqJRJJnWJA9x0Swnu6xhNrvjUTZImMcF8DxVaY/yRlc/oZo/bTpH/yMNon7sDDsVqUaKpEsuV3cClSmTz66JyMHFdJfCPJXGD193a1epvIKvkD96e6o7eofokJi8MZV6KKJw4EzeKieKRb3YQYlJFpkbehE4t7O2Hj6ibvgoSGzpA4+YDVFi4lWTbrNCitI1mLZ1BMTkJ7NLAcZIKakPhTwEQP+0CXn+2AWHImZa3lrKUcaU08/tsjBbbR5Yx6ymvYiVGz0/ljvRpYGfb2doBc32c16+EYaNccPj0p/zfC1EUeGg2mU5JBOsdz1DcUUFwr3kHSTe64IrUYjDmFVFkeg8lLX9Bq12lcdJAKfO8Qyg98hpUPlCiLJcx6HRmFTpU1cC+hgL2WcKBsoY5skxBHNkNyHAb1qcx3PabRPc0szQpYdTMkgEhx3aU3mTBnh62gJ2LW9jFK5b1E3ZlgtWfO0i/q9hl6eksYIsvu/hFm0k2BkH0ILKbc/Lgk4g23r/ylwzcXrMr60ZSlvkKSOpQoNAJJzDo+ypw/J7Osixv8fNne5DNwyiaoW6AqT+1MGnIiFX5ytWZRM5i7av9UTyyB48b9eGyWk129cooVvTyPicjpld3PseDjjoVsNwRIRhXGUXq6sGCascATPAxx9q979BQL4jyk7bhHIdxoK9oxnpb/5K0ZhifPyRFE0Zt5EZ/toMNuf3QOobR7OtHKLQhhia6mfH3BZ0CcO7FicqvKW09Y8nNXXxyoB3m3uvF4U5nMHbjWu6s1gxozOi28J7yB14nLKBD+w1JQvkS7WlZT8HPjSFbKYVK7niR6wFNeCx9l0JLxFC9wgDtz57AM7v3o8HZNLJ+aoKGc4fYvX+xU7v3OGm+sGZri3shvWQ3u9F1mslaDSd91dns7NgN7Oj7g/CtKZsSP1twbJ8maxIbolUjnah8cgY5sL84PF8WFcvSQWf8Gf7tKkXmP/MUm+Cykg6nusF9GqSNvr0w5ZQkRKvs5KPNFtJwOoOzFzux7mklyP1IQq0OQOGJrnVOPsuZ6g0vmvGjhCXXG7OCGR0osdeaag8kYNqFWja68gKdk6gA0zF2qHzAgrQfTKDsTiAuoQja/Beh/+8kWjb2MHns6WE3runVC9kG0HK5WeRZuxDokhZO3MpQ1TuWK975B8cUjkEry8msuvohxrbY48FNnzCtcxh8FDICZxdnuHRtIUZoroKjNi50ROw5SB1Ogt5HNWB1aCopRu7ly7S+88aTRdiFVDfSamqGkHZhdj2sghl9a+YWCC8n8VuO0GOQCOuu5zKxWFXuk0o3H6Xpwcr2DMEj7UJq1Rpk3+Q3swqN88z4ogMe/3IEF5p/oONqfqz2iyYzMHYQ1E7rg3vpASz9004uc9cgmiR5McXjQVyjkiwTvIrE+j/ytPFZKIrv16fjR2UZfBZi4/b+pKqcQ0zhUTHYSVrUfBk6g7JtAq7xjRK09FeQUImroGpImuvN6BK80N9DAY/kuLY5i1mo02MqqTbAvLscLvscSdLfotA0fyQlLAqBjhvP0LnQHEQjhQX281LZgy2PalsuXaeMpqugNvY9DFR14m3BMwravYQZ/EQaP+wQiJ3rw+TdE0j2ZV3d7X27+e5jO+sl7d+xP+ln+MCIDWh9eC4orZkBQ5tS2NwDv+r+6nXxbUsQQ6S96uK/ABv+4pzgluZByv0378yc/oddOXWAHdOaSxOd6ynS6gwU+vpw325cgkOhu9Fg5SC+iNIk1RFj2K2bEVD9UQOvc6mMgr7xAdPvg9dxS+qpkCYY8wyv9vazpVsMKTs0EHt//+afjNamaStfQderKtay6AyIC00C18oh5uYwEx7qX0HpOnHm5GdP9he+w4/3Ojj+jQ+Nk/nKXbMLheAN3kxa9C+zqehirO0E99PLUVCqcx5SVkTiwe0ryPDlfFwwcx9L7jVhJ9J7aXRMB+qfiQTe6R07XdAPCiLbaFxrP917huzF2heM6cqQ3nhXts/mLBbIJ1Gs8FnU6FwGi+WEQX/YVxp56zmzuJlAo0QK4OSv4xjbuZz7c+MRnH31kr2ZYYIzBG0g1+RKcvOOshlHznL3tCKY37KjuO5SsqDF7xH4vb1fe/HbFBwKGEfhC4zR8UwhDTMrxIbbYnA/3Vjw+qAdxZrKYrhiGcg9vceN+W3H2MYtMKiUDPUKRXDF/Ro8KNfGtkUFlGtRhONjPGnTRgec803ZUsxBg0kIQlFNrIeiU+Q5tQlfMFn8Lt49JALLd8VCxvedqNkwj3fu72TvqirJst6M7/NXREnz8xQqImD5RSegxlkfk26a4c6WBNZt206lopdQe/wSy/H7/1LBXH12gtPn6jMrcPeN/azgRy2J9ehDdaYcHjILIjN1Q9K0dmLCyi/gWbAnfDy5u27BXR+6dvkgbeI3s4yrOiS9OhgnhP8A9lcSmss9BMtXP6fz6wpR0jgMJxYq0OO/82B8bRhWjBGGTSY+MP1SPS42u8bE0ooo70MNDAz6cYMp+0j82wvsed1DyvF/IX2ZLbhmidPxx2JsSeBBbsymZxA7zZomWJRwbzJ/UK3uJJqnrkslaS5ksvIAZfA1FHtZBLeN/YwBzUihtlYY/0iF5lcfgY9ONShzLggnxwSQ0jNHpjQ2iFcan8rWP7qHooM3af74ZngfsQS+3rkBMSkifOBEUzK9dwW7h1lC4dNFtEa+Cc8Z3QPzV8Y0oVcabcvF0PSLDHOfvITSvr5jLaOfk8piKXjaGMwNXJuLvI0BaS/cj1Huv9G55jr/ffVHyA4qgK5wGcthp95Sb3keOsubM5cNHnSgYLvgUc0HVh8hDcfntsM72R2ClCdaOPvERbgezVPmTWma0eFABmcn8ZtvJ6H6uqO0L3kBb333IbmKPuLWbF0BH7YI47m7+ji5IBxXnL0Luo/+zekmUWC0bhpsPT+JCTmOgT6XajDkA8k99hRUHQ+k02PuwxXFLk47fx80p7jg8gZdptW4hfyxAIO13DG0UI1b5mVEp5REcNrAI3RN+URyE5fA9v7lGPCtjBZoD2JW/jQKli4nWcteVrAbeD0nNfLKMoS+d35M2+k0Lk7QI8PMXlp25RfyWcVsa4g0qfpJsMjWu/DQzxXifKVQcW472l44wbtOK6VFu/ag9ykn1JLfTiZm1nB2rBGpNBShVOwbDKobwxL7tfD4tlxyt3DCxUL1bE6BroWK7G72YLQoKwlRg5C7EVzrwFc4NrGDFdUswCO7/9XBCw/M3ljDJuYdIFOrOua7XgRdNhWRrPcsUlN9AIfdP7Bz4mZsr+0wlMgtZGfDK5nht1jeZLcfShzay24mi8G4yu18llMce/dWARYtPke255xIedkU7kfnAJctex7sTgyx7vQISkr3g+6C1ywprRzTTipRnvABru5fvm+v3Psvc7azbucJNGI9479ce0qzghLQcPZLHL0oFi/oLIY3uRPYUOlTmv1AGRPErpH841aYmdeJZwcW04SXGixQSp2NuXqW+72XQ/3GBL5Prwv69jyEmMoW5KZ+5CYVE9pr72Gyk07CJBV7+PjrCrsR1gh1jYehI38EK7h3Dl4kOHGD+WfYwQsJGBC9CC+qt1hKzbWnteVb2dOWG+DiOYiJYa0w4kgeDtfOpCgTabbt1XQc7q7DLpX+4O66raGvcae4LFFHNPqyk258FUPDExPIXPQO3186A0aP9q6rny5GO07mwRn3YeTcOAs3BCVRwdhDGEFvsOZ7PitZUk9jUkaQ5mBvncuvPBw3PJgS3Dqw1EecJoV488MalLkzq/0EoU0/Yc7FKTjZS77uw+cYmLn3MP8yoYOtu7KfldnWwkzdTJYpr4OqUl7ct9kXUP5qD2ZezPzn+68g3uwcmxLgy916UwkN5gkYF70bT8lIYK3jLZKsciV/9wRouaaAs07cYeqyc/mtZvdZk+El3ONdxmWE+KDM79nQ0robHWcaCPq1fKDLw4+7XxeGaQo3oSfxGwUfLMD9TaL1w/6upqWHpFl7VQ7V/Iqk0rW67IZKNl54PYZduNtEop1xrORXAsYb5lDg8I1k47sG5fZxUDOqlJjnd5K6FEFl//zTZd0WHHmnlES2F+LG+9V8uM0HfmnVXDixoIUl2t8BA41cmDiimBnqfSbd1eOh9fxLWrhnF44ZVKDwHF2uxuo2X/rqFW4/sIWMxtxkWSf9SeaoGo07htCvMpVtWavGOioPUFy0IiTNEIUnLQD2K6vId8tGEvzZQZPXD9HiGTakc/8LuV+ajkJLKlAl9TwYFCuyew/UcTRlgP+VFtQ5O52U156l7WUb+QjFR/RjWSmN6xKCkvgCXPzmGkUoqLPXg8r4WPI1JDyPZFl+Y9F47Dh2+FgEzi1YgTJyTfBq0r98p6xIT3eFALXG0XhFVVQzKocK583Qd3kv+u7wpJGLk6FSXKLu6dhJuO57Cv3NWAI5LRoQ8U4F0nyuYlyuJHsJdbT5+Cv4tiAGV31di5I1ieQi9whXbi3BjZH6ICP3izQ7uuHM6U7UUTODsKZvTN4hi0ST61hiaxrc2dxDxcMOsG5/NTwvnkS7i0+gXFUdXfT+TorBnpj8Oh0ykkIw7V4E7fKaRgrP1fn5bmLMf9lPjNSwAUVRJ0gpt6fh+6fBXl4EKjpimeLzIEjOMxAc1v6Em22Dya+vDLeIq5Hnq6l1Yy4I0Nicw3mCbrY/b7SgOkKbpr47DRnH+rm04IPsy4FT7Fi9KEadkqP5cTswetprjHs/ko0YaGIxM77Ssh/IZj8yEcTo67LJ88rZwM1UiikaQfBZA2anTuG23o4mhe3G/NFSZc7N8AIt/rqFfavfTK0m92jhopWUbD8Fqvcvh7cb2/7teStpbwrj3PXmoZjpJGhdHIT2th204P5RiNkxHKccUKS0uOMsVLWTC116mvwSL/PR9kvxSUmHpXTDQ67ixhCUXuhhP680o9rxDt5ogh3/NziRv398EqtWlYXCNHtoGGzlC8/G0fDd+gLRa4dh1E4n8lC4C70mqrDL8wPJjSM6mXacxdqbEmsYAYnjdZjmQwcMfxALV9bJs/yc47B14TfcINIO3oNCTKX6Fa5feonNC0zF/h4hUh7cRBk511BR+Q1X21zNzRjmS153pdimk5OQE34FO1emwvijWlzw++HwhNOn0Lta3Omc53TS4DUJpTow/5OeaDlWEiXDtoL7y2hWtFcXz3T8wTKZnXSgzABzl1qQMl9kOWVzvKWBXrbltxm/5s7tkcXCjm2ClfNC0FflAfN+842wpJA1DEZC4+9dXNtpGxKdNhnSFzujvN8USD71C4Vvj0NRE00Ucm/jE7v88UF/Eczf2AiaWa9gkr8uFYabQv721+SQUW45Zty/GlnSyOUP5rDckJkoZW0PCzLjac8nE8rcI4QpN0czMzUt5jxcj2L33OVyo7zolMY7ZutxghRHRrAd7++gZ0goztyqS2NuBoOpkzDtzjgIpdku/J8DX2n5GTeqMVTif0fcYN8LzGmC6wBzFF3AQpUOcYOKGhYbiiTYsfOqdNF0MRg3R2GZi77lzuKouR79snP1cwYspyvtw5J0xGnSmezjnzGUUK1HwuENNK53Hxb1WVNGlglUvpSgUOM1pC4pTKdyq1F2aTCGadxmL5brY2DKEzQNSKC8eVlMZokOtoS24jxHG5rf9Yy1ravFRSlESoaWOOzgKxD1BJywvACXJNqjtE8+5Jomw9tABy7hiTgF2ABbebiBtui3Y1UVY8LRu2Ceii34S21lyv2H2PkLW9G7pR/Mn6WyGVt+sbaReynBqoG9vBYM20b5kdRVJ3LOtGO33mhAb8YT6PZ8gXuTw5n+gAXIv36Ldl1qmDKoh+/VdloefylvWaUdiU4NDDcvywSy/oCbpe6y7v4iZjf6Ji8Ue4NG6GTSsTUMbRXu06aAAagttAM3cxt29+0XDFrbBPtS5rOHixr5Ix4N6LxqEtktDIJ7Xg4U8WYUPL9Qw8bG29R63nnBv3lVS+EjfzOraHOSG2kCTT8XwS+zz5DywpmfrKtG4j3pXPjEUhxWXkJJkhJQef4vcw5VZmLLVoJ+6QVslHDEjbuO0qFzE2jr2im4LVKBXUqPxs27jsBK/yc4TbieyYTMJBl5ab7Hyw0Kqzk2qDadTLNKUTruMcuZMB6Xe9/Hlt9xaGW0gRkOqUOzozY27lmJ6YVidTFJn8nRex+5+y4m8aZIMlo6S2DgcZlsTl/BNdHughNHG0FulyHG+n8CP5JlIXGu7OLOKIgpvgGU4k4bkj/jcXYK9oxewLJVvFh46U+waT7JILgC4w38SGvYAF/4YiqKTVdmi+fIgtumlaxOswoPW2gw99J4WuTlSW3dk1E1v5fSZhBO+u2Mx3hiM+IdmInTZwjaM48WfLgKp68PMdW0OVBzdBvGz9Wjzf7RdO/3IXYjMhfKCpdyTwL3wGUDCRZRLkRCjzr580InmEWKG/QbJqOSuBds6+uF2qo+rPbPx+OvdPDZrbXs4NQoXJvthwUn15DD9gW499xCuLD8HHnoHiQ981ommLwbI3waUU7Zj88SGQb681aT9lEDuvBip+CWbScpOe5j1+2GWAKF0co1p+Hc3kCMnF/Nwq40QiB/iswvTmXa2/3JaxdCuOFrvKRZQu1TRFnH907YdyIKXF7sRYf20yQlxOGCqnZS2jiBRpv+5HK4BHY/6i3ah99mx46rslhNx3/9DSlxrDan8GgaEx9Vym0/5gN5BhMJhuuxBO04mtHuR7uUZUhzjhCLvv+VKWX4oNwVW+ZTcAYWBg9hQ2MZTdBYi0JaqRD8fSqUxeZBPfcS+0dvgmdmf3CMjiv8iPPhO3vOoNKU+ehRuRGlXPfShL0F/OIjKyhPdSOJL77AYqdPJNNNf9G2eRXL2nWJOas3cutzfsL1lDC42p4PP3t4kjl7G40kN8Eok3P8O4MqWvv4BvtS9ZaUP8WAsPV7cOt5ir6pTeR8REByysLQH/kQdFM3QN/HzVQgdIblbktkt3Ylsd9/Z8N8kVsw7tluDDFQ4fpO6eEIzansUKYCXOgagbEPvrPfE8QoOtESx02ppcPGneY5kb7M6i+HyT4ZbEHEZCb7uQZer3+Hrv2O5BOVQjduufO3D81lZ1dspvL2XIoMLwMR9SRBkdVYKG9qtRTPPVgv/7qa6dcFwY4+KdrsuoAlUgqqm/rBaJFt8NDRC4r3ufJp13eRxplonKH6hOReJIGE/1O4lbyiXiQ8laV57OOP3PkDbyxbKeDeAPd7e5eliGERrZLYQGvd8mh0ih57tzsLkpzX/bsje2m2+2kK5S6h9YO/zGRnE44168TkpFG47r4EOefMgEldK2n6rEh6dsGYlY7M5l9PfAQFunJk1rCXFegWsO5KGWZmlcYKh8wx4M89Um9aQka6R3CKdi4oq5xj7w/mMNGAQlRfdg1HOEcwq33WuONxPXnbdvC24fo0svLPv3N2Zlb1aiisncCmjuzAcNIio32GoOm8VZD25Sn7MjuTlsu28Nlzl8G0SBeIaxQn9amdqPEwkeSGFaHvcV8o7pyMmcGvYc1QDcY7hbIP3hPR2G8bKVtuxpMrl6KnQyTqSNaglpghDh98T0Ile+CEdzF7OH4DjD79jgR+w7mTpd8JM36D4Vme9V/TJ++vRKOsZnDnMu4DlUejid0DXmehDzN4JV3bu+w5JOQVUnBLEKl0ROOGeWNQr+MnfKr7zRV3yJCexRoavgTZyTE+NErnCvdVfx2OUtxBL1vdyFRmIe1+4mteJLWBlA7lwBWjw3TRI5LMc83gxatfWLtyK11umU2Tftez1kVFNH3eJ5xmVUo77ozGw/ocqdzlWOKFLto4OY8uS3+yePH5KLqZ3GJIj+ltXTQLv3wAxa4EkYbWUVR2ViKNykQUc02l/JN1qPliGO7e3CJwelzO7NYX0SajjxjkqIcbJ+jgZdZLsT81uTk2X2nD4cW48gTi3KdVKP9v/jhs6EDi21pw/cFO9l78NKZV/hKUTfeCN0+mMl2Pk+x7gA6YF95hdMMWjY8rwQK9J1AwaRuO/DhErgM+cPrXUxY0KEQyZuMR+/K40eu3CVQlTqN2iCQZJPewiXPLUNxnA8tw86Dw7b7wvduafVx0oTbLXIt9uraYO7bkKjz3mMalxr1Eu7eSNHEgD/omd5Bub63gakAnhvlEgmpYHH9OMoYtlduG7utKaO1hefZx9SYW3xIJZoYpcOptDVk1fEWr+jRWW/EL1oTtpZKAF7zF1aXcOolW7mHwAtooWANP03aw6KooNmnnAeg9/ZzvzfPBSP9QbnfGfYq97AuXf13hpl1byZLzTVlfWB8bp93F7k4sZtvkPKkgSJ9t7k9nv1pO8ne3vyO3xcEoMfkOxV2YCo5+DubvhbcwqbiPTGH0G/gYPx+zhN5STXsxbR77njnHiXMvIhMtcpdnsgUvt5Fs9iNWmLKLuEIVvqc+i5LZfVz4uBvbpKrQ95cedHq4QLnfACmPDQHvLXU4Ypw0CTSm14irnmYjFknBWqlr4Ha+Ftf9yuHXyDDyf2RM2trruPNpuSxE+wG7LLaMG6c+H0ztNmGSr+2/9ydRS74NRX2GIENFy1IEzvHpfnaopOBP45bOYxclXHDUDzPo1K0Fb0ynrLffeDy7BlP3rq5dfWY1vB649q9Wo1nuVVMcM/YPjQu9QAcbhujYBwkK7rrIrTQ8jSNiRqButjkE1n/jz5X68YZqs4kvPEkRP0r44JImTFMJIMdXJ2llSSMGPfzEri+4xD2I3Q+RHv88PNgfV/nxkPcqjF57WTNHnQeoacxxT1zVWXdzPCveGcqGXDZAjWExNG89Ah9+W3Bf3nYx9SMagk9f/7LiKeMgdFYxVB51pvefJ1Np90zyFtMG9/g7LDs5iKlXi0JfWila/d1D9uGLqcygjT00sKSN7QJS/zSFLObuJqWlxmh7dAVmVxWifawAg7IfYrhXBS49qoB3s+Rpo2svi/lTgW7xv/HU+lnsu0Of4Oey+dR0cgZ8XOONEemj0JU3RJd1m2nR1HFgNEyJG+gKYOoL3fCE4jn00kH2erUqpkeuobhDHuTY185lbiyhbfoHKehtO/zJ+EL7hFrZxEEPctY2wwmzntEnEUn0eR7PTDpVafaiAmJ7jmHwXDX2rFITg4dPoQiZo6xlhQ/rzFan6IZKLBn7g9aYOeCoKd/Qc4Iyyi+pJF0LxoLjtvNc62naY7sfXhodgbNqvSTkGIi++0dC4hCxdpkQ3FIXCBMTdqD+a0Wq+bgDRS8+JamM7Uxau452vFqLXndDWfBHaSh9dl0QpnSTdi5eyY8Ue8U6JhuixJFEXElf0PXbVTouMYLN3BZJExstca+3JP5al4CPh9UwE4ceUpVy4cZx82mEyhyccfISOkzbQzGeQpSdOgpytVdzb52E6PbIZjoZUIprNaoo3n06rN0ywAJLeMxaMYMmseW0oLuBLS1R4cPc4/g/F5A79vtA3Y29Y0lCZCYZ7Q8k9Yy78OTWFioc94a2LX8LKqNzUP5qIllYyaCpe4XF286TPNMRZUeXe7Cnr0biJO8sfn3fPvbNmMPU7aW0J0VE0DPhOJbLpFDEiMNkdkEL9aSe4udVo0HL+xPljY/jc1q86IrvAsLXO+FFXDOXre/JQlYXwdmQSFqyuor1NxfDsc2+sCN/CNJoHys7v5QTLdyE3itrUVr3Gdi8kEPzxk0s+6k9W15uCUnsJLYH51LALSs0WvVe8OSED9MLsmEpUZ6CNhN/sPaohEXejnz6wRJimwuoYr84rqg5yORPdeHuSHuWr+EIN367kJy9NDfaZhGJxCwg85+umFZ+jf+Yl8TFP9DHWafz+HzJhzS+I47GgQjKP3KHX8VepJSzhm5OiKnrqezElKcjKKGdQcmsaO7hih1gGb6Weyw5hg2cMoa0USYs89YLtPw9nmQfOjFveSP03uwCp0sayP98H2ne1Yfy+VakG+zBz1cOA80LNTh1khm7cUed7PxjIHPwCd+zRRHn7qwnD+VOiu1pIzfpIN7DNofmD1vFvX5pyd+a/5ppxxVg2HrG30ucQ+HNNyHM4xIZf4/AkeudUSHVjqyi8zE++BCq2xnQieBIiFwXyV2OdUE9m1v0RdEFA4LP06zVn6EybghY33hY1/eRC7uZQ3+ipbmcYwfrXl27xESqtrPcneZk73CFymc/gzu9b1BQGk2Xw/8w1Rvj2EeX1XRQbIgFbBDwItuX0OK9zeyp7VSInFtOctqDdDR5F+TP/4wnkpJo5OaF6LtZEqqWm0Cd6GemduUShcTJsKIuI0gzZTTJ8wNuWDmPZj6LxTNCXyCwhEh2hzDu0LGH9i+XKfoQgpu4Oc6fu5yKbmagyfYyxhK+41YNa05903UU/cMo2+UKfFY2p8i0pxQxSYgvmeeCur3T0HidPhQWVnHmyVJk82gWmzvjNu5ODsfFIzxRuKccjmcmkrhIK5ql3MB5mImn/6/vNgIes5qKmhO/4PDjO/nOFZW8fedN7vbiIQze6Ujex1ezUpbAMmftpCWXlvKmCstYhuUu0jT2hXfdKiQ9t4WtsPYHsa7DKDzCl6QlxJmrfhzCl2zBywlroGhtBl9QL07jhmuy9BmGaKJqTSug3KLC/Sh37dsp6FJ8xvoW92PqpkrIutMHpsdHQciXQPheIEvC/7LUUoNExr7qgdIIDdY1s5U9iIwQZHm/JH03cZISuUQK8Ye5ix2fccnzcFL8HALRTdo8p93Dzjw8hWAo+q8ex6Ca0hCIPDZlT6fOo00js0lCiFGa4i+mULOUpPZ+xqT6yYwdTaWt1/Rw/M/tVF92jb2/11MbfSoY1e3P0DSLGCa3RoRG/Rwkq1/6JL7rN/O/eZ/wdhuaN5/inpzbzsQcfXGZQSjOvP2adt/MYaeFR2CovihpXG6gcQtl2Vp5Rbi4+gF780ubnbB9DzJ9UVD+p0aQr+hCUyeJgOSbBpR5nIxdf6RIpfgeqjqWwpMzU6BIWR6OTn5PSQ/vkNF4W/S11ycu6VzdJJE9WOVpQl67x/LVclfJMOgWf1fSmPjiXTXvjSNJ03QGhu52p6Cbl6FdUZq2711FRqffQ/ohIa78QQDFWCrjeCkX2hZ2njIM7FBc/hP7uy6IVUc6MA/HrWj/+Q821S9mpWdE4ar7J9Z2zp1szd35/mdFuDfRBlfX1sOh2qMk3q7N3infozHNOqx5qy3EN7bC9K5XsOtHGepoKrAGuYvYd2ctRWnuRv/FG+jc1Quo/MAf7AfWwKMZRRTp/RQ3/BxLnQN6bLNmIivlD2DuD44L7l4IbZ9WU/C9Gpx3UwhFo/bQxOBbVFimg52j81mmRxFLT/gKReYjoT/pEGpoi7LoT03cz2GvwXvYH5zn9JNGD43hejVP82F5h9hdTWuoKn/OVqt68TbltRi+rQIkFjqD8DTGjqXI0Yk9u1iA20bwVDfG0XkP+eRfMlx76A0+5tUKSvbOZqpXz+IE21eQu6Qe/3hYovfQC4o3aEeH6VGQcamFxuj9xn3jd7NBRSVW/+obBsqfpliVVMzL/omblHxxSpcDvyZwDc4c2E9nn1Tj5jeSbI++Gb/5eiyKlw8KrJf9ZDUWw6D20TyIlrxEKYE70OJMHI76uxnjnqxHrebhZL+9BEPautHow12Uq1KDMjdRinjhBAeto2htdgs297uyglQvWruzC+B1JEmkjGEqI4fB24rtdV9jOf7YFiCpX2Uok2+Oup8buZi6IXD10SK5lyU4PH0xnlbbyr1cNgHnHLGDkvtfcGduKLuYol635p4kjBjpwfo0WuG2yhfOgMsl4U2X+Yd10+rHDkziew1GwFg/KTbk+ZOn/qdUmqoOx7+fpkiHeGa3Moesw01ZXFI3qkibcAOLCsGzWoaVPviA43M3w+OQR7hjHk/5D23p15zzAn8bZ0GydRm9/mNPQatGkdKQLeqMdoTpn8o4+1BT1msXDE0+c/lRCZKQciaS3bLeAmnTi0CnbL7ga2cbaSnNrIuKH8X+bl1Cw92fkp13AeU/zcNpb/XohlgPdI3WJBuJKO7UHh5G2y79t64dpLDzPcvI04Q4Y032ykQfQ282VD8kJ0r/doF09ubh6H1GMC1vJy7iDtEBu3E0py4XV117Rtvqb+P4pBRQ3XiDCnr3w5fAKHIY+oWifQnQyxaxILG7pOWWyDIC96JVyDyM2p7DR2hUUNQMAR38JgJDzumspmIJ+eevoarD17nvRpNZ6vSnaG6ylLVrLqL+Hj8u5fen+tHNV2nFDi3O/4MCbb79USC9yQ31+2S565dyQVbblL8sfQptWuNpxKMmGtGZQkrNkbjj5yumpNFKVqHf617rlZNf2idYJ7MCbUJL0Tk3lur3vKOVpgcEQ6N38fymPN7+4g2IDT4BHzoP1QVFuLBaTX9SWPqZTzcv4t6ss2P9tW64q76ZK0rvozFx38hBJpCvaItm9g4n0O30BzC/nkc5/3xsG3Migx5TCH1bj4UXx0CgLcCfvnkU+s83J58rYkcN/rLfFmvZwTnjITTpB/SsDqb5aUQRRw1rI7vTcdTbQBLqekjDN0XVOm85SzqDdnTuyWFSdZ2OIXt/Q1dZPbZENjHhc2EWzbZbKO0ERwrnXuITjV1wLvkrKGXp8sW1lrRJyxE6FKPhlPBd9s6wDXSt9uCeVZd5iRcBFN9cQ/nBqSzn0R1wjjOjDL0WWBj5Dbs+R2KpwIeOXnvB+kZNANnOrdgkdgXygoWI88qm62IAS3cpsdtmI/jCnW54zmEQ3fa/5Uu2uMO3lxwLj1mIqxJMUKhnKXs3IQGzpp9Ae7+PJFKuiFrqIRR3MZUbylhBuoJGC7HaXoq4sZ9L+lvBdlvVsO5n1lA3/AUrRm/+7aAIUz0whX3vU62yDd2B8e+H0cLb5kyusR89hvtQWJIReJ9dBbWaUfWShVK46Jo709BejCIlQei6dhB3Bk6FAgt9cJqpxg8G7KO9Q56w77wRSwqMo/7hL3B6bzK/43qOwKsjnobHpWHAwkMUMf4jS5apYH/0DCCrThLPBevChtuSOEmmnp3K2Ea61d/wyENPEi6Po3W/RpDixhqY3HOCwlPfc0ojflH8Q3f+cqUtOel1QHiZI1+2SB6nKpjTXoPvbHLIFFJJdcdjWaqkXLkXL/qPZ2/KpWlB22VB5K+n6CXdDp1FzWzBg/V1MbvOW8it+EVHv/yCIdUG0r+zEtYlahKXsIn9CJNkdR3h4GueQD4VWyk6IxrVCx6ikVAniWltgqF/ydnuzXa4F+ZJIwK/k9xYc3i6NRAlZ22va7iQhvJXPlPY+RF05occFKfuIVeZneSkdI7veOmFoq5i8Lzblv/oG8NiuqMxrvUnpLkl8DZrl9KkpgM4Oa+GriysFHQXT2DLPAk671zFsG2BbMDGnk8reYiSMcdQ5fgPJv9bhDiTcaB/5DV09wrBg5XP6PzBUDZ9xCbcEH4TsmVUyLzZhKZWvwfZ67NQqSeFAjfdhEMLosn2ry1tzPkFcdtzSU+wllczbKKJ58v4gIxMQbpyF+77OowOqBxBMdFmHJx9je8LaKCZkhKY3W9HX5TqKPDkTu757klsMP8+t7b8E3G/zdCmPQtPz7emOSkXYEfDQ1TfZwKFeUX1ox/LYXjgB5qd1UQBDxtI5HuFhYjeA36+2V8uvJKr23u9j73mV6BAYhgU7jsHUQ7VoKQ/Ca54raVF5k2Q/DcVQ8ee5CPF3Gh7xwI48OMMZhb/waiN3+tiio9i5uVxmFvxBpTd7mHMy2JWPX413L+yHYepva5r7V3EROv+sjCNo+yV/gZ2VXkvHu44y96XHoNHcV5458Nm1pmynxVoHqzRmFZCgdkd5BZdJyhqzYRmBWU03f0VjGpyGP/YDqWv1FD1Zm1cskWE5j65RNUyg6R49DvUnl9CIoefsMHh1pg5cJMtu7eCCu4bMzZflO6Hi6CxWyn12g7UfRQxxBU5R3DSmNsovKoDRm2Zy3wbR3FHTzOgqWvJJa4X5X3fw+2sUDTESTSyp6oueFofPVsqQ1e+iDMp0YWY+8zW/LDyJBL/pkXK8kvZeieAjxsSuQjdU3S9fCSmflkPunw+mn2sYheFHPDIuPdkeKwS455eZg031tOTVWdZtvFG+l5sw5fvXwCW3hGkkWlC6pFbUVxNAMNSM2inzDOWVNoFA4tbSeTFUtryPhSnnYhgY3f54F6fHJKw7sHJUd5UFn0Z13SoMueH3uytSwCObvhNJ34iBU7dT7sXfSfDU++pZls208EAuNqczXLOVJLSJR8Ysl5O+lVBTOWxL6kZPWWD0/3+5cBxtG7eLDZm2hGaEbgfkp/HcY/m34Lz81az38vF0CdhGa21uA539YNIvTCDztyqwRGzR3HyGMFucE9Y6Jlj8O6CJ+1YYcFPb/jB6u5kwYXHx+ngv56/QW8Y91zoM3R6bebj59/FGWI5Fi5rV5OKzb96+zAFBgveo8vsLGh0PMqCX+dh4FdT/qcj1kp/kqXSHkU26t0fNHBK479yJ1HvoDsVbfWCx8VSbDCvgg7eaUDZnC9UNDPVUurpZUqTGcWds9rDmg9Gk/6DM+yVywI2P+eTQDF4C5sjmMIc2udgUnIZ+9GrRqJmD2jTRQ0K1RUF+dExeCruKwyZr8AlcoV4SfIbXn9ymbvoqIqL1sTjcmOk8WXjuWi3KlIoLcdqxy5IOthVq3X4LC6fKo1ZFT5czLXtpPoskzzG5bDIDbdJ1+Izi6o7DjPvLyWVDQMkV5jBmotVWWJIIe6+702/9F9CmZYlU8snPCn+ik7HxoLWj30ocSqVdR06xiYI+zCtb5vg+t020rgvzNWrd1H79RWYc8MOymXzmY+kBam6J0DI2McsUXoZfPGs5PJSPuD+G29Z5qMSFG77DFY2gWyN12Z0cHpDkzOrUOeEC2mWeYOW5Sj4eD8PnZ0HYdUvwsUen8Fu+g786vMakjI+sBLlGRSbugB1cx7Rgaa9XNj3ySzukxCM09PnXqW/pIeuaWTuVgKBx0RgSkYcC1K6za4+7keNwQjAvHxYvCUFmhZ5UVyRPcw+cAfsGqXYjf39pCFcByXPhessd72lFce2YqzHfTwHFYK/DUZ1qxtHEJpUoOkvCRRumck2hDvw8aL3MG1kPa6dqc6z192svfM2hAc2kZf5CeheGQ9LTQ1J7bEPf3bqWxq3cWydTVQRhsXqsGu+yzE+yRxOvA0XiOx+SvOO60N16itcJpWDCl+UUHbbMVyxvpuNk1vKUpOMcXjZXar44wLlk5dCQX8HFb7QgNbj5nR55iuMda6g5LcHWdGWj6w7IwyKBqxptZAcLtjiyWxq7fh1+19wfnXGw/7jP/7jP/7j/3f+B6xPb4XATgAA\n"
       },
       "cutoutScience": {
        "fileName": "candid713570705715015052_pid713570705715_targ_sci.fits.gz",
        "stampData": "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\n"
       },
       "cutoutTemplate": {
        "fileName": "candid713570705715015052_ref.fits.gz",
        "stampData": "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\n"
       },
       "objectId": "ZTF18acxdguz",
       "publisher": "ZTF (www.ztf.caltech.edu)",
       "schemavsn": "3.2"
      },
      "text/plain": [
       "<IPython.core.display.JSON object>"
      ]
     },
     "metadata": {
      "application/json": {
       "expanded": false
      }
     },
     "output_type": "display_data"
    }
   ],
   "source": [
    "q = {\"query_type\": \"find\", \n",
    "     \"query\": {\n",
    "         \"catalog\": \"ZTF_alerts\",\n",
    "         \"filter\": {'objectId': 'ZTF18acxdguz'},\n",
    "         \"projection\": {'_id': 0}\n",
    "     }\n",
    "     }\n",
    "r = k.query(query=q)\n",
    "\n",
    "# display the first match:\n",
    "data = r['result_data']['query_result'][0]\n",
    "# data[\"_id\"] is a mongodb ObjectId object\n",
    "# data = loads(dumps(data))\n",
    "display(JSON(data))"
   ]
  },
  {
   "cell_type": "markdown",
   "metadata": {},
   "source": [
    "---\n",
    "*<b>#2</b>: Get time-stamped (difference image) magnitude measurements and drb scores for all detections of object `ZTF19abitskw` with drb score of >= 0.9 and sort them by observation Julian date in descending order*"
   ]
  },
  {
   "cell_type": "code",
   "execution_count": 34,
   "metadata": {},
   "outputs": [
    {
     "data": {
      "application/json": [
       {
        "candidate": {
         "drb": 0.9988647699356079,
         "jd": 2458724.6455556,
         "magpsf": 20.251283645629883
        }
       },
       {
        "candidate": {
         "drb": 0.9999825954437256,
         "jd": 2458715.8249884,
         "magpsf": 20.054805755615234
        }
       },
       {
        "candidate": {
         "drb": 0.9999933242797852,
         "jd": 2458708.6985185,
         "magpsf": 20.068065643310547
        }
       },
       {
        "candidate": {
         "drb": 0.999854326248169,
         "jd": 2458705.6842824,
         "magpsf": 20.09524917602539
        }
       },
       {
        "candidate": {
         "drb": 0.9999914169311523,
         "jd": 2458703.7853125,
         "magpsf": 19.884113311767578
        }
       },
       {
        "candidate": {
         "drb": 0.9988447427749634,
         "jd": 2458702.7834491,
         "magpsf": 20.16274642944336
        }
       },
       {
        "candidate": {
         "drb": 0.999873161315918,
         "jd": 2458701.7840509,
         "magpsf": 19.978240966796875
        }
       },
       {
        "candidate": {
         "drb": 0.9999815225601196,
         "jd": 2458700.8878356,
         "magpsf": 20.117647171020508
        }
       },
       {
        "candidate": {
         "drb": 0.999871015548706,
         "jd": 2458700.7801852,
         "magpsf": 20.075450897216797
        }
       },
       {
        "candidate": {
         "drb": 0.9999932050704956,
         "jd": 2458699.7836574,
         "magpsf": 20.020627975463867
        }
       },
       {
        "candidate": {
         "drb": 0.9999817609786987,
         "jd": 2458698.9079051,
         "magpsf": 20.144390106201172
        }
       },
       {
        "candidate": {
         "drb": 0.9999992847442627,
         "jd": 2458697.8841898,
         "magpsf": 20.047536849975586
        }
       },
       {
        "candidate": {
         "drb": 1,
         "jd": 2458697.8026968,
         "magpsf": 20.064300537109375
        }
       },
       {
        "candidate": {
         "drb": 0.9999765157699585,
         "jd": 2458696.8426505,
         "magpsf": 20.060319900512695
        }
       },
       {
        "candidate": {
         "drb": 0.9998420476913452,
         "jd": 2458696.780706,
         "magpsf": 20.068096160888672
        }
       },
       {
        "candidate": {
         "drb": 0.9310468435287476,
         "jd": 2458695.7658333,
         "magpsf": 19.867467880249023
        }
       },
       {
        "candidate": {
         "drb": 1,
         "jd": 2458694.7008681,
         "magpsf": 20.214189529418945
        }
       },
       {
        "candidate": {
         "drb": 0.9999943971633911,
         "jd": 2458692.830081,
         "magpsf": 20.195293426513672
        }
       },
       {
        "candidate": {
         "drb": 0.9999872446060181,
         "jd": 2458692.8277778,
         "magpsf": 20.425329208374023
        }
       },
       {
        "candidate": {
         "drb": 0.9998248219490051,
         "jd": 2458692.7296181,
         "magpsf": 20.637554168701172
        }
       }
      ],
      "text/plain": [
       "<IPython.core.display.JSON object>"
      ]
     },
     "metadata": {
      "application/json": {
       "expanded": true
      }
     },
     "output_type": "display_data"
    }
   ],
   "source": [
    "q = {\"query_type\": \"find\", \n",
    "     \"query\": {\n",
    "         \"catalog\": \"ZTF_alerts\",\n",
    "         \"filter\": {'objectId': 'ZTF19abitskw', 'candidate.drb': {'$gte': 0.9}},\n",
    "         \"projection\": {'_id': 0, 'candidate.jd': 1, 'candidate.magpsf': 1, 'candidate.drb': 1}\n",
    "     },\n",
    "     \"kwargs\": {\n",
    "         \"sort\": [('candidate.jd', -1)]\n",
    "     }\n",
    "     }\n",
    "     \n",
    "r = k.query(query=q)\n",
    "\n",
    "data = r['result_data']['query_result']\n",
    "display(JSON(data, expanded=True))"
   ]
  },
  {
   "cell_type": "markdown",
   "metadata": {},
   "source": [
    "---\n",
    "<i><b>#3:</b> Find all Gaia\\_DR2 objects where the absolute G-band magnitude is below an empirical line in the HR diagram (that is, above a line when we plot the magnitude from low to high):\n",
    " $M_G - 5 \\times log10(1000 / parallax ) + 5  >  2.5\\times(BP - RP) + 7.5$, return source \\_id's, phot\\_g\\_mean\\_mag, bp-rp, and positions</i>"
   ]
  },
  {
   "cell_type": "code",
   "execution_count": 35,
   "metadata": {},
   "outputs": [
    {
     "data": {
      "application/json": [
       {
        "_id": "1000627393130287872",
        "bp_rp": 0.8622303,
        "coordinates": {
         "epoch": 2015.5,
         "radec_deg": [
          104.71437641530228,
          57.69233189706473
         ],
         "radec_geojson": {
          "coordinates": [
           -75.28562358469772,
           57.69233189706473
          ],
          "type": "Point"
         },
         "radec_rad": [
          1.8276106426197218,
          1.0069211447571258
         ],
         "radec_str": [
          "06:58:51.4503",
          "57:41:32.395"
         ]
        },
        "phot_g_mean_mag": 20.466215
       }
      ],
      "text/plain": [
       "<IPython.core.display.JSON object>"
      ]
     },
     "metadata": {
      "application/json": {
       "expanded": true
      }
     },
     "output_type": "display_data"
    }
   ],
   "source": [
    "q = {\"query_type\": \"find\", \n",
    "     \"query\": {\n",
    "         \"catalog\": \"Gaia_DR2\",\n",
    "         \"filter\": {'parallax': {'$gt': 0}, \n",
    "                    '$expr': {'$gt': \n",
    "                              [{'$add': \n",
    "                                [{'$subtract': \n",
    "                                  ['$phot_g_mean_mag', \n",
    "                                   {'$multiply': [5, {'$log10': {'$divide': [1000.0, '$parallax']}}]}]}, 5]}, \n",
    "                               {'$add': [{'$multiply': [2.5, '$bp_rp']}, 7.5]}]}},\n",
    "         \"projection\": {'_id': 1, 'phot_g_mean_mag': 1, 'bp_rp': 1, 'coordinates': 1}\n",
    "     },\n",
    "     \"kwargs\": {\n",
    "         \"limit\": 1,  # comment out to get all such object, not just one\n",
    "         \"max_time_ms\": 1000  # increase if necessary\n",
    "     }\n",
    "     }\n",
    "     \n",
    "r = k.query(query=q)\n",
    "\n",
    "data = r['result_data']['query_result']\n",
    "display(JSON(data, expanded=True))"
   ]
  },
  {
   "cell_type": "markdown",
   "metadata": {},
   "source": [
    "---\n",
    "*<b>#4:</b> Get Gaia DR2 G-band light-curve for Gaia DR2 source with id `1796422062134294656`*\n",
    "\n",
    "Note that in the `Gaia_DR2_light_curves`, `source_id` field is `int64`."
   ]
  },
  {
   "cell_type": "code",
   "execution_count": 36,
   "metadata": {},
   "outputs": [
    {
     "data": {
      "application/json": [
       {
        "band": "G",
        "flux": 4810.176632886488,
        "flux_error": 14.579488577777159,
        "flux_over_error": 329.92767,
        "mag": 16.48296316449709,
        "other_flags": 1,
        "rejected_by_photometry": false,
        "rejected_by_variability": false,
        "solution_id": 369295549951642000,
        "source_id": 1796422062134294500,
        "time": 1767.3548723752897,
        "transit_id": 20487643078210500
       },
       {
        "band": "G",
        "flux": 4831.0082923299115,
        "flux_error": 9.19007397853489,
        "flux_over_error": 525.67676,
        "mag": 16.478271267756988,
        "other_flags": 1,
        "rejected_by_photometry": false,
        "rejected_by_variability": false,
        "solution_id": 369295549951642000,
        "source_id": 1796422062134294500,
        "time": 1767.4288739178742,
        "transit_id": 20491735359328344
       },
       {
        "band": "G",
        "flux": 4843.015907987408,
        "flux_error": 12.05653626108381,
        "flux_over_error": 401.69214,
        "mag": 16.4755759861498,
        "other_flags": 1,
        "rejected_by_photometry": false,
        "rejected_by_variability": false,
        "solution_id": 369295549951642000,
        "source_id": 1796422062134294500,
        "time": 1819.3314933803622,
        "transit_id": 23361972556943970
       },
       {
        "band": "G",
        "flux": 4771.342821723472,
        "flux_error": 11.597195586747464,
        "flux_over_error": 411.42212,
        "mag": 16.491764170604476,
        "other_flags": 4194817,
        "rejected_by_photometry": false,
        "rejected_by_variability": false,
        "solution_id": 369295549951642000,
        "source_id": 1796422062134294500,
        "time": 1819.4054665074077,
        "transit_id": 23366064846194256
       },
       {
        "band": "G",
        "flux": 4813.22238680128,
        "flux_error": 14.29573666896776,
        "flux_over_error": 336.68936,
        "mag": 16.482275905161856,
        "other_flags": 1,
        "rejected_by_photometry": false,
        "rejected_by_variability": false,
        "solution_id": 369295549951642000,
        "source_id": 1796422062134294500,
        "time": 1938.322548671751,
        "transit_id": 29941775893667910
       },
       {
        "band": "G",
        "flux": 4729.448517017827,
        "flux_error": 12.497341520025815,
        "flux_over_error": 378.43637,
        "mag": 16.501339469458642,
        "other_flags": 1,
        "rejected_by_photometry": false,
        "rejected_by_variability": false,
        "solution_id": 369295549951642000,
        "source_id": 1796422062134294500,
        "time": 1938.396560267589,
        "transit_id": 29945868182938990
       },
       {
        "band": "G",
        "flux": 4850.215861864326,
        "flux_error": 13.559807728280797,
        "flux_over_error": 357.6906,
        "mag": 16.473963056175563,
        "other_flags": 1,
        "rejected_by_photometry": false,
        "rejected_by_variability": false,
        "solution_id": 369295549951642000,
        "source_id": 1796422062134294500,
        "time": 1964.0732313505912,
        "transit_id": 31365583907738750
       },
       {
        "band": "G",
        "flux": 4879.949163502031,
        "flux_error": 25.787046197551714,
        "flux_over_error": 189.24033,
        "mag": 16.467327480627905,
        "other_flags": 4198913,
        "rejected_by_photometry": false,
        "rejected_by_variability": false,
        "solution_id": 369295549951642000,
        "source_id": 1796422062134294500,
        "time": 1964.1472160161882,
        "transit_id": 31369676198299544
       },
       {
        "band": "G",
        "flux": 4989.623569660926,
        "flux_error": 219.7286496081286,
        "flux_over_error": 22.708115,
        "mag": 16.44319626876932,
        "other_flags": 4105,
        "rejected_by_photometry": false,
        "rejected_by_variability": true,
        "solution_id": 369295549951642000,
        "source_id": 1796422062134294500,
        "time": 1993.888383984165,
        "transit_id": 33014110898001590
       },
       {
        "band": "G",
        "flux": 4734.383513718523,
        "flux_error": 24.29804018959178,
        "flux_over_error": 194.84631,
        "mag": 16.500207136370616,
        "other_flags": 4097,
        "rejected_by_photometry": false,
        "rejected_by_variability": false,
        "solution_id": 369295549951642000,
        "source_id": 1796422062134294500,
        "time": 1994.0645553927259,
        "transit_id": 33023851710931000
       },
       {
        "band": "G",
        "flux": 4842.155657498689,
        "flux_error": 16.769110341085412,
        "flux_over_error": 288.7545,
        "mag": 16.47576885936777,
        "other_flags": 1,
        "rejected_by_photometry": false,
        "rejected_by_variability": false,
        "solution_id": 369295549951642000,
        "source_id": 1796422062134294500,
        "time": 2039.0243851078242,
        "transit_id": 35509791573041450
       },
       {
        "band": "G",
        "flux": 4820.613124900458,
        "flux_error": 9.833237933753498,
        "flux_over_error": 490.2366,
        "mag": 16.480610027952586,
        "other_flags": 1,
        "rejected_by_photometry": false,
        "rejected_by_variability": false,
        "solution_id": 369295549951642000,
        "source_id": 1796422062134294500,
        "time": 2039.098396348324,
        "transit_id": 35513883920233230
       },
       {
        "band": "G",
        "flux": 4880.70834215005,
        "flux_error": 90.52528046224482,
        "flux_over_error": 53.915417,
        "mag": 16.467158584681044,
        "other_flags": 4161,
        "rejected_by_photometry": false,
        "rejected_by_variability": true,
        "solution_id": 369295549951642000,
        "source_id": 1796422062134294500,
        "time": 2039.2745631804662,
        "transit_id": 35523624819906290
       },
       {
        "band": "G",
        "flux": 4831.8814441284285,
        "flux_error": 8.501230613010629,
        "flux_over_error": 568.3743,
        "mag": 16.47807505056972,
        "other_flags": 1,
        "rejected_by_photometry": false,
        "rejected_by_variability": false,
        "solution_id": 369295549951642000,
        "source_id": 1796422062134294500,
        "time": 2039.5247392831625,
        "transit_id": 35537457961644670
       },
       {
        "band": "G",
        "flux": 4808.652470305385,
        "flux_error": 20.947878593655574,
        "flux_over_error": 229.55319,
        "mag": 16.483307247647407,
        "other_flags": 4198913,
        "rejected_by_photometry": false,
        "rejected_by_variability": false,
        "solution_id": 369295549951642000,
        "source_id": 1796422062134294500,
        "time": 2039.5987212386244,
        "transit_id": 35541550245921536
       },
       {
        "band": "G",
        "flux": 4840.545723996184,
        "flux_error": 12.044458868225993,
        "flux_over_error": 401.88983,
        "mag": 16.476129908012805,
        "other_flags": 1,
        "rejected_by_photometry": false,
        "rejected_by_variability": false,
        "solution_id": 369295549951642000,
        "source_id": 1796422062134294500,
        "time": 2039.774913774235,
        "transit_id": 35551291017929624
       },
       {
        "band": "G",
        "flux": 4831.506945464653,
        "flux_error": 8.650691497048053,
        "flux_over_error": 558.51105,
        "mag": 16.478159204645227,
        "other_flags": 1,
        "rejected_by_photometry": false,
        "rejected_by_variability": false,
        "solution_id": 369295549951642000,
        "source_id": 1796422062134294500,
        "time": 2039.8489234545,
        "transit_id": 35555383281365860
       },
       {
        "band": "G",
        "flux": 4842.795852720763,
        "flux_error": 15.905081554888074,
        "flux_over_error": 304.48105,
        "mag": 16.475625320573386,
        "other_flags": 1,
        "rejected_by_photometry": false,
        "rejected_by_variability": false,
        "solution_id": 369295549951642000,
        "source_id": 1796422062134294500,
        "time": 2040.0250869921215,
        "transit_id": 35565124008022610
       },
       {
        "band": "G",
        "flux": 4870.300831615373,
        "flux_error": 24.824223324172983,
        "flux_over_error": 196.19147,
        "mag": 16.46947625561713,
        "other_flags": 4097,
        "rejected_by_photometry": false,
        "rejected_by_variability": false,
        "solution_id": 369295549951642000,
        "source_id": 1796422062134294500,
        "time": 2040.099096357327,
        "transit_id": 35569216255205744
       },
       {
        "band": "G",
        "flux": 4839.4026659652545,
        "flux_error": 18.8078902677538,
        "flux_over_error": 257.30704,
        "mag": 16.476386326630774,
        "other_flags": 2097153,
        "rejected_by_photometry": false,
        "rejected_by_variability": false,
        "solution_id": 369295549951642000,
        "source_id": 1796422062134294500,
        "time": 2040.2752381965656,
        "transit_id": 35578956951066264
       },
       {
        "band": "G",
        "flux": 4821.274402806216,
        "flux_error": 10.089062968472504,
        "flux_over_error": 477.87137,
        "mag": 16.480461099983295,
        "other_flags": 131073,
        "rejected_by_photometry": false,
        "rejected_by_variability": false,
        "solution_id": 369295549951642000,
        "source_id": 1796422062134294500,
        "time": 2040.3492755131115,
        "transit_id": 35583049190122760
       },
       {
        "band": "G",
        "flux": 4888.337836761227,
        "flux_error": 13.313023194848784,
        "flux_over_error": 367.18466,
        "mag": 16.465462693381973,
        "other_flags": 1,
        "rejected_by_photometry": false,
        "rejected_by_variability": false,
        "solution_id": 369295549951642000,
        "source_id": 1796422062134294500,
        "time": 2041.0257744149033,
        "transit_id": 35620455706006896
       },
       {
        "band": "G",
        "flux": 4838.131147715519,
        "flux_error": 7.568673170084256,
        "flux_over_error": 639.2311,
        "mag": 16.476671633493716,
        "other_flags": 1,
        "rejected_by_photometry": false,
        "rejected_by_variability": false,
        "solution_id": 369295549951642000,
        "source_id": 1796422062134294500,
        "time": 2041.0997835379926,
        "transit_id": 35624547944931796
       },
       {
        "band": "G",
        "flux": 4835.9900266678205,
        "flux_error": 11.92761349827312,
        "flux_over_error": 405.4449,
        "mag": 16.47715223377488,
        "other_flags": 1,
        "rejected_by_photometry": false,
        "rejected_by_variability": false,
        "solution_id": 369295549951642000,
        "source_id": 1796422062134294500,
        "time": 2041.2759466275995,
        "transit_id": 35634288660320370
       },
       {
        "band": "G",
        "flux": 4831.698877330045,
        "flux_error": 13.540256953175733,
        "flux_over_error": 356.83954,
        "mag": 16.478116074574537,
        "other_flags": 1,
        "rejected_by_photometry": false,
        "rejected_by_variability": false,
        "solution_id": 369295549951642000,
        "source_id": 1796422062134294500,
        "time": 2041.349955992105,
        "transit_id": 35638380913669130
       },
       {
        "band": "G",
        "flux": 4821.904535150571,
        "flux_error": 10.806264076699119,
        "flux_over_error": 446.21384,
        "mag": 16.480319205384962,
        "other_flags": 1,
        "rejected_by_photometry": false,
        "rejected_by_variability": false,
        "solution_id": 369295549951642000,
        "source_id": 1796422062134294500,
        "time": 2041.5261197266377,
        "transit_id": 35648121668116744
       },
       {
        "band": "G",
        "flux": 4851.719774048389,
        "flux_error": 14.479626072908054,
        "flux_over_error": 335.07217,
        "mag": 16.4736264528458,
        "other_flags": 4194817,
        "rejected_by_photometry": false,
        "rejected_by_variability": false,
        "solution_id": 369295549951642000,
        "source_id": 1796422062134294500,
        "time": 2041.6001012811573,
        "transit_id": 35652213939815420
       },
       {
        "band": "G",
        "flux": 4797.91726667482,
        "flux_error": 15.565776303249736,
        "flux_over_error": 308.23502,
        "mag": 16.485733837870143,
        "other_flags": 4194817,
        "rejected_by_photometry": false,
        "rejected_by_variability": false,
        "solution_id": 369295549951642000,
        "source_id": 1796422062134294500,
        "time": 2041.7762659297973,
        "transit_id": 35661954746959690
       },
       {
        "band": "G",
        "flux": 4847.078544986408,
        "flux_error": 7.0572925273018825,
        "flux_over_error": 686.8184,
        "mag": 16.474665581745292,
        "other_flags": 262145,
        "rejected_by_photometry": false,
        "rejected_by_variability": false,
        "solution_id": 369295549951642000,
        "source_id": 1796422062134294500,
        "time": 2041.8503041625556,
        "transit_id": 35666047044473264
       },
       {
        "band": "G",
        "flux": 4841.14741929268,
        "flux_error": 16.82045813012158,
        "flux_over_error": 287.81305,
        "mag": 16.47599495592151,
        "other_flags": 1,
        "rejected_by_photometry": false,
        "rejected_by_variability": false,
        "solution_id": 369295549951642000,
        "source_id": 1796422062134294500,
        "time": 2042.026469916256,
        "transit_id": 35675787915187056
       },
       {
        "band": "G",
        "flux": 4830.6814266775145,
        "flux_error": 15.03578840776589,
        "flux_over_error": 321.2789,
        "mag": 16.478344731071036,
        "other_flags": 1,
        "rejected_by_photometry": false,
        "rejected_by_variability": false,
        "solution_id": 369295549951642000,
        "source_id": 1796422062134294500,
        "time": 2042.1004805789926,
        "transit_id": 35679880244688144
       },
       {
        "band": "G",
        "flux": 4843.338021026466,
        "flux_error": 17.359797849127734,
        "flux_over_error": 278.99738,
        "mag": 16.475503775328015,
        "other_flags": 1,
        "rejected_by_photometry": false,
        "rejected_by_variability": false,
        "solution_id": 369295549951642000,
        "source_id": 1796422062134294500,
        "time": 2042.2766476545164,
        "transit_id": 35689621191554376
       },
       {
        "band": "G",
        "flux": 4811.17192224015,
        "flux_error": 16.519972269762455,
        "flux_over_error": 291.23364,
        "mag": 16.482738534512396,
        "other_flags": 4194817,
        "rejected_by_photometry": false,
        "rejected_by_variability": false,
        "solution_id": 369295549951642000,
        "source_id": 1796422062134294500,
        "time": 2142.6493300914876,
        "transit_id": 41239968143525600
       },
       {
        "band": "G",
        "flux": 4865.933624220816,
        "flux_error": 12.202740408884933,
        "flux_over_error": 398.75745,
        "mag": 16.470450273965078,
        "other_flags": 1,
        "rejected_by_photometry": false,
        "rejected_by_variability": false,
        "solution_id": 369295549951642000,
        "source_id": 1796422062134294500,
        "time": 2142.72335929072,
        "transit_id": 41244060424643870
       },
       {
        "band": "G",
        "flux": 4773.398268772422,
        "flux_error": 15.139388404005818,
        "flux_over_error": 315.29663,
        "mag": 16.49129654695888,
        "other_flags": 1,
        "rejected_by_photometry": false,
        "rejected_by_variability": false,
        "solution_id": 369295549951642000,
        "source_id": 1796422062134294500,
        "time": 2168.138992233388,
        "transit_id": 42649558070736150
       },
       {
        "band": "G",
        "flux": 4776.24048584511,
        "flux_error": 15.382483747032285,
        "flux_over_error": 310.49866,
        "mag": 16.490650261136345,
        "other_flags": 1,
        "rejected_by_photometry": false,
        "rejected_by_variability": false,
        "solution_id": 369295549951642000,
        "source_id": 1796422062134294500,
        "time": 2168.2129929883686,
        "transit_id": 42653650355024330
       },
       {
        "band": "G",
        "flux": 4839.538953875629,
        "flux_error": 14.533847283165278,
        "flux_over_error": 332.98404,
        "mag": 16.476355750411933,
        "other_flags": 262145,
        "rejected_by_photometry": false,
        "rejected_by_variability": false,
        "solution_id": 369295549951642000,
        "source_id": 1796422062134294500,
        "time": 2195.129240486381,
        "transit_id": 44142127601579800
       },
       {
        "band": "G",
        "flux": 4852.745150091327,
        "flux_error": 25.074189448078556,
        "flux_over_error": 193.53548,
        "mag": 16.473397014560195,
        "other_flags": 4097,
        "rejected_by_photometry": false,
        "rejected_by_variability": false,
        "solution_id": 369295549951642000,
        "source_id": 1796422062134294500,
        "time": 2195.2032417663804,
        "transit_id": 44146219864477770
       },
       {
        "band": "G",
        "flux": 4748.500003415609,
        "flux_error": 13.185206368931675,
        "flux_over_error": 360.13846,
        "mag": 16.4969746184889,
        "other_flags": 4194817,
        "rejected_by_photometry": false,
        "rejected_by_variability": false,
        "solution_id": 369295549951642000,
        "source_id": 1796422062134294500,
        "time": 2314.622238957728,
        "transit_id": 50749604116973130
       },
       {
        "band": "G",
        "flux": 4721.890797816629,
        "flux_error": 15.067531906300081,
        "flux_over_error": 313.38184,
        "mag": 16.50307587756712,
        "other_flags": 1,
        "rejected_by_photometry": false,
        "rejected_by_variability": false,
        "solution_id": 369295549951642000,
        "source_id": 1796422062134294500,
        "time": 2314.696278952496,
        "transit_id": 50753696387362910
       }
      ],
      "text/plain": [
       "<IPython.core.display.JSON object>"
      ]
     },
     "metadata": {
      "application/json": {
       "expanded": false
      }
     },
     "output_type": "display_data"
    }
   ],
   "source": [
    "q = {\"query_type\": \"find\", \n",
    "     \"query\": {\n",
    "         \"catalog\": \"Gaia_DR2_light_curves\",\n",
    "         \"filter\": {'source_id': 1796422062134294656, 'band': 'G'},\n",
    "         \"projection\": {'_id': 0}\n",
    "     },\n",
    "     \"kwargs\": {\n",
    "         \"max_time_ms\": 5000  # increase if necessary\n",
    "     }\n",
    "     }\n",
    "     \n",
    "r = k.query(query=q)\n",
    "\n",
    "data = r['result_data']['query_result']\n",
    "display(JSON(data, expanded=False))"
   ]
  },
  {
   "cell_type": "markdown",
   "metadata": {},
   "source": [
    "---\n",
    "*<b>#5:</b> Iterate over `_id`'s of all sources in the `RFC_2019a` catalog in batches of 100*"
   ]
  },
  {
   "cell_type": "code",
   "execution_count": 42,
   "metadata": {},
   "outputs": [],
   "source": [
    "# from tqdm.auto import tqdm\n",
    "import tqdm\n",
    "import numpy as np"
   ]
  },
  {
   "cell_type": "code",
   "execution_count": 43,
   "metadata": {},
   "outputs": [
    {
     "data": {
      "text/plain": [
       "15740"
      ]
     },
     "metadata": {},
     "output_type": "display_data"
    },
    {
     "name": "stderr",
     "output_type": "stream",
     "text": [
      "100%|██████████| 158/158 [00:01<00:00, 114.46it/s]\n"
     ]
    }
   ],
   "source": [
    "# count the documents first\n",
    "q = {\"query_type\": \"count_documents\", \"query\": {\"catalog\": \"RFC_2019a\", \"filter\": {}}}\n",
    "r = k.query(query=q)\n",
    "n = r['result_data']['query_result']\n",
    "display(n)\n",
    "\n",
    "batch_size = 100\n",
    "num_batches = int(np.ceil(n / batch_size))\n",
    "\n",
    "for nb in tqdm.tqdm(range(num_batches)):\n",
    "    q = {\"query_type\": \"find\", \n",
    "         \"query\": {\"catalog\": \"RFC_2019a\", \"filter\": {}, \"projection\": {\"_id\": 1}},\n",
    "         \"kwargs\": {\"skip\": nb*batch_size, \"limit\": batch_size}}\n",
    "    r = k.query(query=q)\n",
    "    data = r['result_data']['query_result']\n",
    "    # do stuff with data\n",
    "    # print(data)"
   ]
  },
  {
   "cell_type": "markdown",
   "metadata": {},
   "source": [
    "---\n",
    "*<b>#6:</b> Find all `PanSTARRS1 DR1` objects with $g-r<0$, return source _id's, colors, and positions*"
   ]
  },
  {
   "cell_type": "code",
   "execution_count": 44,
   "metadata": {},
   "outputs": [
    {
     "data": {
      "application/json": [],
      "text/plain": [
       "<IPython.core.display.JSON object>"
      ]
     },
     "metadata": {
      "application/json": {
       "expanded": false
      }
     },
     "output_type": "display_data"
    }
   ],
   "source": [
    "q = {\"query_type\": \"find\", \n",
    "     \"query\": {\n",
    "         \"catalog\": \"PanSTARRS1\",\n",
    "         \"filter\": {'$expr': {'$lt': ['$gMeanPSFMag', '$rMeanPSFMag']}},\n",
    "         \"projection\": {'_id': 1, 'gMeanPSFMag': 1, 'rMeanPSFMag': 1, 'raMean': 1, 'decMean': 1}\n",
    "     },\n",
    "     \"kwargs\": {\n",
    "         \"limit\": 1,  # comment out to get all such object, not just one\n",
    "         \"max_time_ms\": 5000  # increase if necessary\n",
    "     }\n",
    "     }\n",
    "     \n",
    "r = k.query(query=q)\n",
    "\n",
    "data = r['result_data']['query_result']\n",
    "display(JSON(data, expanded=False))"
   ]
  },
  {
   "cell_type": "markdown",
   "metadata": {},
   "source": [
    "---\n",
    "\n",
    "*<b>#7:</b> Find all PanSTARRS objects with $g-r < -0.1$, return source _id's, colors, and positions*"
   ]
  },
  {
   "cell_type": "code",
   "execution_count": null,
   "metadata": {},
   "outputs": [],
   "source": [
    "q = {\"query_type\": \"find\", \n",
    "     \"query\": {\n",
    "         \"catalog\": \"PanSTARRS1\",\n",
    "         \"filter\": {'gMeanPSFMag': {'$ne': -999}, 'rMeanPSFMag': {'$ne': -999}, \n",
    "                    '$expr': {'$gt': [{'$subtract': ['$gMeanPSFMag', '$rMeanPSFMag']}, -0.1]}},\n",
    "         \"projection\": {'_id': 1, 'gMeanPSFMag': 1, 'rMeanPSFMag': 1, 'raMean': 1, 'decMean': 1}\n",
    "     },\n",
    "     \"kwargs\": {\n",
    "         \"limit\": 1,  # comment out to get all such object, not just one\n",
    "         \"max_time_ms\": 5000  # increase if necessary\n",
    "     }\n",
    "     }\n",
    "     \n",
    "r = k.query(query=q)\n",
    "\n",
    "data = r['result_data']['query_result']\n",
    "display(JSON(data, expanded=False))"
   ]
  },
  {
   "cell_type": "markdown",
   "metadata": {},
   "source": [
    "#### `aggregate`\n",
    "\n",
    "The `aggregate` query type is used to execute aggregation pipelines on a catalog potentially involving complicated computations and/or/involving (left outer) joins with other catalogs."
   ]
  },
  {
   "cell_type": "markdown",
   "metadata": {},
   "source": [
    "##### Examples"
   ]
  },
  {
   "cell_type": "markdown",
   "metadata": {},
   "source": [
    "*<b>#1</b>: Get all ZTF transient `objectId`'s detected more than 40 times from August 2-4, 2019*"
   ]
  },
  {
   "cell_type": "code",
   "execution_count": 45,
   "metadata": {},
   "outputs": [
    {
     "data": {
      "text/plain": [
       "['ZTF18aavedij',\n",
       " 'ZTF18aaxpntb',\n",
       " 'ZTF18aaxythd',\n",
       " 'ZTF18aaydzzi',\n",
       " 'ZTF18aayhgbi',\n",
       " 'ZTF18aazmbgp',\n",
       " 'ZTF18abahirx',\n",
       " 'ZTF18abcmsqc',\n",
       " 'ZTF18abcqfcq',\n",
       " 'ZTF18abeaynz',\n",
       " 'ZTF18abjflti']"
      ]
     },
     "metadata": {},
     "output_type": "display_data"
    }
   ],
   "source": [
    "from astropy.time import Time\n",
    "import datetime\n",
    "\n",
    "jd_start = Time(datetime.datetime(2019, 8, 2), scale='utc').jd\n",
    "jd_end = Time(datetime.datetime(2019, 8, 4), scale='utc').jd\n",
    "# jd_start, jd_end = 2458697.5, 2458699.5\n",
    "\n",
    "q = {\"query_type\": \"aggregate\", \n",
    "     \"query\": {\n",
    "         \"catalog\": \"ZTF_alerts\",\n",
    "         \"pipeline\": [{'$match': {'candidate.jd': {'$gt': jd_start, '$lt': jd_end}}}, \n",
    "                      {'$group' : { '_id': '$objectId', 'count': { '$sum': 1 } } }, \n",
    "                      {'$match': {'count' : {'$gt': 40} } }, \n",
    "                      {'$project': {'objectId' : '$_id', '_id' : 0} }]\n",
    "     },\n",
    "     \"kwargs\": {\n",
    "         \"max_time_ms\": 20000  # increase if necessary\n",
    "     }\n",
    "     }\n",
    "\n",
    "r = k.query(query=q)\n",
    "\n",
    "data = r['result_data']['query_result']\n",
    "# display(JSON(data, expanded=True))\n",
    "oids = [o['objectId'] for o in data]\n",
    "display(oids)"
   ]
  },
  {
   "cell_type": "markdown",
   "metadata": {},
   "source": [
    "---\n",
    "*<b>#2:</b> Get all alert `objectId`'s for transients with more than 40 detections from August 2-4, 2019, each with a drb score of >= 0.5*"
   ]
  },
  {
   "cell_type": "code",
   "execution_count": 46,
   "metadata": {},
   "outputs": [
    {
     "data": {
      "text/plain": [
       "['ZTF18aaxpntb',\n",
       " 'ZTF18aaxythd',\n",
       " 'ZTF18aaydzzi',\n",
       " 'ZTF18aayhgbi',\n",
       " 'ZTF18aazmbgp',\n",
       " 'ZTF18abahirx',\n",
       " 'ZTF18abcmsqc',\n",
       " 'ZTF18abeaynz',\n",
       " 'ZTF18abjflti']"
      ]
     },
     "metadata": {},
     "output_type": "display_data"
    }
   ],
   "source": [
    "# jd_start, jd_end = 2458697.5, 2458699.5\n",
    "\n",
    "q = {\"query_type\": \"aggregate\", \n",
    "     \"query\": {\n",
    "         \"catalog\": \"ZTF_alerts\",\n",
    "         \"pipeline\": [{'$match': {'candidate.jd': {'$gt': jd_start, '$lt': jd_end}}}, \n",
    "                      {'$group' : {'_id': '$objectId', \n",
    "                                   'count': { '$sum': {\n",
    "                                       '$cond': [ { '$gte': [ '$candidate.drb', 0.5 ] }, 1, 0]} } } },\n",
    "                      {'$match': {'count' : {'$gt': 40} } }, \n",
    "                      {'$project': {'objectId' : '$_id', '_id' : 0} }]\n",
    "     },\n",
    "     \"kwargs\": {\n",
    "         \"max_time_ms\": 30000  # increase if necessary\n",
    "     }\n",
    "     }\n",
    "\n",
    "r = k.query(query=q)\n",
    "\n",
    "data = r['result_data']['query_result']\n",
    "# display(JSON(data, expanded=True))\n",
    "oids = [o['objectId'] for o in data]\n",
    "display(oids)"
   ]
  },
  {
   "cell_type": "markdown",
   "metadata": {},
   "source": [
    "---\n",
    "*<b>#3:</b> Get all alert `objectId`'s for transients with more than 20 detections in R and i bands from August 2-4, 2019, each with a drb score of >= 0.5*"
   ]
  },
  {
   "cell_type": "code",
   "execution_count": 50,
   "metadata": {},
   "outputs": [
    {
     "data": {
      "text/plain": [
       "['ZTF18aaxjkjw',\n",
       " 'ZTF18abbwqoc',\n",
       " 'ZTF18abbxmuh',\n",
       " 'ZTF19aasilxx',\n",
       " 'ZTF18abcubnx',\n",
       " 'ZTF18abahutn',\n",
       " 'ZTF18aaydaoq',\n",
       " 'ZTF18abhkxop',\n",
       " 'ZTF18ablrwhf',\n",
       " 'ZTF18aaydsfo',\n",
       " 'ZTF18absqxne',\n",
       " 'ZTF18abebbol',\n",
       " 'ZTF18abegfhs',\n",
       " 'ZTF18aaxjkmr',\n",
       " 'ZTF19aaonskl',\n",
       " 'ZTF19aapqnzg',\n",
       " 'ZTF18abahisf',\n",
       " 'ZTF18abbxkox',\n",
       " 'ZTF18abbwtqn',\n",
       " 'ZTF18abcqknn',\n",
       " 'ZTF18abegbjv',\n",
       " 'ZTF18abayevm',\n",
       " 'ZTF18abhjrfn',\n",
       " 'ZTF18abeazay',\n",
       " 'ZTF18ablpekq',\n",
       " 'ZTF18abecidp',\n",
       " 'ZTF18abhxbey',\n",
       " 'ZTF18abcsqpw',\n",
       " 'ZTF18abgkbcp',\n",
       " 'ZTF18abapxjv',\n",
       " 'ZTF18abdebhw',\n",
       " 'ZTF19aaontnn',\n",
       " 'ZTF18absqxkb',\n",
       " 'ZTF18abfivlz',\n",
       " 'ZTF19aaimlea',\n",
       " 'ZTF18ablrcfo',\n",
       " 'ZTF18abbxkcv',\n",
       " 'ZTF19aaontjs',\n",
       " 'ZTF18aavyqmy',\n",
       " 'ZTF18abqayfp',\n",
       " 'ZTF18abfivnq',\n",
       " 'ZTF18abcspzd',\n",
       " 'ZTF18aayozyn',\n",
       " 'ZTF18abifsoh',\n",
       " 'ZTF18abiycxq',\n",
       " 'ZTF18aaxyuto',\n",
       " 'ZTF19aatvvnj',\n",
       " 'ZTF18abefvlr',\n",
       " 'ZTF18abcspyi',\n",
       " 'ZTF18abbwtth',\n",
       " 'ZTF18abahjmw',\n",
       " 'ZTF18abdfifw',\n",
       " 'ZTF19aaimjvk',\n",
       " 'ZTF18aazuthd',\n",
       " 'ZTF18abkixvt',\n",
       " 'ZTF18abackim',\n",
       " 'ZTF18ablxpmg',\n",
       " 'ZTF18abdktfq',\n",
       " 'ZTF18abiydzl',\n",
       " 'ZTF18abegfiv',\n",
       " 'ZTF18aaydzzi',\n",
       " 'ZTF18aazmbgp',\n",
       " 'ZTF18ablilkx',\n",
       " 'ZTF18aayhgaf',\n",
       " 'ZTF18aayhgbi',\n",
       " 'ZTF18abbkngs',\n",
       " 'ZTF18abebgwe',\n",
       " 'ZTF18abjarrk',\n",
       " 'ZTF18aaxythd',\n",
       " 'ZTF18aawkneh',\n",
       " 'ZTF18aazmecx',\n",
       " 'ZTF18abebgvz',\n",
       " 'ZTF18abjflti',\n",
       " 'ZTF18aayhgam',\n",
       " 'ZTF18abebunw',\n",
       " 'ZTF18abebgye',\n",
       " 'ZTF18abijddo',\n",
       " 'ZTF18abebuly',\n",
       " 'ZTF18abcpvzb',\n",
       " 'ZTF18abijbzm',\n",
       " 'ZTF18aayhgbn',\n",
       " 'ZTF18abjapzl',\n",
       " 'ZTF18ablrfbk',\n",
       " 'ZTF18abfnzgw',\n",
       " 'ZTF18abfnybv',\n",
       " 'ZTF18ablwzcj',\n",
       " 'ZTF19aatvvnh',\n",
       " 'ZTF19aargodw',\n",
       " 'ZTF18abkixuw',\n",
       " 'ZTF18abahiry',\n",
       " 'ZTF18abkispb',\n",
       " 'ZTF19aatvvoe',\n",
       " 'ZTF19aatvvnc',\n",
       " 'ZTF19abibivy',\n",
       " 'ZTF18abkixph',\n",
       " 'ZTF19aauelqn',\n",
       " 'ZTF19aatvvno',\n",
       " 'ZTF19abhzrsu',\n",
       " 'ZTF18abkixvk',\n",
       " 'ZTF18abkiser',\n",
       " 'ZTF18ablwzcb',\n",
       " 'ZTF18abiydft',\n",
       " 'ZTF18abfqerf',\n",
       " 'ZTF18aburhuo',\n",
       " 'ZTF18abkjglp',\n",
       " 'ZTF18abfqnie',\n",
       " 'ZTF19abagpdo',\n",
       " 'ZTF19abibztr',\n",
       " 'ZTF18aayozjy',\n",
       " 'ZTF18ablpbmi',\n",
       " 'ZTF18abqawte',\n",
       " 'ZTF18abahjjo',\n",
       " 'ZTF18abfqmpn',\n",
       " 'ZTF18abhdqtw',\n",
       " 'ZTF19aauezmg',\n",
       " 'ZTF18abkkdkk',\n",
       " 'ZTF19abcpgrk',\n",
       " 'ZTF18abchmgc',\n",
       " 'ZTF18abahjnx',\n",
       " 'ZTF18abctxdt',\n",
       " 'ZTF19aauelrf',\n",
       " 'ZTF19aapqfje',\n",
       " 'ZTF18abldlqw',\n",
       " 'ZTF18absmdgr',\n",
       " 'ZTF19aapqegq',\n",
       " 'ZTF18abrtqtj',\n",
       " 'ZTF18abhemfw',\n",
       " 'ZTF18abocobx',\n",
       " 'ZTF18aavedjf',\n",
       " 'ZTF18aazluoo',\n",
       " 'ZTF18abiydfq',\n",
       " 'ZTF18abfoxrg',\n",
       " 'ZTF18ablliyk',\n",
       " 'ZTF19aatvvnu',\n",
       " 'ZTF18abebgvq',\n",
       " 'ZTF18abcsqxb',\n",
       " 'ZTF18abcmsxf',\n",
       " 'ZTF18abfkdou',\n",
       " 'ZTF18abjktjy',\n",
       " 'ZTF18ablrtxa',\n",
       " 'ZTF18abeaztn',\n",
       " 'ZTF18abkixvq',\n",
       " 'ZTF18abpfeer',\n",
       " 'ZTF18abcvzkj',\n",
       " 'ZTF19aawbsqd',\n",
       " 'ZTF18abebdei',\n",
       " 'ZTF18abcoflx',\n",
       " 'ZTF18abahibo',\n",
       " 'ZTF18ablwzcc',\n",
       " 'ZTF18abcoiha',\n",
       " 'ZTF18aaydzjk',\n",
       " 'ZTF18abahgxl',\n",
       " 'ZTF18abijszy',\n",
       " 'ZTF18ablrvgl',\n",
       " 'ZTF18aazayzt',\n",
       " 'ZTF18aazcync',\n",
       " 'ZTF18abiyejo',\n",
       " 'ZTF18abhdgeu',\n",
       " 'ZTF18abgvfxi',\n",
       " 'ZTF18abctanr',\n",
       " 'ZTF18ablqtfa',\n",
       " 'ZTF18absqxnw',\n",
       " 'ZTF18abgvfhb',\n",
       " 'ZTF18abebdke',\n",
       " 'ZTF18abfiucr',\n",
       " 'ZTF18abcvvfz',\n",
       " 'ZTF18ablbtjg',\n",
       " 'ZTF18abehhuz',\n",
       " 'ZTF18abqcrzi',\n",
       " 'ZTF18abcoetb',\n",
       " 'ZTF18aayozig',\n",
       " 'ZTF18abcmtch',\n",
       " 'ZTF18abahtci',\n",
       " 'ZTF18absqxoc',\n",
       " 'ZTF18abcvzkf',\n",
       " 'ZTF18abegxzr',\n",
       " 'ZTF18abctsod',\n",
       " 'ZTF18ablqxrb',\n",
       " 'ZTF18aayhgbx',\n",
       " 'ZTF18abiycak',\n",
       " 'ZTF18abrroff',\n",
       " 'ZTF18abhbykm',\n",
       " 'ZTF18abecjtt',\n",
       " 'ZTF18aazmegj',\n",
       " 'ZTF18ablwzbh',\n",
       " 'ZTF18abkixte',\n",
       " 'ZTF18abcgojg',\n",
       " 'ZTF19abbweoe',\n",
       " 'ZTF18abssmly',\n",
       " 'ZTF19aathkxg',\n",
       " 'ZTF18abpfdbr',\n",
       " 'ZTF18abpfeeu',\n",
       " 'ZTF18aazaxeb',\n",
       " 'ZTF19aapqnpm',\n",
       " 'ZTF18abdebxk',\n",
       " 'ZTF18aaygrlv',\n",
       " 'ZTF18abcpwbk',\n",
       " 'ZTF19aasijsy',\n",
       " 'ZTF18abrubuh',\n",
       " 'ZTF18abluwzw',\n",
       " 'ZTF18abefyll',\n",
       " 'ZTF18abegyeg',\n",
       " 'ZTF18abcqaam',\n",
       " 'ZTF18abahjnj',\n",
       " 'ZTF18absqznf',\n",
       " 'ZTF18aaxkqal',\n",
       " 'ZTF19aatttfb',\n",
       " 'ZTF18abegyfu',\n",
       " 'ZTF19aawbona',\n",
       " 'ZTF18abmdcki',\n",
       " 'ZTF18acayhhe',\n",
       " 'ZTF19aawyyqy',\n",
       " 'ZTF18absrrkq',\n",
       " 'ZTF18abdlmcg',\n",
       " 'ZTF18abiftnl',\n",
       " 'ZTF18abebdht',\n",
       " 'ZTF18aaxmzzf',\n",
       " 'ZTF18abebboj',\n",
       " 'ZTF18abrsnhn',\n",
       " 'ZTF18abhmpuq',\n",
       " 'ZTF18abfjqwe',\n",
       " 'ZTF18abbxkds',\n",
       " 'ZTF18abegfkq',\n",
       " 'ZTF18abeaynz',\n",
       " 'ZTF18aaynrmq',\n",
       " 'ZTF18abkisez',\n",
       " 'ZTF18abcohvo',\n",
       " 'ZTF18ablpaml',\n",
       " 'ZTF18abcsrcy',\n",
       " 'ZTF18abegant',\n",
       " 'ZTF18abcfwyk',\n",
       " 'ZTF18abkizke',\n",
       " 'ZTF18aayoziu',\n",
       " 'ZTF18abaydbd',\n",
       " 'ZTF18abayfrm',\n",
       " 'ZTF18abaqxzi',\n",
       " 'ZTF18absqxbj',\n",
       " 'ZTF18abcsqnf',\n",
       " 'ZTF18abcpvzd',\n",
       " 'ZTF19aapqgjr',\n",
       " 'ZTF18abfpivh',\n",
       " 'ZTF19aapqiyp',\n",
       " 'ZTF18abgvnsm',\n",
       " 'ZTF18abkiuzj',\n",
       " 'ZTF19aasijub',\n",
       " 'ZTF18absqxoe',\n",
       " 'ZTF18abdcnrz',\n",
       " 'ZTF18abhkxog',\n",
       " 'ZTF18abcvzkx',\n",
       " 'ZTF18aaydcsn',\n",
       " 'ZTF18abhbyaf',\n",
       " 'ZTF18abcmtct',\n",
       " 'ZTF18aazazij',\n",
       " 'ZTF18ablpamp',\n",
       " 'ZTF18abbxkap',\n",
       " 'ZTF18abkixvr',\n",
       " 'ZTF18abixjyc',\n",
       " 'ZTF18ablozqo',\n",
       " 'ZTF18abmvvbx',\n",
       " 'ZTF18abpfefr',\n",
       " 'ZTF18abcmsxg',\n",
       " 'ZTF18absqxnj',\n",
       " 'ZTF18aayxddn',\n",
       " 'ZTF19aasnbsb',\n",
       " 'ZTF18abcmtsf',\n",
       " 'ZTF18aaxyuzj',\n",
       " 'ZTF18absrwjp',\n",
       " 'ZTF18aazdbhg',\n",
       " 'ZTF18aaydsgj',\n",
       " 'ZTF18abebgvo',\n",
       " 'ZTF18abbcvpb',\n",
       " 'ZTF18aaydsfn',\n",
       " 'ZTF18abfjqup',\n",
       " 'ZTF18abfjqut',\n",
       " 'ZTF18abhegii',\n",
       " 'ZTF18aaydsfy',\n",
       " 'ZTF18abcmsqc',\n",
       " 'ZTF19abhffca',\n",
       " 'ZTF18abeayiu',\n",
       " 'ZTF18abmmhid',\n",
       " 'ZTF18aazlujy',\n",
       " 'ZTF18aaxakmv',\n",
       " 'ZTF19aapqgiy',\n",
       " 'ZTF18aazrnjl',\n",
       " 'ZTF18abctxcf',\n",
       " 'ZTF18abecjjf',\n",
       " 'ZTF18abaqzds',\n",
       " 'ZTF18abmdcsd',\n",
       " 'ZTF18abrrfng',\n",
       " 'ZTF18abfipsp',\n",
       " 'ZTF18abfivlo',\n",
       " 'ZTF18abllepk',\n",
       " 'ZTF18abcwetp',\n",
       " 'ZTF18abnqcef',\n",
       " 'ZTF18abcgutj',\n",
       " 'ZTF19aatvvnb',\n",
       " 'ZTF18abfivof',\n",
       " 'ZTF18aayxegl',\n",
       " 'ZTF18aazrpfm',\n",
       " 'ZTF19aapqiyd',\n",
       " 'ZTF18abefzqd',\n",
       " 'ZTF18abkixsr',\n",
       " 'ZTF18abcqeuf',\n",
       " 'ZTF18abbxkcy',\n",
       " 'ZTF18abebdcz',\n",
       " 'ZTF18ablwzbl',\n",
       " 'ZTF18acayimy',\n",
       " 'ZTF18ababqpf',\n",
       " 'ZTF18abfjzre',\n",
       " 'ZTF18abegyce',\n",
       " 'ZTF18abegfko',\n",
       " 'ZTF18aberjkz',\n",
       " 'ZTF18ablbdfa',\n",
       " 'ZTF18abifsyc',\n",
       " 'ZTF18aazazim',\n",
       " 'ZTF18abcmtce',\n",
       " 'ZTF18ablpkxp',\n",
       " 'ZTF18abjamee',\n",
       " 'ZTF18abbwqtw',\n",
       " 'ZTF18abapyex',\n",
       " 'ZTF18abbmweo',\n",
       " 'ZTF18abahgwz',\n",
       " 'ZTF18abdksqz',\n",
       " 'ZTF18abijgeq',\n",
       " 'ZTF18abfnxnk',\n",
       " 'ZTF18abcmsfl',\n",
       " 'ZTF19aaimkgz',\n",
       " 'ZTF18ablqtsf',\n",
       " 'ZTF19aapqizx',\n",
       " 'ZTF18aaxnbuo',\n",
       " 'ZTF18abcspit',\n",
       " 'ZTF18aazmbfe',\n",
       " 'ZTF18aayeahu',\n",
       " 'ZTF18abdciiz',\n",
       " 'ZTF18aazaziv',\n",
       " 'ZTF18abegbit',\n",
       " 'ZTF18abpoggn',\n",
       " 'ZTF18abcpvzf',\n",
       " 'ZTF18abgvftq',\n",
       " 'ZTF18abahjkb',\n",
       " 'ZTF18abapyfr',\n",
       " 'ZTF18abiyhlz',\n",
       " 'ZTF18abhnzbq',\n",
       " 'ZTF18abebdme',\n",
       " 'ZTF18abebdbv',\n",
       " 'ZTF18abvgtab',\n",
       " 'ZTF18abebded',\n",
       " 'ZTF18abahgxu',\n",
       " 'ZTF18abpfefq',\n",
       " 'ZTF18abdlijr',\n",
       " 'ZTF18abdlhcn',\n",
       " 'ZTF18aazlxez',\n",
       " 'ZTF18aayozjc',\n",
       " 'ZTF18abahisn',\n",
       " 'ZTF18aavyoqg',\n",
       " 'ZTF18abhkxfc',\n",
       " 'ZTF18abkixsq',\n",
       " 'ZTF18abdcogt',\n",
       " 'ZTF18abahiac',\n",
       " 'ZTF18aaygrlt',\n",
       " 'ZTF19aaqrpki',\n",
       " 'ZTF18acbcnpj',\n",
       " 'ZTF18abbnhab',\n",
       " 'ZTF18abfivmx',\n",
       " 'ZTF18abcyvcl',\n",
       " 'ZTF18abkjzcc',\n",
       " 'ZTF19aawbsqh',\n",
       " 'ZTF18aaxpntb',\n",
       " 'ZTF18abegydq',\n",
       " 'ZTF18ablphdg',\n",
       " 'ZTF18abegbja',\n",
       " 'ZTF18abgvykm',\n",
       " 'ZTF18abegikl',\n",
       " 'ZTF19aapqfit',\n",
       " 'ZTF18abeazcj',\n",
       " 'ZTF18aazaziw',\n",
       " 'ZTF18abegycx',\n",
       " 'ZTF18aberjoh',\n",
       " 'ZTF18abifttf',\n",
       " 'ZTF18abkixrt',\n",
       " 'ZTF18ablrnuc',\n",
       " 'ZTF18abayitw',\n",
       " 'ZTF18abkojhu',\n",
       " 'ZTF18abbwwkc',\n",
       " 'ZTF19abhfevc',\n",
       " 'ZTF18ablqzll',\n",
       " 'ZTF18abgvfwz',\n",
       " 'ZTF18aavedij',\n",
       " 'ZTF18ablqtss',\n",
       " 'ZTF18abahjkv',\n",
       " 'ZTF18abebcyv',\n",
       " 'ZTF18abbxkdg',\n",
       " 'ZTF18abajasr',\n",
       " 'ZTF18ablifjk',\n",
       " 'ZTF18abiycxt',\n",
       " 'ZTF19aapqiyt',\n",
       " 'ZTF19aapqiyk',\n",
       " 'ZTF18abebigw',\n",
       " 'ZTF18abbwtsr',\n",
       " 'ZTF18abhdqup',\n",
       " 'ZTF18abkisfq',\n",
       " 'ZTF18abqhpbn',\n",
       " 'ZTF18abebdjm',\n",
       " 'ZTF18abifsio',\n",
       " 'ZTF18abahirx',\n",
       " 'ZTF18abcvzkg']"
      ]
     },
     "metadata": {},
     "output_type": "display_data"
    }
   ],
   "source": [
    "# jd_start, jd_end = 2458697.5, 2458699.5\n",
    "\n",
    "q = {\"query_type\": \"aggregate\", \n",
    "     \"query\": {\n",
    "         \"catalog\": \"ZTF_alerts\",\n",
    "         \"pipeline\": [{'$match': {'candidate.jd': {'$gt': jd_start, '$lt': jd_end-1.5}}}, \n",
    "                      {'$group' : {'_id': '$objectId', \n",
    "                                   'count': {'$sum': {'$cond': [\n",
    "                                       {'$and': [{ '$in': [ '$candidate.fid', [2, 3] ] },\n",
    "                                                 { '$gt': [ '$candidate.drb', 0.5 ] }]}, \n",
    "                                       1, 0 ]} } } },\n",
    "                      {'$match': {'count' : {'$gt': 20} } }, \n",
    "                      {'$project': {'objectId' : '$_id', '_id' : 0} }]\n",
    "     },\n",
    "     \"kwargs\": {\n",
    "         \"max_time_ms\": 300000  # increase if necessary\n",
    "     }\n",
    "     }\n",
    "\n",
    "r = k.query(query=q)\n",
    "\n",
    "data = r['result_data']['query_result']\n",
    "# display(JSON(data, expanded=True))\n",
    "oids = [o['objectId'] for o in data]\n",
    "display(oids)"
   ]
  },
  {
   "cell_type": "markdown",
   "metadata": {},
   "source": [
    "---\n",
    "\n",
    "*<b>#4:</b> Run a complicated query, remove the `cordinates` field from the result, and select a random sample from it*"
   ]
  },
  {
   "cell_type": "code",
   "execution_count": null,
   "metadata": {},
   "outputs": [],
   "source": [
    "# jd_start, jd_end = 2458697.5, 2458699.5\n",
    "\n",
    "q = {\"query_type\": \"aggregate\", \n",
    "     \"query\": {\n",
    "         \"catalog\": \"ZTF_alerts\",\n",
    "         \"pipeline\": [{'$match': {'candidate.jd': {'$gt': jd_start, '$lt': jd_end}, \n",
    "                                  'candidate.isdiffpos': 't', \n",
    "                                  'candidate.programid': 1,\n",
    "                                  'candidate.drb': {'$gt': 0.5, '$lt': 0.8}, \n",
    "                                  '$expr': {'$gt': [{'$abs': '$candidate.ssdistnr'}, 8]}} }\n",
    "                      {'$project': {'coordinates': 0}},\n",
    "                      {'$sample': { 'size': 100 }}]\n",
    "     },\n",
    "     \"kwargs\": {\n",
    "         \"max_time_ms\": 120000  # increase if necessary\n",
    "     }\n",
    "     }\n",
    "\n",
    "r = k.query(query=q)\n",
    "\n",
    "data = r['result_data']['query_result']\n",
    "# display(JSON(data, expanded=True))"
   ]
  },
  {
   "cell_type": "markdown",
   "metadata": {
    "pycharm": {
     "name": "#%%\n"
    }
   },
   "source": [
    "#### `general_search`\n",
    "\n",
    "The `general_search` query type provides a general interface that allows the user to execute queries of arbitrary complexity. The following `pymongo/mongodb` operations are supported: `aggregate`, `map_reduce`, `distinct`, `count_documents`, `find_one`, `find`.\n",
    "\n",
    "<div style=\"color: #721c24;\n",
    "    background-color: #f8d7da;\n",
    "    border-color: #f5c6cb;\n",
    "    padding: .75rem 1.25rem;\n",
    "    margin-bottom: 1rem;\n",
    "    border: 1px solid transparent;\n",
    "    border-radius: .25rem;\">\n",
    "    Use with causion and only when absolutely necessary! Does not come with any default noob/accident protection, although such may be of course specified in the query.\n",
    "</div>"
   ]
  },
  {
   "cell_type": "markdown",
   "metadata": {
    "pycharm": {
     "name": "#%%\n"
    }
   },
   "source": [
    "##### Recommendations\n",
    "\n",
    "Kowalski gives a lot of power to the users, so it is expected that it is used responsibly.\n",
    "\n",
    "<span class=\"badge badge-warning\">Tip</span> It is always a good idea to test a query before running it \"full steam\" by limiting the number of returned documents and setting a time-out limit. For example, the following query will return at most 3 matches and will expire after 10 seconds:"
   ]
  },
  {
   "cell_type": "code",
   "execution_count": 76,
   "metadata": {
    "pycharm": {
     "name": "#%%\n"
    }
   },
   "outputs": [
    {
     "data": {
      "application/json": "[object Object]\n[object Object]\n[object Object]",
      "text/plain": [
       "<IPython.core.display.JSON object>"
      ]
     },
     "metadata": {
      "application/json": {
       "expanded": true,
       "root": "root"
      }
     },
     "output_type": "display_data"
    }
   ],
   "source": [
    "q = {\"query_type\": \"general_search\", \n",
    "     \"query\": \"db['ZTF_alerts'].find({'candidate.drb': {'$gt': 0.9}}, {'_id': 1}, \"\n",
    "              \"limit=3, max_time_ms=10000)\" \n",
    "     }\n",
    "r = k.query(query=q)\n",
    "\n",
    "data = r['result_data']['query_result']\n",
    "display(JSON(data, expanded=True))"
   ]
  },
  {
   "cell_type": "markdown",
   "metadata": {
    "pycharm": {
     "name": "#%%\n"
    }
   },
   "source": [
    "Without this limitation, the output will be many GB in size.\n",
    "\n",
    "If you are unsure about the size of the query result, you can try counting the number of returned documents first:"
   ]
  },
  {
   "cell_type": "code",
   "execution_count": null,
   "metadata": {
    "pycharm": {
     "name": "#%%\n"
    }
   },
   "outputs": [],
   "source": [
    "q = {\"query_type\": \"general_search\", \n",
    "     \"query\": \"db['ZTF_alerts'].count_documents({'candidate.rb': {'$gt': 0.99}}, max_time_ms=10000)\" \n",
    "     }\n",
    "\n",
    "r = k.query(query=q)\n",
    "\n",
    "data = r['result_data']['query_result']\n",
    "display(JSON(data, expanded=True))"
   ]
  },
  {
   "cell_type": "markdown",
   "metadata": {
    "pycharm": {
     "name": "#%%\n"
    }
   },
   "source": [
    "Use projections to ditch the fields that you do not need in the result and reduce its size:"
   ]
  },
  {
   "cell_type": "code",
   "execution_count": 79,
   "metadata": {
    "pycharm": {
     "name": "#%%\n"
    }
   },
   "outputs": [
    {
     "data": {
      "application/json": "[object Object]\n[object Object]\n[object Object]",
      "text/plain": [
       "<IPython.core.display.JSON object>"
      ]
     },
     "metadata": {
      "application/json": {
       "expanded": true,
       "root": "root"
      }
     },
     "output_type": "display_data"
    }
   ],
   "source": [
    "q = {\"query_type\": \"general_search\", \n",
    "     \"query\": \"db['ZTF_alerts'].find({'candidate.rb': {'$gt': 0.99}}, \"\n",
    "              \"{'candid': 1, 'objectId': 1, 'candidate.rb': 1}, limit=3, max_time_ms=10000)\" \n",
    "     }\n",
    "\n",
    "r = k.query(query=q)\n",
    "\n",
    "data = r['result_data']['query_result']\n",
    "display(JSON(data, expanded=True))"
   ]
  },
  {
   "cell_type": "markdown",
   "metadata": {
    "pycharm": {
     "name": "#%%\n"
    }
   },
   "source": [
    "You can either specify which fields to return by saying `{'FIELD_1': 1, 'FIELD_2': 1, ...}`,\n",
    "or which ones to leave out keeping all the rest: `{'FIELD_1': 0, 'FIELD_2': 0, ...}`.\n",
    "\n",
    "You get the fastest execution time if the field(s) that you are querying are indexed. In this case, the database needs to only perform a fast search in the index that in most cases fits into Kowalski's memory. If there is no index available, the database will have to load all the actual documents into \n",
    "the memory, which may take a lot of time. You can check the available indexes like this:"
   ]
  },
  {
   "cell_type": "code",
   "execution_count": 81,
   "metadata": {
    "pycharm": {
     "name": "#%%\n"
    }
   },
   "outputs": [],
   "source": [
    "q = {\"query_type\": \"general_search\", \n",
    "     \"query\": \"db['ZTF_alerts'].index_information()\" \n",
    "     }"
   ]
  },
  {
   "cell_type": "markdown",
   "metadata": {
    "pycharm": {
     "name": "#%%\n"
    }
   },
   "source": [
    "Contact Dima if you need a field indexed.\n",
    "\n",
    "When running aggregation pipelines, use `allowDiskUse=True` if you get the \"exceeded memory limit\" error."
   ]
  },
  {
   "cell_type": "markdown",
   "metadata": {
    "pycharm": {
     "name": "#%%\n"
    }
   },
   "source": [
    "##### Examples\n",
    "\n",
    "<span class=\"badge badge-success\">Note</span> In the web interface, you should only type in the \"de-stringed\" `q['query']` value. You can think of it as of the result of `literal_eval(q['query'])`.\n",
    "\n",
    "*Find all ZTF alerts with a given `objectId` and return their `candid`'s*"
   ]
  },
  {
   "cell_type": "code",
   "execution_count": 84,
   "metadata": {
    "pycharm": {
     "name": "#%%\n"
    }
   },
   "outputs": [
    {
     "data": {
      "application/json": "[object Object]",
      "text/plain": [
       "<IPython.core.display.JSON object>"
      ]
     },
     "metadata": {
      "application/json": {
       "expanded": true,
       "root": "root"
      }
     },
     "output_type": "display_data"
    }
   ],
   "source": [
    "q = {\"query_type\": \"general_search\", \n",
    "     \"query\": \"db['ZTF_alerts'].find({'objectId': 'ZTF19abkofjp'}, {'candid': 1, '_id': 0},  max_time_ms=10000)\" \n",
    "     }\n",
    "r = k.query(query=q)\n",
    "\n",
    "data = r['result_data']['query_result']\n",
    "display(JSON(data, expanded=True))"
   ]
  },
  {
   "cell_type": "markdown",
   "metadata": {
    "pycharm": {
     "name": "#%%\n"
    }
   },
   "source": [
    "<span class=\"badge badge-success\">Note</span> In the web interface, you should only type:"
   ]
  },
  {
   "cell_type": "markdown",
   "metadata": {
    "pycharm": {
     "name": "#%%\n"
    }
   },
   "source": [
    "```python\n",
    "db['ZTF_alerts'].find({'objectId': 'ZTF19abkofjp'}, {'candid': 1, '_id': 0},  max_time_ms=10000)\n",
    "```"
   ]
  },
  {
   "cell_type": "markdown",
   "metadata": {
    "pycharm": {
     "name": "#%%\n"
    }
   },
   "source": [
    "---\n",
    "\n",
    "*Find all ZTF alerts with given `objectId`'s*"
   ]
  },
  {
   "cell_type": "code",
   "execution_count": 88,
   "metadata": {
    "pycharm": {
     "name": "#%%\n"
    }
   },
   "outputs": [
    {
     "data": {
      "application/json": "[object Object]\n[object Object]\n[object Object]\n[object Object]\n[object Object]\n[object Object]\n[object Object]\n[object Object]\n[object Object]\n[object Object]\n[object Object]\n[object Object]\n[object Object]\n[object Object]\n[object Object]\n[object Object]\n[object Object]\n[object Object]\n[object Object]\n[object Object]\n[object Object]\n[object Object]\n[object Object]\n[object Object]",
      "text/plain": [
       "<IPython.core.display.JSON object>"
      ]
     },
     "metadata": {
      "application/json": {
       "expanded": false,
       "root": "root"
      }
     },
     "output_type": "display_data"
    }
   ],
   "source": [
    "q = {\"query_type\": \"general_search\", \n",
    "     \"query\": \"db['ZTF_alerts'].find({'objectId': {'$in': ['ZTF19abitskw', 'ZTF19abhcefa']}},  max_time_ms=10000)\" \n",
    "     }\n",
    "r = k.query(query=q)\n",
    "\n",
    "data = r['result_data']['query_result']\n",
    "display(JSON(data, expanded=False))"
   ]
  },
  {
   "cell_type": "markdown",
   "metadata": {
    "pycharm": {
     "name": "#%%\n"
    }
   },
   "source": [
    "##### Spatial (positional) queries\n",
    "\n",
    "It is possible to use the general search interface to execute \"spatial\" queries, including (and not limited to) cone, box, and polygon searches.\n",
    "\n",
    "The `coordinates.radec_geojson` field defined for every object in the database (for all catalogs) has an\n",
    "associated spherical 2D index, which allows for fast positional queries. `MongoDB` supports many query operators, see [here](https://docs.mongodb.com/manual/reference/operator/query-geospatial/) for more details. The caveat to keep in mind is the following: `MongoDB` uses `GeoJSON` objects to represent `2D` positions on the sphere. Both the longitude (RA) and latitude (Dec) must be expressed in decimal degrees, and the valid longitude values are between `-180` and `180`, both inclusive, so you must subtract 180.0 degrees from your RA value."
   ]
  },
  {
   "cell_type": "markdown",
   "metadata": {
    "pycharm": {
     "name": "#%%\n"
    }
   },
   "source": [
    "## Miscellaneous\n",
    "\n",
    "<a href=\"https://www.datacamp.com/community/tutorials/introduction-mongodb-python\" target=\"_blank\">Introduction to MongoDB and Python <i class=\"fa fa-external-link\" aria-hidden=\"true\"></i></a>\n",
    "\n",
    "<a href=\"https://docs.mongodb.com/manual/reference/sql-aggregation-comparison/\" target=\"_blank\">SQL to MongoDB Aggregation Mapping Chart <i class=\"fa fa-external-link\" aria-hidden=\"true\"></i></a>"
   ]
  },
  {
   "cell_type": "code",
   "execution_count": null,
   "metadata": {},
   "outputs": [],
   "source": []
  }
 ],
 "metadata": {
  "kernelspec": {
   "display_name": "Python 3",
   "language": "python",
   "name": "python3"
  },
  "language_info": {
   "codemirror_mode": {
    "name": "ipython",
    "version": 3
   },
   "file_extension": ".py",
   "mimetype": "text/x-python",
   "name": "python",
   "nbconvert_exporter": "python",
   "pygments_lexer": "ipython3",
   "version": "3.6.7"
  },
  "pycharm": {
   "stem_cell": {
    "cell_type": "raw",
    "metadata": {
     "collapsed": false
    },
    "source": []
   }
  }
 },
 "nbformat": 4,
 "nbformat_minor": 4
}
